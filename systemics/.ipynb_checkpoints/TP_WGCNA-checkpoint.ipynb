{
 "cells": [
  {
   "cell_type": "markdown",
   "metadata": {},
   "source": [
    "# TP WGCNA"
   ]
  },
  {
   "cell_type": "code",
   "execution_count": 3,
   "metadata": {},
   "outputs": [],
   "source": [
    "# Load WGCNA package\n",
    "library(WGCNA)\n",
    "# The following setting is important to import the data properly.\n",
    "options(stringsAsFactors = FALSE)"
   ]
  },
  {
   "cell_type": "code",
   "execution_count": 4,
   "metadata": {},
   "outputs": [],
   "source": [
    "# Loading of gene expression data\n",
    "datGeneSummary=read.csv(\"TP_WGCNA/GeneSummaryTutorial.csv\")\n",
    "datTraits=read.csv(\"TP_WGCNA/TraitsTutorial.csv\")\n",
    "datGeneExpr=read.csv(\"TP_WGCNA/MicroarrayDataTutorial.csv\")"
   ]
  },
  {
   "cell_type": "code",
   "execution_count": 5,
   "metadata": {},
   "outputs": [
    {
     "data": {
      "text/html": [
       "<table>\n",
       "<thead><tr><th scope=col>GeneName</th><th scope=col>truemodule</th><th scope=col>SignalGeneIndicator</th><th scope=col>p.Weighted</th><th scope=col>q.Weighted</th><th scope=col>Cor.Weighted</th><th scope=col>Z.Weighted</th><th scope=col>p.Standard</th><th scope=col>q.Standard</th><th scope=col>Cor.Standard</th><th scope=col>Z.Standard</th></tr></thead>\n",
       "<tbody>\n",
       "\t<tr><td>Gene1        </td><td>turquoise    </td><td>0            </td><td>0.9259005    </td><td>0.999982     </td><td>-0.0134934249</td><td>-0.093493701 </td><td>0.9221159    </td><td>0.9970105    </td><td>-0.01418468  </td><td>-0.09828426  </td></tr>\n",
       "\t<tr><td>Gene2        </td><td>turquoise    </td><td>0            </td><td>0.9969814    </td><td>0.999982     </td><td> 0.0005489092</td><td> 0.003802955 </td><td>0.5411428    </td><td>0.9910637    </td><td> 0.08848892  </td><td> 0.61548369  </td></tr>\n",
       "\t<tr><td>Gene3        </td><td>turquoise    </td><td>0            </td><td>0.9410470    </td><td>0.999982     </td><td> 0.0107297703</td><td> 0.074342309 </td><td>0.8860780    </td><td>0.9969623    </td><td> 0.02078479  </td><td> 0.14403234  </td></tr>\n",
       "\t<tr><td>Gene4        </td><td>turquoise    </td><td>0            </td><td>0.9574198    </td><td>0.999982     </td><td>-0.0077465490</td><td>-0.053671276 </td><td>0.8662114    </td><td>0.9969623    </td><td>-0.02444026  </td><td>-0.16937771  </td></tr>\n",
       "\t<tr><td>Gene5        </td><td>turquoise    </td><td>0            </td><td>0.9473075    </td><td>0.999982     </td><td>-0.0095886132</td><td>-0.066434915 </td><td>0.6789285    </td><td>0.9910637    </td><td> 0.06000278  </td><td> 0.41646182  </td></tr>\n",
       "\t<tr><td>Gene6        </td><td>turquoise    </td><td>0            </td><td>0.9361247    </td><td>0.999982     </td><td>-0.0116274356</td><td>-0.080562683 </td><td>0.4402172    </td><td>0.9910637    </td><td>-0.11163446  </td><td>-0.77829107  </td></tr>\n",
       "</tbody>\n",
       "</table>\n"
      ],
      "text/latex": [
       "\\begin{tabular}{r|lllllllllll}\n",
       " GeneName & truemodule & SignalGeneIndicator & p.Weighted & q.Weighted & Cor.Weighted & Z.Weighted & p.Standard & q.Standard & Cor.Standard & Z.Standard\\\\\n",
       "\\hline\n",
       "\t Gene1         & turquoise     & 0             & 0.9259005     & 0.999982      & -0.0134934249 & -0.093493701  & 0.9221159     & 0.9970105     & -0.01418468   & -0.09828426  \\\\\n",
       "\t Gene2         & turquoise     & 0             & 0.9969814     & 0.999982      &  0.0005489092 &  0.003802955  & 0.5411428     & 0.9910637     &  0.08848892   &  0.61548369  \\\\\n",
       "\t Gene3         & turquoise     & 0             & 0.9410470     & 0.999982      &  0.0107297703 &  0.074342309  & 0.8860780     & 0.9969623     &  0.02078479   &  0.14403234  \\\\\n",
       "\t Gene4         & turquoise     & 0             & 0.9574198     & 0.999982      & -0.0077465490 & -0.053671276  & 0.8662114     & 0.9969623     & -0.02444026   & -0.16937771  \\\\\n",
       "\t Gene5         & turquoise     & 0             & 0.9473075     & 0.999982      & -0.0095886132 & -0.066434915  & 0.6789285     & 0.9910637     &  0.06000278   &  0.41646182  \\\\\n",
       "\t Gene6         & turquoise     & 0             & 0.9361247     & 0.999982      & -0.0116274356 & -0.080562683  & 0.4402172     & 0.9910637     & -0.11163446   & -0.77829107  \\\\\n",
       "\\end{tabular}\n"
      ],
      "text/markdown": [
       "\n",
       "GeneName | truemodule | SignalGeneIndicator | p.Weighted | q.Weighted | Cor.Weighted | Z.Weighted | p.Standard | q.Standard | Cor.Standard | Z.Standard | \n",
       "|---|---|---|---|---|---|\n",
       "| Gene1         | turquoise     | 0             | 0.9259005     | 0.999982      | -0.0134934249 | -0.093493701  | 0.9221159     | 0.9970105     | -0.01418468   | -0.09828426   | \n",
       "| Gene2         | turquoise     | 0             | 0.9969814     | 0.999982      |  0.0005489092 |  0.003802955  | 0.5411428     | 0.9910637     |  0.08848892   |  0.61548369   | \n",
       "| Gene3         | turquoise     | 0             | 0.9410470     | 0.999982      |  0.0107297703 |  0.074342309  | 0.8860780     | 0.9969623     |  0.02078479   |  0.14403234   | \n",
       "| Gene4         | turquoise     | 0             | 0.9574198     | 0.999982      | -0.0077465490 | -0.053671276  | 0.8662114     | 0.9969623     | -0.02444026   | -0.16937771   | \n",
       "| Gene5         | turquoise     | 0             | 0.9473075     | 0.999982      | -0.0095886132 | -0.066434915  | 0.6789285     | 0.9910637     |  0.06000278   |  0.41646182   | \n",
       "| Gene6         | turquoise     | 0             | 0.9361247     | 0.999982      | -0.0116274356 | -0.080562683  | 0.4402172     | 0.9910637     | -0.11163446   | -0.77829107   | \n",
       "\n",
       "\n"
      ],
      "text/plain": [
       "  GeneName truemodule SignalGeneIndicator p.Weighted q.Weighted Cor.Weighted \n",
       "1 Gene1    turquoise  0                   0.9259005  0.999982   -0.0134934249\n",
       "2 Gene2    turquoise  0                   0.9969814  0.999982    0.0005489092\n",
       "3 Gene3    turquoise  0                   0.9410470  0.999982    0.0107297703\n",
       "4 Gene4    turquoise  0                   0.9574198  0.999982   -0.0077465490\n",
       "5 Gene5    turquoise  0                   0.9473075  0.999982   -0.0095886132\n",
       "6 Gene6    turquoise  0                   0.9361247  0.999982   -0.0116274356\n",
       "  Z.Weighted   p.Standard q.Standard Cor.Standard Z.Standard \n",
       "1 -0.093493701 0.9221159  0.9970105  -0.01418468  -0.09828426\n",
       "2  0.003802955 0.5411428  0.9910637   0.08848892   0.61548369\n",
       "3  0.074342309 0.8860780  0.9969623   0.02078479   0.14403234\n",
       "4 -0.053671276 0.8662114  0.9969623  -0.02444026  -0.16937771\n",
       "5 -0.066434915 0.6789285  0.9910637   0.06000278   0.41646182\n",
       "6 -0.080562683 0.4402172  0.9910637  -0.11163446  -0.77829107"
      ]
     },
     "metadata": {},
     "output_type": "display_data"
    }
   ],
   "source": [
    "head(datGeneSummary)"
   ]
  },
  {
   "cell_type": "code",
   "execution_count": 20,
   "metadata": {},
   "outputs": [
    {
     "data": {
      "text/html": [
       "<table>\n",
       "<thead><tr><th scope=col>ArrayName</th><th scope=col>Trait.y</th><th scope=col>Trait.MEblue</th><th scope=col>Trait.MEbrown</th><th scope=col>Trait.MEgreen</th><th scope=col>Trait.MEgrey</th><th scope=col>Trait.MEturquoise</th><th scope=col>MEyellow</th></tr></thead>\n",
       "<tbody>\n",
       "\t<tr><td>Sample1     </td><td>1           </td><td>-0.02039079 </td><td> 0.06915985 </td><td>-0.13874993 </td><td>-0.06687707 </td><td>-0.05038756 </td><td> 0.002085968</td></tr>\n",
       "\t<tr><td>Sample2     </td><td>1           </td><td> 0.01062292 </td><td> 0.24403639 </td><td> 0.01513903 </td><td>-0.01593587 </td><td> 0.02762906 </td><td> 0.033323836</td></tr>\n",
       "\t<tr><td>Sample3     </td><td>1           </td><td>-0.10936605 </td><td> 0.23282339 </td><td>-0.15991830 </td><td> 0.07130966 </td><td>-0.12103529 </td><td>-0.003678822</td></tr>\n",
       "\t<tr><td>Sample4     </td><td>2           </td><td>-0.07024973 </td><td>-0.01402537 </td><td> 0.24508355 </td><td> 0.04663092 </td><td> 0.05266094 </td><td>-0.046692130</td></tr>\n",
       "\t<tr><td>Sample5     </td><td>2           </td><td>-0.20183345 </td><td>-0.35221354 </td><td> 0.03421355 </td><td> 0.02949080 </td><td>-0.07676831 </td><td> 0.065093502</td></tr>\n",
       "\t<tr><td>Sample6     </td><td>2           </td><td> 0.03346489 </td><td> 0.19114112 </td><td>-0.18730526 </td><td> 0.06262350 </td><td> 0.32416979 </td><td> 0.153971948</td></tr>\n",
       "</tbody>\n",
       "</table>\n"
      ],
      "text/latex": [
       "\\begin{tabular}{r|llllllll}\n",
       " ArrayName & Trait.y & Trait.MEblue & Trait.MEbrown & Trait.MEgreen & Trait.MEgrey & Trait.MEturquoise & MEyellow\\\\\n",
       "\\hline\n",
       "\t Sample1      & 1            & -0.02039079  &  0.06915985  & -0.13874993  & -0.06687707  & -0.05038756  &  0.002085968\\\\\n",
       "\t Sample2      & 1            &  0.01062292  &  0.24403639  &  0.01513903  & -0.01593587  &  0.02762906  &  0.033323836\\\\\n",
       "\t Sample3      & 1            & -0.10936605  &  0.23282339  & -0.15991830  &  0.07130966  & -0.12103529  & -0.003678822\\\\\n",
       "\t Sample4      & 2            & -0.07024973  & -0.01402537  &  0.24508355  &  0.04663092  &  0.05266094  & -0.046692130\\\\\n",
       "\t Sample5      & 2            & -0.20183345  & -0.35221354  &  0.03421355  &  0.02949080  & -0.07676831  &  0.065093502\\\\\n",
       "\t Sample6      & 2            &  0.03346489  &  0.19114112  & -0.18730526  &  0.06262350  &  0.32416979  &  0.153971948\\\\\n",
       "\\end{tabular}\n"
      ],
      "text/markdown": [
       "\n",
       "ArrayName | Trait.y | Trait.MEblue | Trait.MEbrown | Trait.MEgreen | Trait.MEgrey | Trait.MEturquoise | MEyellow | \n",
       "|---|---|---|---|---|---|\n",
       "| Sample1      | 1            | -0.02039079  |  0.06915985  | -0.13874993  | -0.06687707  | -0.05038756  |  0.002085968 | \n",
       "| Sample2      | 1            |  0.01062292  |  0.24403639  |  0.01513903  | -0.01593587  |  0.02762906  |  0.033323836 | \n",
       "| Sample3      | 1            | -0.10936605  |  0.23282339  | -0.15991830  |  0.07130966  | -0.12103529  | -0.003678822 | \n",
       "| Sample4      | 2            | -0.07024973  | -0.01402537  |  0.24508355  |  0.04663092  |  0.05266094  | -0.046692130 | \n",
       "| Sample5      | 2            | -0.20183345  | -0.35221354  |  0.03421355  |  0.02949080  | -0.07676831  |  0.065093502 | \n",
       "| Sample6      | 2            |  0.03346489  |  0.19114112  | -0.18730526  |  0.06262350  |  0.32416979  |  0.153971948 | \n",
       "\n",
       "\n"
      ],
      "text/plain": [
       "  ArrayName Trait.y Trait.MEblue Trait.MEbrown Trait.MEgreen Trait.MEgrey\n",
       "1 Sample1   1       -0.02039079   0.06915985   -0.13874993   -0.06687707 \n",
       "2 Sample2   1        0.01062292   0.24403639    0.01513903   -0.01593587 \n",
       "3 Sample3   1       -0.10936605   0.23282339   -0.15991830    0.07130966 \n",
       "4 Sample4   2       -0.07024973  -0.01402537    0.24508355    0.04663092 \n",
       "5 Sample5   2       -0.20183345  -0.35221354    0.03421355    0.02949080 \n",
       "6 Sample6   2        0.03346489   0.19114112   -0.18730526    0.06262350 \n",
       "  Trait.MEturquoise MEyellow    \n",
       "1 -0.05038756        0.002085968\n",
       "2  0.02762906        0.033323836\n",
       "3 -0.12103529       -0.003678822\n",
       "4  0.05266094       -0.046692130\n",
       "5 -0.07676831        0.065093502\n",
       "6  0.32416979        0.153971948"
      ]
     },
     "metadata": {},
     "output_type": "display_data"
    }
   ],
   "source": [
    "head(datTraits)"
   ]
  },
  {
   "cell_type": "code",
   "execution_count": 7,
   "metadata": {},
   "outputs": [
    {
     "data": {
      "text/html": [
       "<table>\n",
       "<thead><tr><th scope=col>GeneName</th><th scope=col>Sample1</th><th scope=col>Sample2</th><th scope=col>Sample3</th><th scope=col>Sample4</th><th scope=col>Sample5</th><th scope=col>Sample6</th><th scope=col>Sample7</th><th scope=col>Sample8</th><th scope=col>Sample9</th><th scope=col>⋯</th><th scope=col>Sample41</th><th scope=col>Sample42</th><th scope=col>Sample43</th><th scope=col>Sample44</th><th scope=col>Sample45</th><th scope=col>Sample46</th><th scope=col>Sample47</th><th scope=col>Sample48</th><th scope=col>Sample49</th><th scope=col>Sample50</th></tr></thead>\n",
       "<tbody>\n",
       "\t<tr><td>Gene1      </td><td>-0.76903180</td><td> 0.2010896 </td><td>-0.8929247 </td><td> 0.28616899</td><td>-0.6224324 </td><td> 1.569568  </td><td> 1.4352953 </td><td> 1.1534324 </td><td> 0.9080368 </td><td>⋯          </td><td>-1.584393  </td><td> 1.231892  </td><td>-1.6263132 </td><td>-0.2686161 </td><td>-0.7403254 </td><td>-0.5711702 </td><td> 2.572834  </td><td> 0.28019730</td><td>-1.291539  </td><td>-1.5078133 </td></tr>\n",
       "\t<tr><td>Gene2      </td><td>-0.25281902</td><td> 0.4293141 </td><td>-1.1007358 </td><td> 0.05983439</td><td>-0.6152275 </td><td> 1.669728  </td><td> 1.2668673 </td><td> 0.6786311 </td><td> 1.0485533 </td><td>⋯          </td><td>-1.676391  </td><td> 1.609031  </td><td>-1.4185705 </td><td>-0.3059457 </td><td>-1.3366037 </td><td>-0.2040304 </td><td> 2.419477  </td><td> 0.35565240</td><td>-1.737329  </td><td>-1.5592725 </td></tr>\n",
       "\t<tr><td>Gene3      </td><td> 0.33073345</td><td>-0.2741976 </td><td> 0.7029428 </td><td> 0.02233195</td><td> 0.8093945 </td><td>-1.673001  </td><td>-0.6530627 </td><td>-1.0506137 </td><td> 0.1165935 </td><td>⋯          </td><td> 1.460999  </td><td>-1.184130  </td><td> 2.0217600 </td><td> 0.2243049 </td><td> 0.5920519 </td><td> 0.7724444 </td><td>-2.861968  </td><td>-0.60874570</td><td> 1.271282  </td><td> 1.8548501 </td></tr>\n",
       "\t<tr><td>Gene4      </td><td> 0.01335525</td><td> 0.1155758 </td><td>-0.4554590 </td><td> 0.04184443</td><td>-0.4602345 </td><td> 2.132252  </td><td> 1.1245297 </td><td> 1.1037122 </td><td> 0.7818964 </td><td>⋯          </td><td>-1.381114  </td><td> 1.355036  </td><td>-1.9911868 </td><td>-1.1113675 </td><td>-1.2915681 </td><td>-0.3266560 </td><td> 2.507950  </td><td> 0.15494129</td><td>-1.515697  </td><td>-2.2272594 </td></tr>\n",
       "\t<tr><td>Gene5      </td><td> 0.30580959</td><td> 0.1004434 </td><td>-0.6086998 </td><td>-0.32522219</td><td>-1.0474164 </td><td> 2.914156  </td><td> 0.5821223 </td><td> 0.9854730 </td><td> 0.5109526 </td><td>⋯          </td><td>-1.315328  </td><td> 1.492581  </td><td>-0.9966227 </td><td>-0.1284615 </td><td>-2.3054006 </td><td>-0.3648615 </td><td> 1.732010  </td><td>-0.01484488</td><td>-1.239671  </td><td>-1.2596985 </td></tr>\n",
       "\t<tr><td>Gene6      </td><td> 0.84871917</td><td>-0.8866578 </td><td> 0.4384386 </td><td>-0.02703332</td><td> 0.4270420 </td><td>-2.057772  </td><td>-0.4740660 </td><td>-1.1939775 </td><td>-0.2793895 </td><td>⋯          </td><td> 1.357187  </td><td>-1.163260  </td><td> 1.7372758 </td><td>-0.1773157 </td><td> 0.9745554 </td><td> 0.4676342 </td><td>-1.553066  </td><td>-0.94135317</td><td> 2.256630  </td><td> 0.7451222 </td></tr>\n",
       "</tbody>\n",
       "</table>\n"
      ],
      "text/latex": [
       "\\begin{tabular}{r|lllllllllllllllllllllllllllllllllllllllllllllllllll}\n",
       " GeneName & Sample1 & Sample2 & Sample3 & Sample4 & Sample5 & Sample6 & Sample7 & Sample8 & Sample9 & ⋯ & Sample41 & Sample42 & Sample43 & Sample44 & Sample45 & Sample46 & Sample47 & Sample48 & Sample49 & Sample50\\\\\n",
       "\\hline\n",
       "\t Gene1       & -0.76903180 &  0.2010896  & -0.8929247  &  0.28616899 & -0.6224324  &  1.569568   &  1.4352953  &  1.1534324  &  0.9080368  & ⋯           & -1.584393   &  1.231892   & -1.6263132  & -0.2686161  & -0.7403254  & -0.5711702  &  2.572834   &  0.28019730 & -1.291539   & -1.5078133 \\\\\n",
       "\t Gene2       & -0.25281902 &  0.4293141  & -1.1007358  &  0.05983439 & -0.6152275  &  1.669728   &  1.2668673  &  0.6786311  &  1.0485533  & ⋯           & -1.676391   &  1.609031   & -1.4185705  & -0.3059457  & -1.3366037  & -0.2040304  &  2.419477   &  0.35565240 & -1.737329   & -1.5592725 \\\\\n",
       "\t Gene3       &  0.33073345 & -0.2741976  &  0.7029428  &  0.02233195 &  0.8093945  & -1.673001   & -0.6530627  & -1.0506137  &  0.1165935  & ⋯           &  1.460999   & -1.184130   &  2.0217600  &  0.2243049  &  0.5920519  &  0.7724444  & -2.861968   & -0.60874570 &  1.271282   &  1.8548501 \\\\\n",
       "\t Gene4       &  0.01335525 &  0.1155758  & -0.4554590  &  0.04184443 & -0.4602345  &  2.132252   &  1.1245297  &  1.1037122  &  0.7818964  & ⋯           & -1.381114   &  1.355036   & -1.9911868  & -1.1113675  & -1.2915681  & -0.3266560  &  2.507950   &  0.15494129 & -1.515697   & -2.2272594 \\\\\n",
       "\t Gene5       &  0.30580959 &  0.1004434  & -0.6086998  & -0.32522219 & -1.0474164  &  2.914156   &  0.5821223  &  0.9854730  &  0.5109526  & ⋯           & -1.315328   &  1.492581   & -0.9966227  & -0.1284615  & -2.3054006  & -0.3648615  &  1.732010   & -0.01484488 & -1.239671   & -1.2596985 \\\\\n",
       "\t Gene6       &  0.84871917 & -0.8866578  &  0.4384386  & -0.02703332 &  0.4270420  & -2.057772   & -0.4740660  & -1.1939775  & -0.2793895  & ⋯           &  1.357187   & -1.163260   &  1.7372758  & -0.1773157  &  0.9745554  &  0.4676342  & -1.553066   & -0.94135317 &  2.256630   &  0.7451222 \\\\\n",
       "\\end{tabular}\n"
      ],
      "text/markdown": [
       "\n",
       "GeneName | Sample1 | Sample2 | Sample3 | Sample4 | Sample5 | Sample6 | Sample7 | Sample8 | Sample9 | ⋯ | Sample41 | Sample42 | Sample43 | Sample44 | Sample45 | Sample46 | Sample47 | Sample48 | Sample49 | Sample50 | \n",
       "|---|---|---|---|---|---|\n",
       "| Gene1       | -0.76903180 |  0.2010896  | -0.8929247  |  0.28616899 | -0.6224324  |  1.569568   |  1.4352953  |  1.1534324  |  0.9080368  | ⋯           | -1.584393   |  1.231892   | -1.6263132  | -0.2686161  | -0.7403254  | -0.5711702  |  2.572834   |  0.28019730 | -1.291539   | -1.5078133  | \n",
       "| Gene2       | -0.25281902 |  0.4293141  | -1.1007358  |  0.05983439 | -0.6152275  |  1.669728   |  1.2668673  |  0.6786311  |  1.0485533  | ⋯           | -1.676391   |  1.609031   | -1.4185705  | -0.3059457  | -1.3366037  | -0.2040304  |  2.419477   |  0.35565240 | -1.737329   | -1.5592725  | \n",
       "| Gene3       |  0.33073345 | -0.2741976  |  0.7029428  |  0.02233195 |  0.8093945  | -1.673001   | -0.6530627  | -1.0506137  |  0.1165935  | ⋯           |  1.460999   | -1.184130   |  2.0217600  |  0.2243049  |  0.5920519  |  0.7724444  | -2.861968   | -0.60874570 |  1.271282   |  1.8548501  | \n",
       "| Gene4       |  0.01335525 |  0.1155758  | -0.4554590  |  0.04184443 | -0.4602345  |  2.132252   |  1.1245297  |  1.1037122  |  0.7818964  | ⋯           | -1.381114   |  1.355036   | -1.9911868  | -1.1113675  | -1.2915681  | -0.3266560  |  2.507950   |  0.15494129 | -1.515697   | -2.2272594  | \n",
       "| Gene5       |  0.30580959 |  0.1004434  | -0.6086998  | -0.32522219 | -1.0474164  |  2.914156   |  0.5821223  |  0.9854730  |  0.5109526  | ⋯           | -1.315328   |  1.492581   | -0.9966227  | -0.1284615  | -2.3054006  | -0.3648615  |  1.732010   | -0.01484488 | -1.239671   | -1.2596985  | \n",
       "| Gene6       |  0.84871917 | -0.8866578  |  0.4384386  | -0.02703332 |  0.4270420  | -2.057772   | -0.4740660  | -1.1939775  | -0.2793895  | ⋯           |  1.357187   | -1.163260   |  1.7372758  | -0.1773157  |  0.9745554  |  0.4676342  | -1.553066   | -0.94135317 |  2.256630   |  0.7451222  | \n",
       "\n",
       "\n"
      ],
      "text/plain": [
       "  GeneName Sample1     Sample2    Sample3    Sample4     Sample5    Sample6  \n",
       "1 Gene1    -0.76903180  0.2010896 -0.8929247  0.28616899 -0.6224324  1.569568\n",
       "2 Gene2    -0.25281902  0.4293141 -1.1007358  0.05983439 -0.6152275  1.669728\n",
       "3 Gene3     0.33073345 -0.2741976  0.7029428  0.02233195  0.8093945 -1.673001\n",
       "4 Gene4     0.01335525  0.1155758 -0.4554590  0.04184443 -0.4602345  2.132252\n",
       "5 Gene5     0.30580959  0.1004434 -0.6086998 -0.32522219 -1.0474164  2.914156\n",
       "6 Gene6     0.84871917 -0.8866578  0.4384386 -0.02703332  0.4270420 -2.057772\n",
       "  Sample7    Sample8    Sample9    ⋯ Sample41  Sample42  Sample43   Sample44  \n",
       "1  1.4352953  1.1534324  0.9080368 ⋯ -1.584393  1.231892 -1.6263132 -0.2686161\n",
       "2  1.2668673  0.6786311  1.0485533 ⋯ -1.676391  1.609031 -1.4185705 -0.3059457\n",
       "3 -0.6530627 -1.0506137  0.1165935 ⋯  1.460999 -1.184130  2.0217600  0.2243049\n",
       "4  1.1245297  1.1037122  0.7818964 ⋯ -1.381114  1.355036 -1.9911868 -1.1113675\n",
       "5  0.5821223  0.9854730  0.5109526 ⋯ -1.315328  1.492581 -0.9966227 -0.1284615\n",
       "6 -0.4740660 -1.1939775 -0.2793895 ⋯  1.357187 -1.163260  1.7372758 -0.1773157\n",
       "  Sample45   Sample46   Sample47  Sample48    Sample49  Sample50  \n",
       "1 -0.7403254 -0.5711702  2.572834  0.28019730 -1.291539 -1.5078133\n",
       "2 -1.3366037 -0.2040304  2.419477  0.35565240 -1.737329 -1.5592725\n",
       "3  0.5920519  0.7724444 -2.861968 -0.60874570  1.271282  1.8548501\n",
       "4 -1.2915681 -0.3266560  2.507950  0.15494129 -1.515697 -2.2272594\n",
       "5 -2.3054006 -0.3648615  1.732010 -0.01484488 -1.239671 -1.2596985\n",
       "6  0.9745554  0.4676342 -1.553066 -0.94135317  2.256630  0.7451222"
      ]
     },
     "metadata": {},
     "output_type": "display_data"
    }
   ],
   "source": [
    "head(datGeneExpr)"
   ]
  },
  {
   "cell_type": "code",
   "execution_count": 9,
   "metadata": {},
   "outputs": [],
   "source": [
    "# This vector contains the microarray sample names\n",
    "SampleName=colnames(datGeneExpr)[2:length(colnames(datGeneExpr))]\n",
    "# This vector contains the gene names\n",
    "GeneName=datGeneExpr$GeneName\n",
    "# We transpose the data so that the rows correspond to samples and the columns corresp\n",
    "# Since the first column contains the gene names, we exclude it.\n",
    "datExpr=data.frame(t(datGeneExpr[,-1]))\n",
    "names(datExpr)=datGeneExpr[,1]\n",
    "dimnames(datExpr)[[1]]=SampleName\n",
    "#Also, since we simulated the data, we keep the true module color:\n",
    "truemodule=datGeneSummary$truemodule"
   ]
  },
  {
   "cell_type": "code",
   "execution_count": 16,
   "metadata": {},
   "outputs": [
    {
     "data": {
      "text/html": [
       "<table>\n",
       "<thead><tr><th></th><th scope=col>Gene1</th><th scope=col>Gene2</th><th scope=col>Gene3</th><th scope=col>Gene4</th><th scope=col>Gene5</th><th scope=col>Gene6</th><th scope=col>Gene7</th><th scope=col>Gene8</th><th scope=col>Gene9</th><th scope=col>Gene10</th><th scope=col>⋯</th><th scope=col>Gene2991</th><th scope=col>Gene2992</th><th scope=col>Gene2993</th><th scope=col>Gene2994</th><th scope=col>Gene2995</th><th scope=col>Gene2996</th><th scope=col>Gene2997</th><th scope=col>Gene2998</th><th scope=col>Gene2999</th><th scope=col>Gene3000</th></tr></thead>\n",
       "<tbody>\n",
       "\t<tr><th scope=row>Sample1</th><td>-0.7690318  </td><td>-0.25281902 </td><td> 0.33073345 </td><td> 0.01335525 </td><td> 0.3058096  </td><td> 0.84871917 </td><td>-0.05517512 </td><td>-0.6878062  </td><td>-0.2074629  </td><td> 0.8324603  </td><td>⋯           </td><td>-0.70043338 </td><td>-0.2756895  </td><td>-0.9716374  </td><td>-0.06752099 </td><td>-1.4381252  </td><td>-0.541477969</td><td> 0.9371256  </td><td>-0.5089387  </td><td> 0.8207603  </td><td>0.6023660   </td></tr>\n",
       "\t<tr><th scope=row>Sample2</th><td> 0.2010896  </td><td> 0.42931409 </td><td>-0.27419755 </td><td> 0.11557575 </td><td> 0.1004434  </td><td>-0.88665785 </td><td>-0.71263979 </td><td> 0.5978920  </td><td>-0.5133446  </td><td> 0.2129147  </td><td>⋯           </td><td> 0.07679149 </td><td> 1.6464085  </td><td> 0.1576832  </td><td> 0.89798853 </td><td>-0.3224966  </td><td> 0.565416521</td><td>-0.1247173  </td><td> 1.1824472  </td><td>-0.2745116  </td><td>0.3250258   </td></tr>\n",
       "\t<tr><th scope=row>Sample3</th><td>-0.8929247  </td><td>-1.10073581 </td><td> 0.70294278 </td><td>-0.45545899 </td><td>-0.6086998  </td><td> 0.43843862 </td><td>-0.89374789 </td><td>-1.4098562  </td><td>-0.8239830  </td><td> 0.6297360  </td><td>⋯           </td><td>-1.14240160 </td><td>-1.4087360  </td><td>-0.3662421  </td><td> 0.13145407 </td><td>-0.1652087  </td><td> 0.230341527</td><td> 0.9548922  </td><td>-0.3028331  </td><td> 0.8185947  </td><td>0.5657353   </td></tr>\n",
       "\t<tr><th scope=row>Sample4</th><td> 0.2861690  </td><td> 0.05983439 </td><td> 0.02233195 </td><td> 0.04184443 </td><td>-0.3252222  </td><td>-0.02703332 </td><td>-0.17070069 </td><td> 0.4879764  </td><td>-0.9170318  </td><td>-0.5662131  </td><td>⋯           </td><td>-2.27513393 </td><td> 2.1389501  </td><td> 1.9232034  </td><td> 1.85009893 </td><td>-0.4242964  </td><td>-0.001087641</td><td>-1.2627938  </td><td>-1.2465297  </td><td> 0.0105623  </td><td>0.6578118   </td></tr>\n",
       "\t<tr><th scope=row>Sample5</th><td>-0.6224324  </td><td>-0.61522751 </td><td> 0.80939447 </td><td>-0.46023446 </td><td>-1.0474164  </td><td> 0.42704199 </td><td> 0.88542282 </td><td>-0.1346075  </td><td> 0.3750083  </td><td> 0.4572863  </td><td>⋯           </td><td> 0.32132331 </td><td> 1.5597477  </td><td> 0.3961896  </td><td>-0.03726517 </td><td> 2.3106853  </td><td> 0.253691275</td><td>-0.7654628  </td><td> 0.5044870  </td><td>-0.2950434  </td><td>0.1403910   </td></tr>\n",
       "\t<tr><th scope=row>Sample6</th><td> 1.5695682  </td><td> 1.66972847 </td><td>-1.67300053 </td><td> 2.13225233 </td><td> 2.9141561  </td><td>-2.05777234 </td><td> 2.42458573 </td><td> 2.0185100  </td><td> 1.5954596  </td><td>-1.1776976  </td><td>⋯           </td><td>-0.19793735 </td><td> 0.3296290  </td><td> 0.7938744  </td><td> 1.22664950 </td><td>-0.7149483  </td><td> 0.218237885</td><td> 1.9364153  </td><td>-1.3295601  </td><td>-0.4797088  </td><td>2.7356011   </td></tr>\n",
       "</tbody>\n",
       "</table>\n"
      ],
      "text/latex": [
       "\\begin{tabular}{r|llllllllllllllllllllllllllllllllllllllllllllllllllllllllllllllllllllllllllllllllllllllllllllllllllllllllllllllllllllllllllllllllllllllllllllllllllllllllllllllllllllllllllllllllllllllllllllllllllllllllllllllllllllllllllllllllllllllllllllllllllllllllllllllllllllllllllllllllllllllllllllllllllllllllllllllllllllllllllllllllllllllllllllllllllllllllllllllllllllllllllllllllllllllllllllllllllllllllllllllllllllllllllllllllllllllllllllllllllllllllllllllllllllllllllllllllllllllllllllllllllllllllllllllllllllllllllllllllllllllllllllllllllllllllllllllllllllllllllllllllllllllllllllllllllllllllllllllllllllllllllllllllllllllllllllllllllllllllllllllllllllllllllllllllllllllllllllllllllllllllllllllllllllllllllllllllllllllllllllllllllllllllllllllllllllllllllllllllllllllllllllllllllllllllllllllllllllllllllllllllllllllllllllllllllllllllllllllllllllllllllllllllllllllllllllllllllllllllllllllllllllllllllllllllllllllllllllllllllllllllllllllllllllllllllllllllllllllllllllllllllllllllllllllllllllllllllllllllllllllllllllllllllllllllllllllllllllllllllllllllllllllllllllllllllllllllllllllllllllllllllllllllllllllllllllllllllllllllllllllllllllllllllllllllllllllllllllllllllllllllllllllllllllllllllllllllllllllllllllllllllllllllllllllllllllllllllllllllllllllllllllllllllllllllllllllllllllllllllllllllllllllllllllllllllllllllllllllllllllllllllllllllllllllllllllllllllllllllllllllllllllllllllllllllllllllllllllllllllllllllllllllllllllllllllllllllllllllllllllllllllllllllllllllllllllllllllllllllllllllllllllllllllllllllllllllllllllllllllllllllllllllllllllllllllllllllllllllllllllllllllllllllllllllllllllllllllllllllllllllllllllllllllllllllllllllllllllllllllllllllllllllllllllllllllllllllllllllllllllllllllllllllllllllllllllllllllllllllllllllllllllllllllllllllllllllllllllllllllllllllllllllllllllllllllllllllllllllllllllllllllllllllllllllllllllllllllllllllllllllllllllllllllllllllllllllllllllllllllllllllllllllllllllllllllllllllllllllllllllllllllllllllllllllllllllllllllllllllllllllllllllllllllllllllllllllllllllllllllllllllllllllllllllllllllllllllllllllllllllllllllllllllllllllllllllllllllllllllllllllllllllllllllllllllllllllllllllllllllllllllllllllllllllllllllllllllllllllllllllllllllllllllllllllllllllllllllllllllllllllllllllllllllllllllllllllllllllllllllllllllllllllllllllllllllllllllllllllllllllllllllllllllllllllllllllllllllllllllllllllllllllllllllllllllllllllllllllllllllllllllllllllllllllllllllllllllllllllllllllllllllllllllllllllllllllllllllllllllllllllllllllllllllllllllllllllllllllllllllllllllllllllllllllllllllllllllllllllllllllllllllllllllllllllllllllllllllllllllllllllllllllllllllllllllllllllllllllllllllllllllllllllllllllllllllllllllllllllllllllllllllllllllllllllllllllllllllllllllllllllllllllllllllllllllllllllllllllllllllllllllllllllllllllllllllllllllllllllllllllllllllllllllllllllllllllllllllllllllllllllllllllllllllllllllllllllllllllllllllllllllllllllllllllllllllllllllllllllllllllllllllllllllllllllllllllllllllllllllllllllllllllllllllllllllllllllllllllllllllllllllllllllllllllllllllllllllllllllllllllllll}\n",
       "  & Gene1 & Gene2 & Gene3 & Gene4 & Gene5 & Gene6 & Gene7 & Gene8 & Gene9 & Gene10 & ⋯ & Gene2991 & Gene2992 & Gene2993 & Gene2994 & Gene2995 & Gene2996 & Gene2997 & Gene2998 & Gene2999 & Gene3000\\\\\n",
       "\\hline\n",
       "\tSample1 & -0.7690318   & -0.25281902  &  0.33073345  &  0.01335525  &  0.3058096   &  0.84871917  & -0.05517512  & -0.6878062   & -0.2074629   &  0.8324603   & ⋯            & -0.70043338  & -0.2756895   & -0.9716374   & -0.06752099  & -1.4381252   & -0.541477969 &  0.9371256   & -0.5089387   &  0.8207603   & 0.6023660   \\\\\n",
       "\tSample2 &  0.2010896   &  0.42931409  & -0.27419755  &  0.11557575  &  0.1004434   & -0.88665785  & -0.71263979  &  0.5978920   & -0.5133446   &  0.2129147   & ⋯            &  0.07679149  &  1.6464085   &  0.1576832   &  0.89798853  & -0.3224966   &  0.565416521 & -0.1247173   &  1.1824472   & -0.2745116   & 0.3250258   \\\\\n",
       "\tSample3 & -0.8929247   & -1.10073581  &  0.70294278  & -0.45545899  & -0.6086998   &  0.43843862  & -0.89374789  & -1.4098562   & -0.8239830   &  0.6297360   & ⋯            & -1.14240160  & -1.4087360   & -0.3662421   &  0.13145407  & -0.1652087   &  0.230341527 &  0.9548922   & -0.3028331   &  0.8185947   & 0.5657353   \\\\\n",
       "\tSample4 &  0.2861690   &  0.05983439  &  0.02233195  &  0.04184443  & -0.3252222   & -0.02703332  & -0.17070069  &  0.4879764   & -0.9170318   & -0.5662131   & ⋯            & -2.27513393  &  2.1389501   &  1.9232034   &  1.85009893  & -0.4242964   & -0.001087641 & -1.2627938   & -1.2465297   &  0.0105623   & 0.6578118   \\\\\n",
       "\tSample5 & -0.6224324   & -0.61522751  &  0.80939447  & -0.46023446  & -1.0474164   &  0.42704199  &  0.88542282  & -0.1346075   &  0.3750083   &  0.4572863   & ⋯            &  0.32132331  &  1.5597477   &  0.3961896   & -0.03726517  &  2.3106853   &  0.253691275 & -0.7654628   &  0.5044870   & -0.2950434   & 0.1403910   \\\\\n",
       "\tSample6 &  1.5695682   &  1.66972847  & -1.67300053  &  2.13225233  &  2.9141561   & -2.05777234  &  2.42458573  &  2.0185100   &  1.5954596   & -1.1776976   & ⋯            & -0.19793735  &  0.3296290   &  0.7938744   &  1.22664950  & -0.7149483   &  0.218237885 &  1.9364153   & -1.3295601   & -0.4797088   & 2.7356011   \\\\\n",
       "\\end{tabular}\n"
      ],
      "text/markdown": [
       "\n",
       "| <!--/--> | Gene1 | Gene2 | Gene3 | Gene4 | Gene5 | Gene6 | Gene7 | Gene8 | Gene9 | Gene10 | ⋯ | Gene2991 | Gene2992 | Gene2993 | Gene2994 | Gene2995 | Gene2996 | Gene2997 | Gene2998 | Gene2999 | Gene3000 | \n",
       "|---|---|---|---|---|---|\n",
       "| Sample1 | -0.7690318   | -0.25281902  |  0.33073345  |  0.01335525  |  0.3058096   |  0.84871917  | -0.05517512  | -0.6878062   | -0.2074629   |  0.8324603   | ⋯            | -0.70043338  | -0.2756895   | -0.9716374   | -0.06752099  | -1.4381252   | -0.541477969 |  0.9371256   | -0.5089387   |  0.8207603   | 0.6023660    | \n",
       "| Sample2 |  0.2010896   |  0.42931409  | -0.27419755  |  0.11557575  |  0.1004434   | -0.88665785  | -0.71263979  |  0.5978920   | -0.5133446   |  0.2129147   | ⋯            |  0.07679149  |  1.6464085   |  0.1576832   |  0.89798853  | -0.3224966   |  0.565416521 | -0.1247173   |  1.1824472   | -0.2745116   | 0.3250258    | \n",
       "| Sample3 | -0.8929247   | -1.10073581  |  0.70294278  | -0.45545899  | -0.6086998   |  0.43843862  | -0.89374789  | -1.4098562   | -0.8239830   |  0.6297360   | ⋯            | -1.14240160  | -1.4087360   | -0.3662421   |  0.13145407  | -0.1652087   |  0.230341527 |  0.9548922   | -0.3028331   |  0.8185947   | 0.5657353    | \n",
       "| Sample4 |  0.2861690   |  0.05983439  |  0.02233195  |  0.04184443  | -0.3252222   | -0.02703332  | -0.17070069  |  0.4879764   | -0.9170318   | -0.5662131   | ⋯            | -2.27513393  |  2.1389501   |  1.9232034   |  1.85009893  | -0.4242964   | -0.001087641 | -1.2627938   | -1.2465297   |  0.0105623   | 0.6578118    | \n",
       "| Sample5 | -0.6224324   | -0.61522751  |  0.80939447  | -0.46023446  | -1.0474164   |  0.42704199  |  0.88542282  | -0.1346075   |  0.3750083   |  0.4572863   | ⋯            |  0.32132331  |  1.5597477   |  0.3961896   | -0.03726517  |  2.3106853   |  0.253691275 | -0.7654628   |  0.5044870   | -0.2950434   | 0.1403910    | \n",
       "| Sample6 |  1.5695682   |  1.66972847  | -1.67300053  |  2.13225233  |  2.9141561   | -2.05777234  |  2.42458573  |  2.0185100   |  1.5954596   | -1.1776976   | ⋯            | -0.19793735  |  0.3296290   |  0.7938744   |  1.22664950  | -0.7149483   |  0.218237885 |  1.9364153   | -1.3295601   | -0.4797088   | 2.7356011    | \n",
       "\n",
       "\n"
      ],
      "text/plain": [
       "        Gene1      Gene2       Gene3       Gene4       Gene5      Gene6      \n",
       "Sample1 -0.7690318 -0.25281902  0.33073345  0.01335525  0.3058096  0.84871917\n",
       "Sample2  0.2010896  0.42931409 -0.27419755  0.11557575  0.1004434 -0.88665785\n",
       "Sample3 -0.8929247 -1.10073581  0.70294278 -0.45545899 -0.6086998  0.43843862\n",
       "Sample4  0.2861690  0.05983439  0.02233195  0.04184443 -0.3252222 -0.02703332\n",
       "Sample5 -0.6224324 -0.61522751  0.80939447 -0.46023446 -1.0474164  0.42704199\n",
       "Sample6  1.5695682  1.66972847 -1.67300053  2.13225233  2.9141561 -2.05777234\n",
       "        Gene7       Gene8      Gene9      Gene10     ⋯ Gene2991    Gene2992  \n",
       "Sample1 -0.05517512 -0.6878062 -0.2074629  0.8324603 ⋯ -0.70043338 -0.2756895\n",
       "Sample2 -0.71263979  0.5978920 -0.5133446  0.2129147 ⋯  0.07679149  1.6464085\n",
       "Sample3 -0.89374789 -1.4098562 -0.8239830  0.6297360 ⋯ -1.14240160 -1.4087360\n",
       "Sample4 -0.17070069  0.4879764 -0.9170318 -0.5662131 ⋯ -2.27513393  2.1389501\n",
       "Sample5  0.88542282 -0.1346075  0.3750083  0.4572863 ⋯  0.32132331  1.5597477\n",
       "Sample6  2.42458573  2.0185100  1.5954596 -1.1776976 ⋯ -0.19793735  0.3296290\n",
       "        Gene2993   Gene2994    Gene2995   Gene2996     Gene2997   Gene2998  \n",
       "Sample1 -0.9716374 -0.06752099 -1.4381252 -0.541477969  0.9371256 -0.5089387\n",
       "Sample2  0.1576832  0.89798853 -0.3224966  0.565416521 -0.1247173  1.1824472\n",
       "Sample3 -0.3662421  0.13145407 -0.1652087  0.230341527  0.9548922 -0.3028331\n",
       "Sample4  1.9232034  1.85009893 -0.4242964 -0.001087641 -1.2627938 -1.2465297\n",
       "Sample5  0.3961896 -0.03726517  2.3106853  0.253691275 -0.7654628  0.5044870\n",
       "Sample6  0.7938744  1.22664950 -0.7149483  0.218237885  1.9364153 -1.3295601\n",
       "        Gene2999   Gene3000 \n",
       "Sample1  0.8207603 0.6023660\n",
       "Sample2 -0.2745116 0.3250258\n",
       "Sample3  0.8185947 0.5657353\n",
       "Sample4  0.0105623 0.6578118\n",
       "Sample5 -0.2950434 0.1403910\n",
       "Sample6 -0.4797088 2.7356011"
      ]
     },
     "metadata": {},
     "output_type": "display_data"
    }
   ],
   "source": [
    "head(datExpr)"
   ]
  },
  {
   "cell_type": "code",
   "execution_count": 17,
   "metadata": {},
   "outputs": [
    {
     "data": {
      "text/plain": [
       "\n",
       "TRUE \n",
       "  50 "
      ]
     },
     "metadata": {},
     "output_type": "display_data"
    }
   ],
   "source": [
    "# First, make sure that the array names in the file datTraits line up with those in th\n",
    "table(dimnames(datExpr)[[1]]==datTraits$ArrayName)"
   ]
  },
  {
   "cell_type": "code",
   "execution_count": 23,
   "metadata": {},
   "outputs": [],
   "source": [
    "# Then, keep the microarray sample trait\n",
    "y = datTraits$Trait.y"
   ]
  },
  {
   "cell_type": "code",
   "execution_count": 25,
   "metadata": {},
   "outputs": [
    {
     "name": "stdout",
     "output_type": "stream",
     "text": [
      "     Sample1      Sample2      Sample3      Sample4      Sample5      Sample6 \n",
      "-0.111009925  0.064155203 -0.153160984  0.049210691 -0.163937645  0.393541388 \n",
      "     Sample7      Sample8      Sample9     Sample10     Sample11     Sample12 \n",
      " 0.147895350  0.211290626  0.078815923  0.400474805 -0.126556545 -0.064693931 \n",
      "    Sample13     Sample14     Sample15     Sample16     Sample17     Sample18 \n",
      " 0.299035936 -0.116079771 -0.020951634  0.013508837 -0.073624351 -0.090025118 \n",
      "    Sample19     Sample20     Sample21     Sample22     Sample23     Sample24 \n",
      " 0.081317583 -0.043208651 -0.072484237  0.305395694 -0.069595815  0.007434969 \n",
      "    Sample25     Sample26     Sample27     Sample28     Sample29     Sample30 \n",
      "-0.023437410  0.193237047 -0.044451758  0.047518570 -0.109800780 -0.008975600 \n",
      "    Sample31     Sample32     Sample33     Sample34     Sample35     Sample36 \n",
      "-0.023264619 -0.125815894  0.154308514 -0.302799028  0.063814422 -0.343532369 \n",
      "    Sample37     Sample38     Sample39     Sample40     Sample41     Sample42 \n",
      "-0.032154932 -0.143591064 -0.113107938  0.017963935 -0.352805595  0.239343492 \n",
      "    Sample43     Sample44     Sample45     Sample46     Sample47     Sample48 \n",
      "-0.365796233 -0.123124577 -0.261444962 -0.221077485  0.456891753  0.015403425 \n",
      "    Sample49     Sample50 \n",
      "-0.245577744 -0.297862195 \n",
      " Sample1  Sample2  Sample3  Sample4  Sample5  Sample6  Sample7  Sample8 \n",
      "       0        0        0        0        0        0        0        0 \n",
      " Sample9 Sample10 Sample11 Sample12 Sample13 Sample14 Sample15 Sample16 \n",
      "       0        0        0        0        0        0        0        0 \n",
      "Sample17 Sample18 Sample19 Sample20 Sample21 Sample22 Sample23 Sample24 \n",
      "       0        0        0        0        0        0        0        0 \n",
      "Sample25 Sample26 Sample27 Sample28 Sample29 Sample30 Sample31 Sample32 \n",
      "       0        0        0        0        0        0        0        0 \n",
      "Sample33 Sample34 Sample35 Sample36 Sample37 Sample38 Sample39 Sample40 \n",
      "       0        0        0        0        0        0        0        0 \n",
      "Sample41 Sample42 Sample43 Sample44 Sample45 Sample46 Sample47 Sample48 \n",
      "       0        0        0        0        0        0        0        0 \n",
      "Sample49 Sample50 \n",
      "       0        0 \n"
     ]
    }
   ],
   "source": [
    "# Compute mean expression by sample & Number of missing values\n",
    "meanExpressionBySample=apply(datExpr, 1, mean, na.rm=T)\n",
    "NumberMissingBySample=apply(is.na(data.frame(datExpr)), 1, sum)\n",
    "print(meanExpressionBySample)\n",
    "print(NumberMissingBySample)"
   ]
  },
  {
   "cell_type": "code",
   "execution_count": null,
   "metadata": {},
   "outputs": [],
   "source": []
  },
  {
   "cell_type": "code",
   "execution_count": null,
   "metadata": {},
   "outputs": [],
   "source": []
  },
  {
   "cell_type": "code",
   "execution_count": null,
   "metadata": {},
   "outputs": [],
   "source": []
  },
  {
   "cell_type": "code",
   "execution_count": null,
   "metadata": {},
   "outputs": [],
   "source": []
  },
  {
   "cell_type": "code",
   "execution_count": null,
   "metadata": {},
   "outputs": [],
   "source": []
  },
  {
   "cell_type": "code",
   "execution_count": null,
   "metadata": {},
   "outputs": [],
   "source": []
  },
  {
   "cell_type": "code",
   "execution_count": null,
   "metadata": {},
   "outputs": [],
   "source": []
  },
  {
   "cell_type": "code",
   "execution_count": null,
   "metadata": {},
   "outputs": [],
   "source": []
  },
  {
   "cell_type": "code",
   "execution_count": null,
   "metadata": {},
   "outputs": [],
   "source": []
  },
  {
   "cell_type": "code",
   "execution_count": null,
   "metadata": {},
   "outputs": [],
   "source": []
  },
  {
   "cell_type": "code",
   "execution_count": null,
   "metadata": {},
   "outputs": [],
   "source": []
  },
  {
   "cell_type": "code",
   "execution_count": null,
   "metadata": {},
   "outputs": [],
   "source": []
  },
  {
   "cell_type": "code",
   "execution_count": null,
   "metadata": {},
   "outputs": [],
   "source": []
  },
  {
   "cell_type": "code",
   "execution_count": null,
   "metadata": {},
   "outputs": [],
   "source": []
  },
  {
   "cell_type": "code",
   "execution_count": null,
   "metadata": {},
   "outputs": [],
   "source": []
  },
  {
   "cell_type": "code",
   "execution_count": null,
   "metadata": {},
   "outputs": [],
   "source": []
  },
  {
   "cell_type": "code",
   "execution_count": null,
   "metadata": {},
   "outputs": [],
   "source": []
  },
  {
   "cell_type": "code",
   "execution_count": null,
   "metadata": {},
   "outputs": [],
   "source": []
  },
  {
   "cell_type": "code",
   "execution_count": null,
   "metadata": {},
   "outputs": [],
   "source": []
  },
  {
   "cell_type": "code",
   "execution_count": null,
   "metadata": {},
   "outputs": [],
   "source": []
  },
  {
   "cell_type": "code",
   "execution_count": null,
   "metadata": {},
   "outputs": [],
   "source": []
  },
  {
   "cell_type": "code",
   "execution_count": null,
   "metadata": {},
   "outputs": [],
   "source": []
  },
  {
   "cell_type": "code",
   "execution_count": null,
   "metadata": {},
   "outputs": [],
   "source": []
  },
  {
   "cell_type": "code",
   "execution_count": null,
   "metadata": {},
   "outputs": [],
   "source": []
  },
  {
   "cell_type": "code",
   "execution_count": null,
   "metadata": {},
   "outputs": [],
   "source": []
  },
  {
   "cell_type": "code",
   "execution_count": null,
   "metadata": {},
   "outputs": [],
   "source": []
  }
 ],
 "metadata": {
  "kernelspec": {
   "display_name": "R",
   "language": "R",
   "name": "ir"
  },
  "language_info": {
   "codemirror_mode": "r",
   "file_extension": ".r",
   "mimetype": "text/x-r-source",
   "name": "R",
   "pygments_lexer": "r",
   "version": "3.5.1"
  }
 },
 "nbformat": 4,
 "nbformat_minor": 2
}
