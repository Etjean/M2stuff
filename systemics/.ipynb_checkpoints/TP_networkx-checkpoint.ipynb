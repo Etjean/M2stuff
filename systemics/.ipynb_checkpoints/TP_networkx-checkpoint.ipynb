{
 "cells": [
  {
   "cell_type": "markdown",
   "metadata": {},
   "source": [
    "# TP Networkx"
   ]
  },
  {
   "cell_type": "code",
   "execution_count": 121,
   "metadata": {},
   "outputs": [],
   "source": [
    "import networkx as nx\n",
    "import matplotlib.pyplot as plt\n",
    "import numpy as np\n",
    "%matplotlib inline"
   ]
  },
  {
   "cell_type": "code",
   "execution_count": 2,
   "metadata": {},
   "outputs": [],
   "source": [
    "# Random graphs\n",
    "gER = nx.erdos_renyi_graph(1000, 0.05)\n",
    "gSW = nx.watts_strogatz_graph(1000, 10, 0.15)\n",
    "gBA = nx.barabasi_albert_graph(1000, 3)"
   ]
  },
  {
   "cell_type": "code",
   "execution_count": 7,
   "metadata": {},
   "outputs": [
    {
     "name": "stdout",
     "output_type": "stream",
     "text": [
      "24815\n",
      "5000\n",
      "2991\n"
     ]
    }
   ],
   "source": [
    "print(len(gER.edges()))\n",
    "print(len(gSW.edges()))\n",
    "print(len(gBA.edges()))"
   ]
  },
  {
   "cell_type": "code",
   "execution_count": 131,
   "metadata": {},
   "outputs": [],
   "source": [
    "# Graphs with same density\n",
    "gER2 = nx.erdos_renyi_graph(1000, 0.022)\n",
    "gSW2 = nx.watts_strogatz_graph(1000, 22, 0.3)\n",
    "gBA2 = nx.barabasi_albert_graph(1000, 11)"
   ]
  },
  {
   "cell_type": "code",
   "execution_count": 132,
   "metadata": {},
   "outputs": [
    {
     "name": "stdout",
     "output_type": "stream",
     "text": [
      "10914\n",
      "11000\n",
      "10879\n"
     ]
    }
   ],
   "source": [
    "print(len(gER2.edges()))\n",
    "print(len(gSW2.edges()))\n",
    "print(len(gBA2.edges()))"
   ]
  },
  {
   "cell_type": "code",
   "execution_count": 133,
   "metadata": {},
   "outputs": [],
   "source": [
    "# Degree distribution\n",
    "dER2 = gER2.degree()\n",
    "dSW2 = gSW2.degree()\n",
    "dBA2 = gBA2.degree()"
   ]
  },
  {
   "cell_type": "code",
   "execution_count": 134,
   "metadata": {},
   "outputs": [],
   "source": [
    "dER2_list = [dER2[i] for i in range(len(dER2))]\n",
    "dSW2_list = [dSW2[i] for i in range(len(dSW2))]\n",
    "dBA2_list = [dBA2[i] for i in range(len(dBA2))]"
   ]
  },
  {
   "cell_type": "code",
   "execution_count": 135,
   "metadata": {},
   "outputs": [
    {
     "data": {
      "text/plain": [
       "(array([  0.,   0.,   0., 162., 285., 168.,  90.,  67.,  52.,  29.,  20.,\n",
       "         24.,   8.,  12.,   7.,   8.,   7.,   5.,   5.,   5.,   2.,   4.,\n",
       "          4.,   3.,   3.,   1.,   2.,   0.,   4.,   3.,   2.,   3.,   2.]),\n",
       " array([ 0,  3,  6,  9, 12, 15, 18, 21, 24, 27, 30, 33, 36, 39, 42, 45, 48,\n",
       "        51, 54, 57, 60, 63, 66, 69, 72, 75, 78, 81, 84, 87, 90, 93, 96, 99]),\n",
       " <a list of 33 Patch objects>)"
      ]
     },
     "execution_count": 135,
     "metadata": {},
     "output_type": "execute_result"
    },
    {
     "data": {
      "image/png": "[encoded data removed]",
      "text/plain": [
       "<Figure size 864x432 with 1 Axes>"
      ]
     },
     "metadata": {
      "needs_background": "light"
     },
     "output_type": "display_data"
    }
   ],
   "source": [
    "# Plot\n",
    "plt.figure(figsize=(12, 6))\n",
    "# plt.subplot(311)\n",
    "plt.hist(dER2_list, alpha=0.5, bins=range(0, 100, 3), histtype='bar')\n",
    "# plt.subplot(312)\n",
    "plt.hist(dSW2_list, alpha=0.5, bins=range(0, 100, 3), histtype='bar')\n",
    "# plt.subplot(313)\n",
    "plt.hist(dBA2_list, alpha=0.5, bins=range(0, 100, 3), histtype='bar')\n"
   ]
  },
  {
   "cell_type": "code",
   "execution_count": 136,
   "metadata": {},
   "outputs": [],
   "source": [
    "# Clustering coefficient\n",
    "cER2 = nx.clustering(gER2)\n",
    "cSW2 = nx.clustering(gSW2)\n",
    "cBA2 = nx.clustering(gBA2)"
   ]
  },
  {
   "cell_type": "code",
   "execution_count": 137,
   "metadata": {},
   "outputs": [],
   "source": [
    "cER2_list = [cER2[i] for i in range(len(cER2))]\n",
    "cSW2_list = [cSW2[i] for i in range(len(cSW2))]\n",
    "cBA2_list = [cBA2[i] for i in range(len(cBA2))]"
   ]
  },
  {
   "cell_type": "code",
   "execution_count": 141,
   "metadata": {},
   "outputs": [
    {
     "data": {
      "text/plain": [
       "(array([ 20.,  52.,  50., 108., 105., 177.,  99., 123.,  47.,  59.,  55.,\n",
       "         15.,  33.,  10.,   9.,   9.,  10.,   3.,   5.,   3.,   2.,   2.,\n",
       "          1.,   1.,   1.,   0.,   0.,   1.,   0.,   0.,   0.,   0.,   0.,\n",
       "          0.,   0.,   0.,   0.,   0.,   0.]),\n",
       " array([0.  , 0.01, 0.02, 0.03, 0.04, 0.05, 0.06, 0.07, 0.08, 0.09, 0.1 ,\n",
       "        0.11, 0.12, 0.13, 0.14, 0.15, 0.16, 0.17, 0.18, 0.19, 0.2 , 0.21,\n",
       "        0.22, 0.23, 0.24, 0.25, 0.26, 0.27, 0.28, 0.29, 0.3 , 0.31, 0.32,\n",
       "        0.33, 0.34, 0.35, 0.36, 0.37, 0.38, 0.39]),\n",
       " <a list of 39 Patch objects>)"
      ]
     },
     "execution_count": 141,
     "metadata": {},
     "output_type": "execute_result"
    },
    {
     "data": {
      "image/png": "[encoded data removed]",
      "text/plain": [
       "<Figure size 864x432 with 1 Axes>"
      ]
     },
     "metadata": {
      "needs_background": "light"
     },
     "output_type": "display_data"
    }
   ],
   "source": [
    "# Plot\n",
    "plt.figure(figsize=(12, 6))\n",
    "# plt.subplot(311)\n",
    "plt.hist(cER2_list, alpha=0.5, bins=np.linspace(0, 0.4, 40, endpoint=False), histtype='bar')\n",
    "# plt.subplot(312)\n",
    "plt.hist(cSW2_list, alpha=0.5, bins=np.linspace(0, 0.4, 40, endpoint=False), histtype='bar')\n",
    "# plt.subplot(313)\n",
    "plt.hist(cBA2_list, alpha=0.5, bins=np.linspace(0, 0.4, 40, endpoint=False), histtype='bar')\n"
   ]
  },
  {
   "cell_type": "code",
   "execution_count": null,
   "metadata": {},
   "outputs": [],
   "source": []
  },
  {
   "cell_type": "code",
   "execution_count": null,
   "metadata": {},
   "outputs": [],
   "source": []
  },
  {
   "cell_type": "code",
   "execution_count": null,
   "metadata": {},
   "outputs": [],
   "source": []
  }
 ],
 "metadata": {
  "kernelspec": {
   "display_name": "Python 3",
   "language": "python",
   "name": "python3"
  },
  "language_info": {
   "codemirror_mode": {
    "name": "ipython",
    "version": 3
   },
   "file_extension": ".py",
   "mimetype": "text/x-python",
   "name": "python",
   "nbconvert_exporter": "python",
   "pygments_lexer": "ipython3",
   "version": "3.7.0"
  }
 },
 "nbformat": 4,
 "nbformat_minor": 2
}
