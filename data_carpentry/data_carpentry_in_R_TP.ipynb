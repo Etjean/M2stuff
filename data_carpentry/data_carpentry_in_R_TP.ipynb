{
 "cells": [
  {
   "cell_type": "markdown",
   "metadata": {},
   "source": [
    "# Data Cartpentry in R\n",
    "Link of the course : http://datacarpentry.org/R-genomics/index.html"
   ]
  },
  {
   "cell_type": "markdown",
   "metadata": {},
   "source": [
    "## Starting with data"
   ]
  },
  {
   "cell_type": "code",
   "execution_count": 10,
   "metadata": {},
   "outputs": [
    {
     "data": {
      "text/html": [
       "<table>\n",
       "<thead><tr><th scope=col>sample</th><th scope=col>generation</th><th scope=col>clade</th><th scope=col>strain</th><th scope=col>cit</th><th scope=col>run</th><th scope=col>genome_size</th></tr></thead>\n",
       "<tbody>\n",
       "\t<tr><td>REL606   </td><td>    0    </td><td>NA       </td><td>REL606   </td><td>unknown  </td><td>         </td><td>4.62     </td></tr>\n",
       "\t<tr><td>REL1166A </td><td> 2000    </td><td>unknown  </td><td>REL606   </td><td>unknown  </td><td>SRR098028</td><td>4.63     </td></tr>\n",
       "\t<tr><td>ZDB409   </td><td> 5000    </td><td>unknown  </td><td>REL606   </td><td>unknown  </td><td>SRR098281</td><td>4.60     </td></tr>\n",
       "\t<tr><td>ZDB429   </td><td>10000    </td><td>UC       </td><td>REL606   </td><td>unknown  </td><td>SRR098282</td><td>4.59     </td></tr>\n",
       "\t<tr><td>ZDB446   </td><td>15000    </td><td>UC       </td><td>REL606   </td><td>unknown  </td><td>SRR098283</td><td>4.66     </td></tr>\n",
       "\t<tr><td>ZDB458   </td><td>20000    </td><td>(C1,C2)  </td><td>REL606   </td><td>unknown  </td><td>SRR098284</td><td>4.63     </td></tr>\n",
       "\t<tr><td>ZDB464*  </td><td>20000    </td><td>(C1,C2)  </td><td>REL606   </td><td>unknown  </td><td>SRR098285</td><td>4.62     </td></tr>\n",
       "\t<tr><td>ZDB467   </td><td>20000    </td><td>(C1,C2)  </td><td>REL606   </td><td>unknown  </td><td>SRR098286</td><td>4.61     </td></tr>\n",
       "\t<tr><td>ZDB477   </td><td>25000    </td><td>C1       </td><td>REL606   </td><td>unknown  </td><td>SRR098287</td><td>4.65     </td></tr>\n",
       "\t<tr><td>ZDB483   </td><td>25000    </td><td>C3       </td><td>REL606   </td><td>unknown  </td><td>SRR098288</td><td>4.59     </td></tr>\n",
       "\t<tr><td>ZDB16    </td><td>30000    </td><td>C1       </td><td>REL606   </td><td>unknown  </td><td>SRR098031</td><td>4.61     </td></tr>\n",
       "\t<tr><td>ZDB357   </td><td>30000    </td><td>C2       </td><td>REL606   </td><td>unknown  </td><td>SRR098280</td><td>4.62     </td></tr>\n",
       "\t<tr><td>ZDB199*  </td><td>31500    </td><td>C1       </td><td>REL606   </td><td>minus    </td><td>SRR098044</td><td>4.62     </td></tr>\n",
       "\t<tr><td>ZDB200   </td><td>31500    </td><td>C2       </td><td>REL606   </td><td>minus    </td><td>SRR098279</td><td>4.63     </td></tr>\n",
       "\t<tr><td>ZDB564   </td><td>31500    </td><td>Cit+     </td><td>REL606   </td><td>plus     </td><td>SRR098289</td><td>4.74     </td></tr>\n",
       "\t<tr><td>ZDB30*   </td><td>32000    </td><td>C3       </td><td>REL606   </td><td>minus    </td><td>SRR098032</td><td>4.61     </td></tr>\n",
       "\t<tr><td>ZDB172   </td><td>32000    </td><td>Cit+     </td><td>REL606   </td><td>plus     </td><td>SRR098042</td><td>4.77     </td></tr>\n",
       "\t<tr><td>ZDB158   </td><td>32500    </td><td>C2       </td><td>REL606   </td><td>minus    </td><td>SRR098041</td><td>4.63     </td></tr>\n",
       "\t<tr><td>ZDB143   </td><td>32500    </td><td>Cit+     </td><td>REL606   </td><td>plus     </td><td>SRR098040</td><td>4.79     </td></tr>\n",
       "\t<tr><td>CZB199   </td><td>33000    </td><td>C1       </td><td>REL606   </td><td>minus    </td><td>SRR098027</td><td>4.59     </td></tr>\n",
       "\t<tr><td>CZB152   </td><td>33000    </td><td>Cit+     </td><td>REL606   </td><td>plus     </td><td>SRR097977</td><td>4.80     </td></tr>\n",
       "\t<tr><td>CZB154   </td><td>33000    </td><td>Cit+     </td><td>REL606   </td><td>plus     </td><td>SRR098026</td><td>4.76     </td></tr>\n",
       "\t<tr><td>ZDB83    </td><td>34000    </td><td>Cit+     </td><td>REL606   </td><td>minus    </td><td>SRR098034</td><td>4.60     </td></tr>\n",
       "\t<tr><td>ZDB87    </td><td>34000    </td><td>C2       </td><td>REL606   </td><td>plus     </td><td>SRR098035</td><td>4.75     </td></tr>\n",
       "\t<tr><td>ZDB96    </td><td>36000    </td><td>Cit+     </td><td>REL606   </td><td>plus     </td><td>SRR098036</td><td>4.74     </td></tr>\n",
       "\t<tr><td>ZDB99    </td><td>36000    </td><td>C1       </td><td>REL606   </td><td>minus    </td><td>SRR098037</td><td>4.61     </td></tr>\n",
       "\t<tr><td>ZDB107   </td><td>38000    </td><td>Cit+     </td><td>REL606   </td><td>plus     </td><td>SRR098038</td><td>4.79     </td></tr>\n",
       "\t<tr><td>ZDB111   </td><td>38000    </td><td>C2       </td><td>REL606   </td><td>minus    </td><td>SRR098039</td><td>4.62     </td></tr>\n",
       "\t<tr><td>REL10979 </td><td>40000    </td><td>Cit+     </td><td>REL606   </td><td>plus     </td><td>SRR098029</td><td>4.78     </td></tr>\n",
       "\t<tr><td>REL10988 </td><td>40000    </td><td>C2       </td><td>REL606   </td><td>minus    </td><td>SRR098030</td><td>4.62     </td></tr>\n",
       "</tbody>\n",
       "</table>\n"
      ],
      "text/latex": [
       "\\begin{tabular}{r|lllllll}\n",
       " sample & generation & clade & strain & cit & run & genome\\_size\\\\\n",
       "\\hline\n",
       "\t REL606    &     0     & NA        & REL606    & unknown   &           & 4.62     \\\\\n",
       "\t REL1166A  &  2000     & unknown   & REL606    & unknown   & SRR098028 & 4.63     \\\\\n",
       "\t ZDB409    &  5000     & unknown   & REL606    & unknown   & SRR098281 & 4.60     \\\\\n",
       "\t ZDB429    & 10000     & UC        & REL606    & unknown   & SRR098282 & 4.59     \\\\\n",
       "\t ZDB446    & 15000     & UC        & REL606    & unknown   & SRR098283 & 4.66     \\\\\n",
       "\t ZDB458    & 20000     & (C1,C2)   & REL606    & unknown   & SRR098284 & 4.63     \\\\\n",
       "\t ZDB464*   & 20000     & (C1,C2)   & REL606    & unknown   & SRR098285 & 4.62     \\\\\n",
       "\t ZDB467    & 20000     & (C1,C2)   & REL606    & unknown   & SRR098286 & 4.61     \\\\\n",
       "\t ZDB477    & 25000     & C1        & REL606    & unknown   & SRR098287 & 4.65     \\\\\n",
       "\t ZDB483    & 25000     & C3        & REL606    & unknown   & SRR098288 & 4.59     \\\\\n",
       "\t ZDB16     & 30000     & C1        & REL606    & unknown   & SRR098031 & 4.61     \\\\\n",
       "\t ZDB357    & 30000     & C2        & REL606    & unknown   & SRR098280 & 4.62     \\\\\n",
       "\t ZDB199*   & 31500     & C1        & REL606    & minus     & SRR098044 & 4.62     \\\\\n",
       "\t ZDB200    & 31500     & C2        & REL606    & minus     & SRR098279 & 4.63     \\\\\n",
       "\t ZDB564    & 31500     & Cit+      & REL606    & plus      & SRR098289 & 4.74     \\\\\n",
       "\t ZDB30*    & 32000     & C3        & REL606    & minus     & SRR098032 & 4.61     \\\\\n",
       "\t ZDB172    & 32000     & Cit+      & REL606    & plus      & SRR098042 & 4.77     \\\\\n",
       "\t ZDB158    & 32500     & C2        & REL606    & minus     & SRR098041 & 4.63     \\\\\n",
       "\t ZDB143    & 32500     & Cit+      & REL606    & plus      & SRR098040 & 4.79     \\\\\n",
       "\t CZB199    & 33000     & C1        & REL606    & minus     & SRR098027 & 4.59     \\\\\n",
       "\t CZB152    & 33000     & Cit+      & REL606    & plus      & SRR097977 & 4.80     \\\\\n",
       "\t CZB154    & 33000     & Cit+      & REL606    & plus      & SRR098026 & 4.76     \\\\\n",
       "\t ZDB83     & 34000     & Cit+      & REL606    & minus     & SRR098034 & 4.60     \\\\\n",
       "\t ZDB87     & 34000     & C2        & REL606    & plus      & SRR098035 & 4.75     \\\\\n",
       "\t ZDB96     & 36000     & Cit+      & REL606    & plus      & SRR098036 & 4.74     \\\\\n",
       "\t ZDB99     & 36000     & C1        & REL606    & minus     & SRR098037 & 4.61     \\\\\n",
       "\t ZDB107    & 38000     & Cit+      & REL606    & plus      & SRR098038 & 4.79     \\\\\n",
       "\t ZDB111    & 38000     & C2        & REL606    & minus     & SRR098039 & 4.62     \\\\\n",
       "\t REL10979  & 40000     & Cit+      & REL606    & plus      & SRR098029 & 4.78     \\\\\n",
       "\t REL10988  & 40000     & C2        & REL606    & minus     & SRR098030 & 4.62     \\\\\n",
       "\\end{tabular}\n"
      ],
      "text/markdown": [
       "\n",
       "sample | generation | clade | strain | cit | run | genome_size | \n",
       "|---|---|---|---|---|---|---|---|---|---|---|---|---|---|---|---|---|---|---|---|---|---|---|---|---|---|---|---|---|---|\n",
       "| REL606    |     0     | NA        | REL606    | unknown   |           | 4.62      | \n",
       "| REL1166A  |  2000     | unknown   | REL606    | unknown   | SRR098028 | 4.63      | \n",
       "| ZDB409    |  5000     | unknown   | REL606    | unknown   | SRR098281 | 4.60      | \n",
       "| ZDB429    | 10000     | UC        | REL606    | unknown   | SRR098282 | 4.59      | \n",
       "| ZDB446    | 15000     | UC        | REL606    | unknown   | SRR098283 | 4.66      | \n",
       "| ZDB458    | 20000     | (C1,C2)   | REL606    | unknown   | SRR098284 | 4.63      | \n",
       "| ZDB464*   | 20000     | (C1,C2)   | REL606    | unknown   | SRR098285 | 4.62      | \n",
       "| ZDB467    | 20000     | (C1,C2)   | REL606    | unknown   | SRR098286 | 4.61      | \n",
       "| ZDB477    | 25000     | C1        | REL606    | unknown   | SRR098287 | 4.65      | \n",
       "| ZDB483    | 25000     | C3        | REL606    | unknown   | SRR098288 | 4.59      | \n",
       "| ZDB16     | 30000     | C1        | REL606    | unknown   | SRR098031 | 4.61      | \n",
       "| ZDB357    | 30000     | C2        | REL606    | unknown   | SRR098280 | 4.62      | \n",
       "| ZDB199*   | 31500     | C1        | REL606    | minus     | SRR098044 | 4.62      | \n",
       "| ZDB200    | 31500     | C2        | REL606    | minus     | SRR098279 | 4.63      | \n",
       "| ZDB564    | 31500     | Cit+      | REL606    | plus      | SRR098289 | 4.74      | \n",
       "| ZDB30*    | 32000     | C3        | REL606    | minus     | SRR098032 | 4.61      | \n",
       "| ZDB172    | 32000     | Cit+      | REL606    | plus      | SRR098042 | 4.77      | \n",
       "| ZDB158    | 32500     | C2        | REL606    | minus     | SRR098041 | 4.63      | \n",
       "| ZDB143    | 32500     | Cit+      | REL606    | plus      | SRR098040 | 4.79      | \n",
       "| CZB199    | 33000     | C1        | REL606    | minus     | SRR098027 | 4.59      | \n",
       "| CZB152    | 33000     | Cit+      | REL606    | plus      | SRR097977 | 4.80      | \n",
       "| CZB154    | 33000     | Cit+      | REL606    | plus      | SRR098026 | 4.76      | \n",
       "| ZDB83     | 34000     | Cit+      | REL606    | minus     | SRR098034 | 4.60      | \n",
       "| ZDB87     | 34000     | C2        | REL606    | plus      | SRR098035 | 4.75      | \n",
       "| ZDB96     | 36000     | Cit+      | REL606    | plus      | SRR098036 | 4.74      | \n",
       "| ZDB99     | 36000     | C1        | REL606    | minus     | SRR098037 | 4.61      | \n",
       "| ZDB107    | 38000     | Cit+      | REL606    | plus      | SRR098038 | 4.79      | \n",
       "| ZDB111    | 38000     | C2        | REL606    | minus     | SRR098039 | 4.62      | \n",
       "| REL10979  | 40000     | Cit+      | REL606    | plus      | SRR098029 | 4.78      | \n",
       "| REL10988  | 40000     | C2        | REL606    | minus     | SRR098030 | 4.62      | \n",
       "\n",
       "\n"
      ],
      "text/plain": [
       "   sample   generation clade   strain cit     run       genome_size\n",
       "1  REL606       0      NA      REL606 unknown           4.62       \n",
       "2  REL1166A  2000      unknown REL606 unknown SRR098028 4.63       \n",
       "3  ZDB409    5000      unknown REL606 unknown SRR098281 4.60       \n",
       "4  ZDB429   10000      UC      REL606 unknown SRR098282 4.59       \n",
       "5  ZDB446   15000      UC      REL606 unknown SRR098283 4.66       \n",
       "6  ZDB458   20000      (C1,C2) REL606 unknown SRR098284 4.63       \n",
       "7  ZDB464*  20000      (C1,C2) REL606 unknown SRR098285 4.62       \n",
       "8  ZDB467   20000      (C1,C2) REL606 unknown SRR098286 4.61       \n",
       "9  ZDB477   25000      C1      REL606 unknown SRR098287 4.65       \n",
       "10 ZDB483   25000      C3      REL606 unknown SRR098288 4.59       \n",
       "11 ZDB16    30000      C1      REL606 unknown SRR098031 4.61       \n",
       "12 ZDB357   30000      C2      REL606 unknown SRR098280 4.62       \n",
       "13 ZDB199*  31500      C1      REL606 minus   SRR098044 4.62       \n",
       "14 ZDB200   31500      C2      REL606 minus   SRR098279 4.63       \n",
       "15 ZDB564   31500      Cit+    REL606 plus    SRR098289 4.74       \n",
       "16 ZDB30*   32000      C3      REL606 minus   SRR098032 4.61       \n",
       "17 ZDB172   32000      Cit+    REL606 plus    SRR098042 4.77       \n",
       "18 ZDB158   32500      C2      REL606 minus   SRR098041 4.63       \n",
       "19 ZDB143   32500      Cit+    REL606 plus    SRR098040 4.79       \n",
       "20 CZB199   33000      C1      REL606 minus   SRR098027 4.59       \n",
       "21 CZB152   33000      Cit+    REL606 plus    SRR097977 4.80       \n",
       "22 CZB154   33000      Cit+    REL606 plus    SRR098026 4.76       \n",
       "23 ZDB83    34000      Cit+    REL606 minus   SRR098034 4.60       \n",
       "24 ZDB87    34000      C2      REL606 plus    SRR098035 4.75       \n",
       "25 ZDB96    36000      Cit+    REL606 plus    SRR098036 4.74       \n",
       "26 ZDB99    36000      C1      REL606 minus   SRR098037 4.61       \n",
       "27 ZDB107   38000      Cit+    REL606 plus    SRR098038 4.79       \n",
       "28 ZDB111   38000      C2      REL606 minus   SRR098039 4.62       \n",
       "29 REL10979 40000      Cit+    REL606 plus    SRR098029 4.78       \n",
       "30 REL10988 40000      C2      REL606 minus   SRR098030 4.62       "
      ]
     },
     "metadata": {},
     "output_type": "display_data"
    }
   ],
   "source": [
    "metadata <- read.csv('Ecoli_metadata.csv')\n",
    "metadata"
   ]
  },
  {
   "cell_type": "code",
   "execution_count": 12,
   "metadata": {},
   "outputs": [
    {
     "data": {
      "text/html": [
       "<table>\n",
       "<thead><tr><th scope=col>sample</th><th scope=col>generation</th><th scope=col>clade</th><th scope=col>strain</th><th scope=col>cit</th><th scope=col>run</th><th scope=col>genome_size</th></tr></thead>\n",
       "<tbody>\n",
       "\t<tr><td>REL606   </td><td>    0    </td><td>NA       </td><td>REL606   </td><td>unknown  </td><td>         </td><td>4.62     </td></tr>\n",
       "\t<tr><td>REL1166A </td><td> 2000    </td><td>unknown  </td><td>REL606   </td><td>unknown  </td><td>SRR098028</td><td>4.63     </td></tr>\n",
       "\t<tr><td>ZDB409   </td><td> 5000    </td><td>unknown  </td><td>REL606   </td><td>unknown  </td><td>SRR098281</td><td>4.60     </td></tr>\n",
       "\t<tr><td>ZDB429   </td><td>10000    </td><td>UC       </td><td>REL606   </td><td>unknown  </td><td>SRR098282</td><td>4.59     </td></tr>\n",
       "\t<tr><td>ZDB446   </td><td>15000    </td><td>UC       </td><td>REL606   </td><td>unknown  </td><td>SRR098283</td><td>4.66     </td></tr>\n",
       "\t<tr><td>ZDB458   </td><td>20000    </td><td>(C1,C2)  </td><td>REL606   </td><td>unknown  </td><td>SRR098284</td><td>4.63     </td></tr>\n",
       "</tbody>\n",
       "</table>\n"
      ],
      "text/latex": [
       "\\begin{tabular}{r|lllllll}\n",
       " sample & generation & clade & strain & cit & run & genome\\_size\\\\\n",
       "\\hline\n",
       "\t REL606    &     0     & NA        & REL606    & unknown   &           & 4.62     \\\\\n",
       "\t REL1166A  &  2000     & unknown   & REL606    & unknown   & SRR098028 & 4.63     \\\\\n",
       "\t ZDB409    &  5000     & unknown   & REL606    & unknown   & SRR098281 & 4.60     \\\\\n",
       "\t ZDB429    & 10000     & UC        & REL606    & unknown   & SRR098282 & 4.59     \\\\\n",
       "\t ZDB446    & 15000     & UC        & REL606    & unknown   & SRR098283 & 4.66     \\\\\n",
       "\t ZDB458    & 20000     & (C1,C2)   & REL606    & unknown   & SRR098284 & 4.63     \\\\\n",
       "\\end{tabular}\n"
      ],
      "text/markdown": [
       "\n",
       "sample | generation | clade | strain | cit | run | genome_size | \n",
       "|---|---|---|---|---|---|\n",
       "| REL606    |     0     | NA        | REL606    | unknown   |           | 4.62      | \n",
       "| REL1166A  |  2000     | unknown   | REL606    | unknown   | SRR098028 | 4.63      | \n",
       "| ZDB409    |  5000     | unknown   | REL606    | unknown   | SRR098281 | 4.60      | \n",
       "| ZDB429    | 10000     | UC        | REL606    | unknown   | SRR098282 | 4.59      | \n",
       "| ZDB446    | 15000     | UC        | REL606    | unknown   | SRR098283 | 4.66      | \n",
       "| ZDB458    | 20000     | (C1,C2)   | REL606    | unknown   | SRR098284 | 4.63      | \n",
       "\n",
       "\n"
      ],
      "text/plain": [
       "  sample   generation clade   strain cit     run       genome_size\n",
       "1 REL606       0      NA      REL606 unknown           4.62       \n",
       "2 REL1166A  2000      unknown REL606 unknown SRR098028 4.63       \n",
       "3 ZDB409    5000      unknown REL606 unknown SRR098281 4.60       \n",
       "4 ZDB429   10000      UC      REL606 unknown SRR098282 4.59       \n",
       "5 ZDB446   15000      UC      REL606 unknown SRR098283 4.66       \n",
       "6 ZDB458   20000      (C1,C2) REL606 unknown SRR098284 4.63       "
      ]
     },
     "metadata": {},
     "output_type": "display_data"
    }
   ],
   "source": [
    "head(metadata)"
   ]
  },
  {
   "cell_type": "code",
   "execution_count": 14,
   "metadata": {},
   "outputs": [
    {
     "name": "stdout",
     "output_type": "stream",
     "text": [
      "'data.frame':\t30 obs. of  7 variables:\n",
      " $ sample     : Factor w/ 30 levels \"CZB152\",\"CZB154\",..: 7 6 18 19 20 21 22 23 24 25 ...\n",
      " $ generation : int  0 2000 5000 10000 15000 20000 20000 20000 25000 25000 ...\n",
      " $ clade      : Factor w/ 7 levels \"(C1,C2)\",\"C1\",..: NA 7 7 6 6 1 1 1 2 4 ...\n",
      " $ strain     : Factor w/ 1 level \"REL606\": 1 1 1 1 1 1 1 1 1 1 ...\n",
      " $ cit        : Factor w/ 3 levels \"minus\",\"plus\",..: 3 3 3 3 3 3 3 3 3 3 ...\n",
      " $ run        : Factor w/ 30 levels \"\",\"SRR097977\",..: 1 5 22 23 24 25 26 27 28 29 ...\n",
      " $ genome_size: num  4.62 4.63 4.6 4.59 4.66 4.63 4.62 4.61 4.65 4.59 ...\n"
     ]
    }
   ],
   "source": [
    "str(metadata)"
   ]
  },
  {
   "cell_type": "code",
   "execution_count": 16,
   "metadata": {},
   "outputs": [
    {
     "data": {
      "text/html": [
       "'data.frame'"
      ],
      "text/latex": [
       "'data.frame'"
      ],
      "text/markdown": [
       "'data.frame'"
      ],
      "text/plain": [
       "[1] \"data.frame\""
      ]
     },
     "metadata": {},
     "output_type": "display_data"
    }
   ],
   "source": [
    "# class of \"metadata\"\n",
    "class(metadata)"
   ]
  },
  {
   "cell_type": "code",
   "execution_count": 21,
   "metadata": {},
   "outputs": [
    {
     "data": {
      "text/html": [
       "<span style=white-space:pre-wrap>'Number of rows :  30'</span>"
      ],
      "text/latex": [
       "'Number of rows :  30'"
      ],
      "text/markdown": [
       "<span style=white-space:pre-wrap>'Number of rows :  30'</span>"
      ],
      "text/plain": [
       "[1] \"Number of rows :  30\""
      ]
     },
     "metadata": {},
     "output_type": "display_data"
    },
    {
     "data": {
      "text/html": [
       "<span style=white-space:pre-wrap>'Number of columns :  7'</span>"
      ],
      "text/latex": [
       "'Number of columns :  7'"
      ],
      "text/markdown": [
       "<span style=white-space:pre-wrap>'Number of columns :  7'</span>"
      ],
      "text/plain": [
       "[1] \"Number of columns :  7\""
      ]
     },
     "metadata": {},
     "output_type": "display_data"
    }
   ],
   "source": [
    "# nb of rows & columns\n",
    "paste(\"Number of rows : \", nrow(metadata))\n",
    "paste(\"Number of columns : \", ncol(metadata))"
   ]
  },
  {
   "cell_type": "code",
   "execution_count": 22,
   "metadata": {},
   "outputs": [
    {
     "data": {
      "text/plain": [
       "      sample     generation        clade      strain        cit    \n",
       " CZB152  : 1   Min.   :    0   Cit+   :9   REL606:30   minus  : 9  \n",
       " CZB154  : 1   1st Qu.:21250   C2     :6               plus   : 9  \n",
       " CZB199  : 1   Median :31750   C1     :5               unknown:12  \n",
       " REL10979: 1   Mean   :27350   (C1,C2):3                           \n",
       " REL10988: 1   3rd Qu.:33750   C3     :2                           \n",
       " REL1166A: 1   Max.   :40000   (Other):4                           \n",
       " (Other) :24                   NA's   :1                           \n",
       "        run      genome_size   \n",
       "          : 1   Min.   :4.590  \n",
       " SRR097977: 1   1st Qu.:4.610  \n",
       " SRR098026: 1   Median :4.625  \n",
       " SRR098027: 1   Mean   :4.663  \n",
       " SRR098028: 1   3rd Qu.:4.740  \n",
       " SRR098029: 1   Max.   :4.800  \n",
       " (Other)  :24                  "
      ]
     },
     "metadata": {},
     "output_type": "display_data"
    }
   ],
   "source": [
    "# how many citrate+ mutants ?\n",
    "summary(metadata)"
   ]
  },
  {
   "cell_type": "markdown",
   "metadata": {},
   "source": [
    "## Dataframes"
   ]
  },
  {
   "cell_type": "code",
   "execution_count": 24,
   "metadata": {},
   "outputs": [
    {
     "data": {
      "text/html": [
       "<ol class=list-inline>\n",
       "\t<li>'b'</li>\n",
       "\t<li>'d'</li>\n",
       "\t<li>'f'</li>\n",
       "\t<li>'h'</li>\n",
       "\t<li>'j'</li>\n",
       "</ol>\n"
      ],
      "text/latex": [
       "\\begin{enumerate*}\n",
       "\\item 'b'\n",
       "\\item 'd'\n",
       "\\item 'f'\n",
       "\\item 'h'\n",
       "\\item 'j'\n",
       "\\end{enumerate*}\n"
      ],
      "text/markdown": [
       "1. 'b'\n",
       "2. 'd'\n",
       "3. 'f'\n",
       "4. 'h'\n",
       "5. 'j'\n",
       "\n",
       "\n"
      ],
      "text/plain": [
       "[1] \"b\" \"d\" \"f\" \"h\" \"j\""
      ]
     },
     "metadata": {},
     "output_type": "display_data"
    }
   ],
   "source": [
    "ten_letters <- c('a', 'b', 'c', 'd', 'e', 'f', 'g', 'h', 'i', 'j')\n",
    "ten_letters[seq(2, 10, by=2)]"
   ]
  },
  {
   "cell_type": "code",
   "execution_count": 36,
   "metadata": {},
   "outputs": [
    {
     "data": {
      "text/html": [
       "<table>\n",
       "<thead><tr><th></th><th scope=col>sample</th><th scope=col>generation</th><th scope=col>clade</th><th scope=col>strain</th><th scope=col>cit</th><th scope=col>run</th><th scope=col>genome_size</th></tr></thead>\n",
       "<tbody>\n",
       "\t<tr><th scope=row>2</th><td>REL1166A </td><td> 2000    </td><td>unknown  </td><td>REL606   </td><td>unknown  </td><td>SRR098028</td><td>4.63     </td></tr>\n",
       "\t<tr><th scope=row>4</th><td>ZDB429   </td><td>10000    </td><td>UC       </td><td>REL606   </td><td>unknown  </td><td>SRR098282</td><td>4.59     </td></tr>\n",
       "\t<tr><th scope=row>6</th><td>ZDB458   </td><td>20000    </td><td>(C1,C2)  </td><td>REL606   </td><td>unknown  </td><td>SRR098284</td><td>4.63     </td></tr>\n",
       "\t<tr><th scope=row>8</th><td>ZDB467   </td><td>20000    </td><td>(C1,C2)  </td><td>REL606   </td><td>unknown  </td><td>SRR098286</td><td>4.61     </td></tr>\n",
       "\t<tr><th scope=row>10</th><td>ZDB483   </td><td>25000    </td><td>C3       </td><td>REL606   </td><td>unknown  </td><td>SRR098288</td><td>4.59     </td></tr>\n",
       "\t<tr><th scope=row>12</th><td>ZDB357   </td><td>30000    </td><td>C2       </td><td>REL606   </td><td>unknown  </td><td>SRR098280</td><td>4.62     </td></tr>\n",
       "\t<tr><th scope=row>14</th><td>ZDB200   </td><td>31500    </td><td>C2       </td><td>REL606   </td><td>minus    </td><td>SRR098279</td><td>4.63     </td></tr>\n",
       "\t<tr><th scope=row>16</th><td>ZDB30*   </td><td>32000    </td><td>C3       </td><td>REL606   </td><td>minus    </td><td>SRR098032</td><td>4.61     </td></tr>\n",
       "\t<tr><th scope=row>18</th><td>ZDB158   </td><td>32500    </td><td>C2       </td><td>REL606   </td><td>minus    </td><td>SRR098041</td><td>4.63     </td></tr>\n",
       "\t<tr><th scope=row>20</th><td>CZB199   </td><td>33000    </td><td>C1       </td><td>REL606   </td><td>minus    </td><td>SRR098027</td><td>4.59     </td></tr>\n",
       "\t<tr><th scope=row>22</th><td>CZB154   </td><td>33000    </td><td>Cit+     </td><td>REL606   </td><td>plus     </td><td>SRR098026</td><td>4.76     </td></tr>\n",
       "\t<tr><th scope=row>24</th><td>ZDB87    </td><td>34000    </td><td>C2       </td><td>REL606   </td><td>plus     </td><td>SRR098035</td><td>4.75     </td></tr>\n",
       "\t<tr><th scope=row>26</th><td>ZDB99    </td><td>36000    </td><td>C1       </td><td>REL606   </td><td>minus    </td><td>SRR098037</td><td>4.61     </td></tr>\n",
       "\t<tr><th scope=row>28</th><td>ZDB111   </td><td>38000    </td><td>C2       </td><td>REL606   </td><td>minus    </td><td>SRR098039</td><td>4.62     </td></tr>\n",
       "\t<tr><th scope=row>30</th><td>REL10988 </td><td>40000    </td><td>C2       </td><td>REL606   </td><td>minus    </td><td>SRR098030</td><td>4.62     </td></tr>\n",
       "</tbody>\n",
       "</table>\n"
      ],
      "text/latex": [
       "\\begin{tabular}{r|lllllll}\n",
       "  & sample & generation & clade & strain & cit & run & genome\\_size\\\\\n",
       "\\hline\n",
       "\t2 & REL1166A  &  2000     & unknown   & REL606    & unknown   & SRR098028 & 4.63     \\\\\n",
       "\t4 & ZDB429    & 10000     & UC        & REL606    & unknown   & SRR098282 & 4.59     \\\\\n",
       "\t6 & ZDB458    & 20000     & (C1,C2)   & REL606    & unknown   & SRR098284 & 4.63     \\\\\n",
       "\t8 & ZDB467    & 20000     & (C1,C2)   & REL606    & unknown   & SRR098286 & 4.61     \\\\\n",
       "\t10 & ZDB483    & 25000     & C3        & REL606    & unknown   & SRR098288 & 4.59     \\\\\n",
       "\t12 & ZDB357    & 30000     & C2        & REL606    & unknown   & SRR098280 & 4.62     \\\\\n",
       "\t14 & ZDB200    & 31500     & C2        & REL606    & minus     & SRR098279 & 4.63     \\\\\n",
       "\t16 & ZDB30*    & 32000     & C3        & REL606    & minus     & SRR098032 & 4.61     \\\\\n",
       "\t18 & ZDB158    & 32500     & C2        & REL606    & minus     & SRR098041 & 4.63     \\\\\n",
       "\t20 & CZB199    & 33000     & C1        & REL606    & minus     & SRR098027 & 4.59     \\\\\n",
       "\t22 & CZB154    & 33000     & Cit+      & REL606    & plus      & SRR098026 & 4.76     \\\\\n",
       "\t24 & ZDB87     & 34000     & C2        & REL606    & plus      & SRR098035 & 4.75     \\\\\n",
       "\t26 & ZDB99     & 36000     & C1        & REL606    & minus     & SRR098037 & 4.61     \\\\\n",
       "\t28 & ZDB111    & 38000     & C2        & REL606    & minus     & SRR098039 & 4.62     \\\\\n",
       "\t30 & REL10988  & 40000     & C2        & REL606    & minus     & SRR098030 & 4.62     \\\\\n",
       "\\end{tabular}\n"
      ],
      "text/markdown": [
       "\n",
       "| <!--/--> | sample | generation | clade | strain | cit | run | genome_size | \n",
       "|---|---|---|---|---|---|---|---|---|---|---|---|---|---|---|\n",
       "| 2 | REL1166A  |  2000     | unknown   | REL606    | unknown   | SRR098028 | 4.63      | \n",
       "| 4 | ZDB429    | 10000     | UC        | REL606    | unknown   | SRR098282 | 4.59      | \n",
       "| 6 | ZDB458    | 20000     | (C1,C2)   | REL606    | unknown   | SRR098284 | 4.63      | \n",
       "| 8 | ZDB467    | 20000     | (C1,C2)   | REL606    | unknown   | SRR098286 | 4.61      | \n",
       "| 10 | ZDB483    | 25000     | C3        | REL606    | unknown   | SRR098288 | 4.59      | \n",
       "| 12 | ZDB357    | 30000     | C2        | REL606    | unknown   | SRR098280 | 4.62      | \n",
       "| 14 | ZDB200    | 31500     | C2        | REL606    | minus     | SRR098279 | 4.63      | \n",
       "| 16 | ZDB30*    | 32000     | C3        | REL606    | minus     | SRR098032 | 4.61      | \n",
       "| 18 | ZDB158    | 32500     | C2        | REL606    | minus     | SRR098041 | 4.63      | \n",
       "| 20 | CZB199    | 33000     | C1        | REL606    | minus     | SRR098027 | 4.59      | \n",
       "| 22 | CZB154    | 33000     | Cit+      | REL606    | plus      | SRR098026 | 4.76      | \n",
       "| 24 | ZDB87     | 34000     | C2        | REL606    | plus      | SRR098035 | 4.75      | \n",
       "| 26 | ZDB99     | 36000     | C1        | REL606    | minus     | SRR098037 | 4.61      | \n",
       "| 28 | ZDB111    | 38000     | C2        | REL606    | minus     | SRR098039 | 4.62      | \n",
       "| 30 | REL10988  | 40000     | C2        | REL606    | minus     | SRR098030 | 4.62      | \n",
       "\n",
       "\n"
      ],
      "text/plain": [
       "   sample   generation clade   strain cit     run       genome_size\n",
       "2  REL1166A  2000      unknown REL606 unknown SRR098028 4.63       \n",
       "4  ZDB429   10000      UC      REL606 unknown SRR098282 4.59       \n",
       "6  ZDB458   20000      (C1,C2) REL606 unknown SRR098284 4.63       \n",
       "8  ZDB467   20000      (C1,C2) REL606 unknown SRR098286 4.61       \n",
       "10 ZDB483   25000      C3      REL606 unknown SRR098288 4.59       \n",
       "12 ZDB357   30000      C2      REL606 unknown SRR098280 4.62       \n",
       "14 ZDB200   31500      C2      REL606 minus   SRR098279 4.63       \n",
       "16 ZDB30*   32000      C3      REL606 minus   SRR098032 4.61       \n",
       "18 ZDB158   32500      C2      REL606 minus   SRR098041 4.63       \n",
       "20 CZB199   33000      C1      REL606 minus   SRR098027 4.59       \n",
       "22 CZB154   33000      Cit+    REL606 plus    SRR098026 4.76       \n",
       "24 ZDB87    34000      C2      REL606 plus    SRR098035 4.75       \n",
       "26 ZDB99    36000      C1      REL606 minus   SRR098037 4.61       \n",
       "28 ZDB111   38000      C2      REL606 minus   SRR098039 4.62       \n",
       "30 REL10988 40000      C2      REL606 minus   SRR098030 4.62       "
      ]
     },
     "metadata": {},
     "output_type": "display_data"
    }
   ],
   "source": [
    "meta_by_2 <- metadata[seq(2, nrow(metadata), by=2),]\n",
    "meta_by_2"
   ]
  },
  {
   "cell_type": "markdown",
   "metadata": {},
   "source": [
    "## DPLYR package"
   ]
  },
  {
   "cell_type": "code",
   "execution_count": 39,
   "metadata": {},
   "outputs": [],
   "source": [
    "#install.packages(\"dplyr\")\n",
    "library(dplyr)"
   ]
  },
  {
   "cell_type": "code",
   "execution_count": 40,
   "metadata": {},
   "outputs": [
    {
     "data": {
      "text/html": [
       "<table>\n",
       "<thead><tr><th scope=col>sample</th><th scope=col>clade</th><th scope=col>cit</th><th scope=col>genome_size</th></tr></thead>\n",
       "<tbody>\n",
       "\t<tr><td>REL606  </td><td>NA      </td><td>unknown </td><td>4.62    </td></tr>\n",
       "\t<tr><td>REL1166A</td><td>unknown </td><td>unknown </td><td>4.63    </td></tr>\n",
       "\t<tr><td>ZDB409  </td><td>unknown </td><td>unknown </td><td>4.60    </td></tr>\n",
       "\t<tr><td>ZDB429  </td><td>UC      </td><td>unknown </td><td>4.59    </td></tr>\n",
       "\t<tr><td>ZDB446  </td><td>UC      </td><td>unknown </td><td>4.66    </td></tr>\n",
       "\t<tr><td>ZDB458  </td><td>(C1,C2) </td><td>unknown </td><td>4.63    </td></tr>\n",
       "\t<tr><td>ZDB464* </td><td>(C1,C2) </td><td>unknown </td><td>4.62    </td></tr>\n",
       "\t<tr><td>ZDB467  </td><td>(C1,C2) </td><td>unknown </td><td>4.61    </td></tr>\n",
       "\t<tr><td>ZDB477  </td><td>C1      </td><td>unknown </td><td>4.65    </td></tr>\n",
       "\t<tr><td>ZDB483  </td><td>C3      </td><td>unknown </td><td>4.59    </td></tr>\n",
       "\t<tr><td>ZDB16   </td><td>C1      </td><td>unknown </td><td>4.61    </td></tr>\n",
       "\t<tr><td>ZDB357  </td><td>C2      </td><td>unknown </td><td>4.62    </td></tr>\n",
       "\t<tr><td>ZDB199* </td><td>C1      </td><td>minus   </td><td>4.62    </td></tr>\n",
       "\t<tr><td>ZDB200  </td><td>C2      </td><td>minus   </td><td>4.63    </td></tr>\n",
       "\t<tr><td>ZDB564  </td><td>Cit+    </td><td>plus    </td><td>4.74    </td></tr>\n",
       "\t<tr><td>ZDB30*  </td><td>C3      </td><td>minus   </td><td>4.61    </td></tr>\n",
       "\t<tr><td>ZDB172  </td><td>Cit+    </td><td>plus    </td><td>4.77    </td></tr>\n",
       "\t<tr><td>ZDB158  </td><td>C2      </td><td>minus   </td><td>4.63    </td></tr>\n",
       "\t<tr><td>ZDB143  </td><td>Cit+    </td><td>plus    </td><td>4.79    </td></tr>\n",
       "\t<tr><td>CZB199  </td><td>C1      </td><td>minus   </td><td>4.59    </td></tr>\n",
       "\t<tr><td>CZB152  </td><td>Cit+    </td><td>plus    </td><td>4.80    </td></tr>\n",
       "\t<tr><td>CZB154  </td><td>Cit+    </td><td>plus    </td><td>4.76    </td></tr>\n",
       "\t<tr><td>ZDB83   </td><td>Cit+    </td><td>minus   </td><td>4.60    </td></tr>\n",
       "\t<tr><td>ZDB87   </td><td>C2      </td><td>plus    </td><td>4.75    </td></tr>\n",
       "\t<tr><td>ZDB96   </td><td>Cit+    </td><td>plus    </td><td>4.74    </td></tr>\n",
       "\t<tr><td>ZDB99   </td><td>C1      </td><td>minus   </td><td>4.61    </td></tr>\n",
       "\t<tr><td>ZDB107  </td><td>Cit+    </td><td>plus    </td><td>4.79    </td></tr>\n",
       "\t<tr><td>ZDB111  </td><td>C2      </td><td>minus   </td><td>4.62    </td></tr>\n",
       "\t<tr><td>REL10979</td><td>Cit+    </td><td>plus    </td><td>4.78    </td></tr>\n",
       "\t<tr><td>REL10988</td><td>C2      </td><td>minus   </td><td>4.62    </td></tr>\n",
       "</tbody>\n",
       "</table>\n"
      ],
      "text/latex": [
       "\\begin{tabular}{r|llll}\n",
       " sample & clade & cit & genome\\_size\\\\\n",
       "\\hline\n",
       "\t REL606   & NA       & unknown  & 4.62    \\\\\n",
       "\t REL1166A & unknown  & unknown  & 4.63    \\\\\n",
       "\t ZDB409   & unknown  & unknown  & 4.60    \\\\\n",
       "\t ZDB429   & UC       & unknown  & 4.59    \\\\\n",
       "\t ZDB446   & UC       & unknown  & 4.66    \\\\\n",
       "\t ZDB458   & (C1,C2)  & unknown  & 4.63    \\\\\n",
       "\t ZDB464*  & (C1,C2)  & unknown  & 4.62    \\\\\n",
       "\t ZDB467   & (C1,C2)  & unknown  & 4.61    \\\\\n",
       "\t ZDB477   & C1       & unknown  & 4.65    \\\\\n",
       "\t ZDB483   & C3       & unknown  & 4.59    \\\\\n",
       "\t ZDB16    & C1       & unknown  & 4.61    \\\\\n",
       "\t ZDB357   & C2       & unknown  & 4.62    \\\\\n",
       "\t ZDB199*  & C1       & minus    & 4.62    \\\\\n",
       "\t ZDB200   & C2       & minus    & 4.63    \\\\\n",
       "\t ZDB564   & Cit+     & plus     & 4.74    \\\\\n",
       "\t ZDB30*   & C3       & minus    & 4.61    \\\\\n",
       "\t ZDB172   & Cit+     & plus     & 4.77    \\\\\n",
       "\t ZDB158   & C2       & minus    & 4.63    \\\\\n",
       "\t ZDB143   & Cit+     & plus     & 4.79    \\\\\n",
       "\t CZB199   & C1       & minus    & 4.59    \\\\\n",
       "\t CZB152   & Cit+     & plus     & 4.80    \\\\\n",
       "\t CZB154   & Cit+     & plus     & 4.76    \\\\\n",
       "\t ZDB83    & Cit+     & minus    & 4.60    \\\\\n",
       "\t ZDB87    & C2       & plus     & 4.75    \\\\\n",
       "\t ZDB96    & Cit+     & plus     & 4.74    \\\\\n",
       "\t ZDB99    & C1       & minus    & 4.61    \\\\\n",
       "\t ZDB107   & Cit+     & plus     & 4.79    \\\\\n",
       "\t ZDB111   & C2       & minus    & 4.62    \\\\\n",
       "\t REL10979 & Cit+     & plus     & 4.78    \\\\\n",
       "\t REL10988 & C2       & minus    & 4.62    \\\\\n",
       "\\end{tabular}\n"
      ],
      "text/markdown": [
       "\n",
       "sample | clade | cit | genome_size | \n",
       "|---|---|---|---|---|---|---|---|---|---|---|---|---|---|---|---|---|---|---|---|---|---|---|---|---|---|---|---|---|---|\n",
       "| REL606   | NA       | unknown  | 4.62     | \n",
       "| REL1166A | unknown  | unknown  | 4.63     | \n",
       "| ZDB409   | unknown  | unknown  | 4.60     | \n",
       "| ZDB429   | UC       | unknown  | 4.59     | \n",
       "| ZDB446   | UC       | unknown  | 4.66     | \n",
       "| ZDB458   | (C1,C2)  | unknown  | 4.63     | \n",
       "| ZDB464*  | (C1,C2)  | unknown  | 4.62     | \n",
       "| ZDB467   | (C1,C2)  | unknown  | 4.61     | \n",
       "| ZDB477   | C1       | unknown  | 4.65     | \n",
       "| ZDB483   | C3       | unknown  | 4.59     | \n",
       "| ZDB16    | C1       | unknown  | 4.61     | \n",
       "| ZDB357   | C2       | unknown  | 4.62     | \n",
       "| ZDB199*  | C1       | minus    | 4.62     | \n",
       "| ZDB200   | C2       | minus    | 4.63     | \n",
       "| ZDB564   | Cit+     | plus     | 4.74     | \n",
       "| ZDB30*   | C3       | minus    | 4.61     | \n",
       "| ZDB172   | Cit+     | plus     | 4.77     | \n",
       "| ZDB158   | C2       | minus    | 4.63     | \n",
       "| ZDB143   | Cit+     | plus     | 4.79     | \n",
       "| CZB199   | C1       | minus    | 4.59     | \n",
       "| CZB152   | Cit+     | plus     | 4.80     | \n",
       "| CZB154   | Cit+     | plus     | 4.76     | \n",
       "| ZDB83    | Cit+     | minus    | 4.60     | \n",
       "| ZDB87    | C2       | plus     | 4.75     | \n",
       "| ZDB96    | Cit+     | plus     | 4.74     | \n",
       "| ZDB99    | C1       | minus    | 4.61     | \n",
       "| ZDB107   | Cit+     | plus     | 4.79     | \n",
       "| ZDB111   | C2       | minus    | 4.62     | \n",
       "| REL10979 | Cit+     | plus     | 4.78     | \n",
       "| REL10988 | C2       | minus    | 4.62     | \n",
       "\n",
       "\n"
      ],
      "text/plain": [
       "   sample   clade   cit     genome_size\n",
       "1  REL606   NA      unknown 4.62       \n",
       "2  REL1166A unknown unknown 4.63       \n",
       "3  ZDB409   unknown unknown 4.60       \n",
       "4  ZDB429   UC      unknown 4.59       \n",
       "5  ZDB446   UC      unknown 4.66       \n",
       "6  ZDB458   (C1,C2) unknown 4.63       \n",
       "7  ZDB464*  (C1,C2) unknown 4.62       \n",
       "8  ZDB467   (C1,C2) unknown 4.61       \n",
       "9  ZDB477   C1      unknown 4.65       \n",
       "10 ZDB483   C3      unknown 4.59       \n",
       "11 ZDB16    C1      unknown 4.61       \n",
       "12 ZDB357   C2      unknown 4.62       \n",
       "13 ZDB199*  C1      minus   4.62       \n",
       "14 ZDB200   C2      minus   4.63       \n",
       "15 ZDB564   Cit+    plus    4.74       \n",
       "16 ZDB30*   C3      minus   4.61       \n",
       "17 ZDB172   Cit+    plus    4.77       \n",
       "18 ZDB158   C2      minus   4.63       \n",
       "19 ZDB143   Cit+    plus    4.79       \n",
       "20 CZB199   C1      minus   4.59       \n",
       "21 CZB152   Cit+    plus    4.80       \n",
       "22 CZB154   Cit+    plus    4.76       \n",
       "23 ZDB83    Cit+    minus   4.60       \n",
       "24 ZDB87    C2      plus    4.75       \n",
       "25 ZDB96    Cit+    plus    4.74       \n",
       "26 ZDB99    C1      minus   4.61       \n",
       "27 ZDB107   Cit+    plus    4.79       \n",
       "28 ZDB111   C2      minus   4.62       \n",
       "29 REL10979 Cit+    plus    4.78       \n",
       "30 REL10988 C2      minus   4.62       "
      ]
     },
     "metadata": {},
     "output_type": "display_data"
    }
   ],
   "source": [
    "select(metadata, sample, clade, cit, genome_size)"
   ]
  },
  {
   "cell_type": "code",
   "execution_count": 41,
   "metadata": {},
   "outputs": [
    {
     "data": {
      "text/html": [
       "<table>\n",
       "<thead><tr><th scope=col>sample</th><th scope=col>generation</th><th scope=col>clade</th><th scope=col>strain</th><th scope=col>cit</th><th scope=col>run</th><th scope=col>genome_size</th></tr></thead>\n",
       "<tbody>\n",
       "\t<tr><td>ZDB564   </td><td>31500    </td><td>Cit+     </td><td>REL606   </td><td>plus     </td><td>SRR098289</td><td>4.74     </td></tr>\n",
       "\t<tr><td>ZDB172   </td><td>32000    </td><td>Cit+     </td><td>REL606   </td><td>plus     </td><td>SRR098042</td><td>4.77     </td></tr>\n",
       "\t<tr><td>ZDB143   </td><td>32500    </td><td>Cit+     </td><td>REL606   </td><td>plus     </td><td>SRR098040</td><td>4.79     </td></tr>\n",
       "\t<tr><td>CZB152   </td><td>33000    </td><td>Cit+     </td><td>REL606   </td><td>plus     </td><td>SRR097977</td><td>4.80     </td></tr>\n",
       "\t<tr><td>CZB154   </td><td>33000    </td><td>Cit+     </td><td>REL606   </td><td>plus     </td><td>SRR098026</td><td>4.76     </td></tr>\n",
       "\t<tr><td>ZDB87    </td><td>34000    </td><td>C2       </td><td>REL606   </td><td>plus     </td><td>SRR098035</td><td>4.75     </td></tr>\n",
       "\t<tr><td>ZDB96    </td><td>36000    </td><td>Cit+     </td><td>REL606   </td><td>plus     </td><td>SRR098036</td><td>4.74     </td></tr>\n",
       "\t<tr><td>ZDB107   </td><td>38000    </td><td>Cit+     </td><td>REL606   </td><td>plus     </td><td>SRR098038</td><td>4.79     </td></tr>\n",
       "\t<tr><td>REL10979 </td><td>40000    </td><td>Cit+     </td><td>REL606   </td><td>plus     </td><td>SRR098029</td><td>4.78     </td></tr>\n",
       "</tbody>\n",
       "</table>\n"
      ],
      "text/latex": [
       "\\begin{tabular}{r|lllllll}\n",
       " sample & generation & clade & strain & cit & run & genome\\_size\\\\\n",
       "\\hline\n",
       "\t ZDB564    & 31500     & Cit+      & REL606    & plus      & SRR098289 & 4.74     \\\\\n",
       "\t ZDB172    & 32000     & Cit+      & REL606    & plus      & SRR098042 & 4.77     \\\\\n",
       "\t ZDB143    & 32500     & Cit+      & REL606    & plus      & SRR098040 & 4.79     \\\\\n",
       "\t CZB152    & 33000     & Cit+      & REL606    & plus      & SRR097977 & 4.80     \\\\\n",
       "\t CZB154    & 33000     & Cit+      & REL606    & plus      & SRR098026 & 4.76     \\\\\n",
       "\t ZDB87     & 34000     & C2        & REL606    & plus      & SRR098035 & 4.75     \\\\\n",
       "\t ZDB96     & 36000     & Cit+      & REL606    & plus      & SRR098036 & 4.74     \\\\\n",
       "\t ZDB107    & 38000     & Cit+      & REL606    & plus      & SRR098038 & 4.79     \\\\\n",
       "\t REL10979  & 40000     & Cit+      & REL606    & plus      & SRR098029 & 4.78     \\\\\n",
       "\\end{tabular}\n"
      ],
      "text/markdown": [
       "\n",
       "sample | generation | clade | strain | cit | run | genome_size | \n",
       "|---|---|---|---|---|---|---|---|---|\n",
       "| ZDB564    | 31500     | Cit+      | REL606    | plus      | SRR098289 | 4.74      | \n",
       "| ZDB172    | 32000     | Cit+      | REL606    | plus      | SRR098042 | 4.77      | \n",
       "| ZDB143    | 32500     | Cit+      | REL606    | plus      | SRR098040 | 4.79      | \n",
       "| CZB152    | 33000     | Cit+      | REL606    | plus      | SRR097977 | 4.80      | \n",
       "| CZB154    | 33000     | Cit+      | REL606    | plus      | SRR098026 | 4.76      | \n",
       "| ZDB87     | 34000     | C2        | REL606    | plus      | SRR098035 | 4.75      | \n",
       "| ZDB96     | 36000     | Cit+      | REL606    | plus      | SRR098036 | 4.74      | \n",
       "| ZDB107    | 38000     | Cit+      | REL606    | plus      | SRR098038 | 4.79      | \n",
       "| REL10979  | 40000     | Cit+      | REL606    | plus      | SRR098029 | 4.78      | \n",
       "\n",
       "\n"
      ],
      "text/plain": [
       "  sample   generation clade strain cit  run       genome_size\n",
       "1 ZDB564   31500      Cit+  REL606 plus SRR098289 4.74       \n",
       "2 ZDB172   32000      Cit+  REL606 plus SRR098042 4.77       \n",
       "3 ZDB143   32500      Cit+  REL606 plus SRR098040 4.79       \n",
       "4 CZB152   33000      Cit+  REL606 plus SRR097977 4.80       \n",
       "5 CZB154   33000      Cit+  REL606 plus SRR098026 4.76       \n",
       "6 ZDB87    34000      C2    REL606 plus SRR098035 4.75       \n",
       "7 ZDB96    36000      Cit+  REL606 plus SRR098036 4.74       \n",
       "8 ZDB107   38000      Cit+  REL606 plus SRR098038 4.79       \n",
       "9 REL10979 40000      Cit+  REL606 plus SRR098029 4.78       "
      ]
     },
     "metadata": {},
     "output_type": "display_data"
    }
   ],
   "source": [
    "filter(metadata, cit==\"plus\")"
   ]
  },
  {
   "cell_type": "code",
   "execution_count": 47,
   "metadata": {},
   "outputs": [
    {
     "data": {
      "text/html": [
       "<table>\n",
       "<thead><tr><th scope=col>sample</th><th scope=col>generation</th><th scope=col>clade</th></tr></thead>\n",
       "<tbody>\n",
       "\t<tr><td>ZDB564  </td><td>31500   </td><td>Cit+    </td></tr>\n",
       "\t<tr><td>ZDB172  </td><td>32000   </td><td>Cit+    </td></tr>\n",
       "\t<tr><td>ZDB143  </td><td>32500   </td><td>Cit+    </td></tr>\n",
       "\t<tr><td>CZB152  </td><td>33000   </td><td>Cit+    </td></tr>\n",
       "\t<tr><td>CZB154  </td><td>33000   </td><td>Cit+    </td></tr>\n",
       "\t<tr><td>ZDB87   </td><td>34000   </td><td>C2      </td></tr>\n",
       "\t<tr><td>ZDB96   </td><td>36000   </td><td>Cit+    </td></tr>\n",
       "\t<tr><td>ZDB107  </td><td>38000   </td><td>Cit+    </td></tr>\n",
       "\t<tr><td>REL10979</td><td>40000   </td><td>Cit+    </td></tr>\n",
       "</tbody>\n",
       "</table>\n"
      ],
      "text/latex": [
       "\\begin{tabular}{r|lll}\n",
       " sample & generation & clade\\\\\n",
       "\\hline\n",
       "\t ZDB564   & 31500    & Cit+    \\\\\n",
       "\t ZDB172   & 32000    & Cit+    \\\\\n",
       "\t ZDB143   & 32500    & Cit+    \\\\\n",
       "\t CZB152   & 33000    & Cit+    \\\\\n",
       "\t CZB154   & 33000    & Cit+    \\\\\n",
       "\t ZDB87    & 34000    & C2      \\\\\n",
       "\t ZDB96    & 36000    & Cit+    \\\\\n",
       "\t ZDB107   & 38000    & Cit+    \\\\\n",
       "\t REL10979 & 40000    & Cit+    \\\\\n",
       "\\end{tabular}\n"
      ],
      "text/markdown": [
       "\n",
       "sample | generation | clade | \n",
       "|---|---|---|---|---|---|---|---|---|\n",
       "| ZDB564   | 31500    | Cit+     | \n",
       "| ZDB172   | 32000    | Cit+     | \n",
       "| ZDB143   | 32500    | Cit+     | \n",
       "| CZB152   | 33000    | Cit+     | \n",
       "| CZB154   | 33000    | Cit+     | \n",
       "| ZDB87    | 34000    | C2       | \n",
       "| ZDB96    | 36000    | Cit+     | \n",
       "| ZDB107   | 38000    | Cit+     | \n",
       "| REL10979 | 40000    | Cit+     | \n",
       "\n",
       "\n"
      ],
      "text/plain": [
       "  sample   generation clade\n",
       "1 ZDB564   31500      Cit+ \n",
       "2 ZDB172   32000      Cit+ \n",
       "3 ZDB143   32500      Cit+ \n",
       "4 CZB152   33000      Cit+ \n",
       "5 CZB154   33000      Cit+ \n",
       "6 ZDB87    34000      C2   \n",
       "7 ZDB96    36000      Cit+ \n",
       "8 ZDB107   38000      Cit+ \n",
       "9 REL10979 40000      Cit+ "
      ]
     },
     "metadata": {},
     "output_type": "display_data"
    }
   ],
   "source": [
    "meta_citplus <- metadata %>% filter(cit==\"plus\") %>% select(sample, generation, clade)\n",
    "meta_citplus"
   ]
  },
  {
   "cell_type": "code",
   "execution_count": 48,
   "metadata": {},
   "outputs": [
    {
     "data": {
      "text/html": [
       "<table>\n",
       "<thead><tr><th scope=col>sample</th><th scope=col>cit</th><th scope=col>genome_size</th></tr></thead>\n",
       "<tbody>\n",
       "\t<tr><td>ZDB564  </td><td>plus    </td><td>4.74    </td></tr>\n",
       "\t<tr><td>ZDB172  </td><td>plus    </td><td>4.77    </td></tr>\n",
       "\t<tr><td>ZDB143  </td><td>plus    </td><td>4.79    </td></tr>\n",
       "\t<tr><td>CZB152  </td><td>plus    </td><td>4.80    </td></tr>\n",
       "\t<tr><td>CZB154  </td><td>plus    </td><td>4.76    </td></tr>\n",
       "\t<tr><td>ZDB83   </td><td>minus   </td><td>4.60    </td></tr>\n",
       "\t<tr><td>ZDB96   </td><td>plus    </td><td>4.74    </td></tr>\n",
       "\t<tr><td>ZDB107  </td><td>plus    </td><td>4.79    </td></tr>\n",
       "\t<tr><td>REL10979</td><td>plus    </td><td>4.78    </td></tr>\n",
       "</tbody>\n",
       "</table>\n"
      ],
      "text/latex": [
       "\\begin{tabular}{r|lll}\n",
       " sample & cit & genome\\_size\\\\\n",
       "\\hline\n",
       "\t ZDB564   & plus     & 4.74    \\\\\n",
       "\t ZDB172   & plus     & 4.77    \\\\\n",
       "\t ZDB143   & plus     & 4.79    \\\\\n",
       "\t CZB152   & plus     & 4.80    \\\\\n",
       "\t CZB154   & plus     & 4.76    \\\\\n",
       "\t ZDB83    & minus    & 4.60    \\\\\n",
       "\t ZDB96    & plus     & 4.74    \\\\\n",
       "\t ZDB107   & plus     & 4.79    \\\\\n",
       "\t REL10979 & plus     & 4.78    \\\\\n",
       "\\end{tabular}\n"
      ],
      "text/markdown": [
       "\n",
       "sample | cit | genome_size | \n",
       "|---|---|---|---|---|---|---|---|---|\n",
       "| ZDB564   | plus     | 4.74     | \n",
       "| ZDB172   | plus     | 4.77     | \n",
       "| ZDB143   | plus     | 4.79     | \n",
       "| CZB152   | plus     | 4.80     | \n",
       "| CZB154   | plus     | 4.76     | \n",
       "| ZDB83    | minus    | 4.60     | \n",
       "| ZDB96    | plus     | 4.74     | \n",
       "| ZDB107   | plus     | 4.79     | \n",
       "| REL10979 | plus     | 4.78     | \n",
       "\n",
       "\n"
      ],
      "text/plain": [
       "  sample   cit   genome_size\n",
       "1 ZDB564   plus  4.74       \n",
       "2 ZDB172   plus  4.77       \n",
       "3 ZDB143   plus  4.79       \n",
       "4 CZB152   plus  4.80       \n",
       "5 CZB154   plus  4.76       \n",
       "6 ZDB83    minus 4.60       \n",
       "7 ZDB96    plus  4.74       \n",
       "8 ZDB107   plus  4.79       \n",
       "9 REL10979 plus  4.78       "
      ]
     },
     "metadata": {},
     "output_type": "display_data"
    }
   ],
   "source": [
    "metadata %>% filter(clade==\"Cit+\") %>% select(sample, cit, genome_size)"
   ]
  },
  {
   "cell_type": "code",
   "execution_count": 51,
   "metadata": {},
   "outputs": [
    {
     "data": {
      "text/html": [
       "<table>\n",
       "<thead><tr><th scope=col>sample</th><th scope=col>generation</th><th scope=col>clade</th><th scope=col>strain</th><th scope=col>cit</th><th scope=col>run</th><th scope=col>genome_size</th><th scope=col>genome_bp</th></tr></thead>\n",
       "<tbody>\n",
       "\t<tr><td>REL1166A </td><td> 2000    </td><td>unknown  </td><td>REL606   </td><td>unknown  </td><td>SRR098028</td><td>4.63     </td><td>4630000  </td></tr>\n",
       "\t<tr><td>ZDB409   </td><td> 5000    </td><td>unknown  </td><td>REL606   </td><td>unknown  </td><td>SRR098281</td><td>4.60     </td><td>4600000  </td></tr>\n",
       "\t<tr><td>ZDB429   </td><td>10000    </td><td>UC       </td><td>REL606   </td><td>unknown  </td><td>SRR098282</td><td>4.59     </td><td>4590000  </td></tr>\n",
       "\t<tr><td>ZDB446   </td><td>15000    </td><td>UC       </td><td>REL606   </td><td>unknown  </td><td>SRR098283</td><td>4.66     </td><td>4660000  </td></tr>\n",
       "\t<tr><td>ZDB458   </td><td>20000    </td><td>(C1,C2)  </td><td>REL606   </td><td>unknown  </td><td>SRR098284</td><td>4.63     </td><td>4630000  </td></tr>\n",
       "\t<tr><td>ZDB464*  </td><td>20000    </td><td>(C1,C2)  </td><td>REL606   </td><td>unknown  </td><td>SRR098285</td><td>4.62     </td><td>4620000  </td></tr>\n",
       "</tbody>\n",
       "</table>\n"
      ],
      "text/latex": [
       "\\begin{tabular}{r|llllllll}\n",
       " sample & generation & clade & strain & cit & run & genome\\_size & genome\\_bp\\\\\n",
       "\\hline\n",
       "\t REL1166A  &  2000     & unknown   & REL606    & unknown   & SRR098028 & 4.63      & 4630000  \\\\\n",
       "\t ZDB409    &  5000     & unknown   & REL606    & unknown   & SRR098281 & 4.60      & 4600000  \\\\\n",
       "\t ZDB429    & 10000     & UC        & REL606    & unknown   & SRR098282 & 4.59      & 4590000  \\\\\n",
       "\t ZDB446    & 15000     & UC        & REL606    & unknown   & SRR098283 & 4.66      & 4660000  \\\\\n",
       "\t ZDB458    & 20000     & (C1,C2)   & REL606    & unknown   & SRR098284 & 4.63      & 4630000  \\\\\n",
       "\t ZDB464*   & 20000     & (C1,C2)   & REL606    & unknown   & SRR098285 & 4.62      & 4620000  \\\\\n",
       "\\end{tabular}\n"
      ],
      "text/markdown": [
       "\n",
       "sample | generation | clade | strain | cit | run | genome_size | genome_bp | \n",
       "|---|---|---|---|---|---|\n",
       "| REL1166A  |  2000     | unknown   | REL606    | unknown   | SRR098028 | 4.63      | 4630000   | \n",
       "| ZDB409    |  5000     | unknown   | REL606    | unknown   | SRR098281 | 4.60      | 4600000   | \n",
       "| ZDB429    | 10000     | UC        | REL606    | unknown   | SRR098282 | 4.59      | 4590000   | \n",
       "| ZDB446    | 15000     | UC        | REL606    | unknown   | SRR098283 | 4.66      | 4660000   | \n",
       "| ZDB458    | 20000     | (C1,C2)   | REL606    | unknown   | SRR098284 | 4.63      | 4630000   | \n",
       "| ZDB464*   | 20000     | (C1,C2)   | REL606    | unknown   | SRR098285 | 4.62      | 4620000   | \n",
       "\n",
       "\n"
      ],
      "text/plain": [
       "  sample   generation clade   strain cit     run       genome_size genome_bp\n",
       "1 REL1166A  2000      unknown REL606 unknown SRR098028 4.63        4630000  \n",
       "2 ZDB409    5000      unknown REL606 unknown SRR098281 4.60        4600000  \n",
       "3 ZDB429   10000      UC      REL606 unknown SRR098282 4.59        4590000  \n",
       "4 ZDB446   15000      UC      REL606 unknown SRR098283 4.66        4660000  \n",
       "5 ZDB458   20000      (C1,C2) REL606 unknown SRR098284 4.63        4630000  \n",
       "6 ZDB464*  20000      (C1,C2) REL606 unknown SRR098285 4.62        4620000  "
      ]
     },
     "metadata": {},
     "output_type": "display_data"
    }
   ],
   "source": [
    "metadata %>% mutate(genome_bp = genome_size *1e6) %>% filter(!is.na(clade)) %>% head"
   ]
  },
  {
   "cell_type": "code",
   "execution_count": 56,
   "metadata": {},
   "outputs": [
    {
     "data": {
      "text/html": [
       "<table>\n",
       "<thead><tr><th scope=col>cit</th><th scope=col>n()</th></tr></thead>\n",
       "<tbody>\n",
       "\t<tr><td>minus  </td><td> 9     </td></tr>\n",
       "\t<tr><td>plus   </td><td> 9     </td></tr>\n",
       "\t<tr><td>unknown</td><td>12     </td></tr>\n",
       "</tbody>\n",
       "</table>\n"
      ],
      "text/latex": [
       "\\begin{tabular}{r|ll}\n",
       " cit & n()\\\\\n",
       "\\hline\n",
       "\t minus   &  9     \\\\\n",
       "\t plus    &  9     \\\\\n",
       "\t unknown & 12     \\\\\n",
       "\\end{tabular}\n"
      ],
      "text/markdown": [
       "\n",
       "cit | n() | \n",
       "|---|---|---|\n",
       "| minus   |  9      | \n",
       "| plus    |  9      | \n",
       "| unknown | 12      | \n",
       "\n",
       "\n"
      ],
      "text/plain": [
       "  cit     n()\n",
       "1 minus    9 \n",
       "2 plus     9 \n",
       "3 unknown 12 "
      ]
     },
     "metadata": {},
     "output_type": "display_data"
    }
   ],
   "source": [
    "metadata %>% group_by(cit) %>% summarize(n())"
   ]
  },
  {
   "cell_type": "code",
   "execution_count": 57,
   "metadata": {},
   "outputs": [
    {
     "data": {
      "text/html": [
       "<table>\n",
       "<thead><tr><th scope=col>cit</th><th scope=col>mean_size</th></tr></thead>\n",
       "<tbody>\n",
       "\t<tr><td>minus   </td><td>4.614444</td></tr>\n",
       "\t<tr><td>plus    </td><td>4.768889</td></tr>\n",
       "\t<tr><td>unknown </td><td>4.619167</td></tr>\n",
       "</tbody>\n",
       "</table>\n"
      ],
      "text/latex": [
       "\\begin{tabular}{r|ll}\n",
       " cit & mean\\_size\\\\\n",
       "\\hline\n",
       "\t minus    & 4.614444\\\\\n",
       "\t plus     & 4.768889\\\\\n",
       "\t unknown  & 4.619167\\\\\n",
       "\\end{tabular}\n"
      ],
      "text/markdown": [
       "\n",
       "cit | mean_size | \n",
       "|---|---|---|\n",
       "| minus    | 4.614444 | \n",
       "| plus     | 4.768889 | \n",
       "| unknown  | 4.619167 | \n",
       "\n",
       "\n"
      ],
      "text/plain": [
       "  cit     mean_size\n",
       "1 minus   4.614444 \n",
       "2 plus    4.768889 \n",
       "3 unknown 4.619167 "
      ]
     },
     "metadata": {},
     "output_type": "display_data"
    }
   ],
   "source": [
    "metadata %>% group_by(cit) %>% summarize(mean_size = mean(genome_size, na.rm=TRUE))"
   ]
  },
  {
   "cell_type": "code",
   "execution_count": 58,
   "metadata": {},
   "outputs": [
    {
     "data": {
      "text/html": [
       "<table>\n",
       "<thead><tr><th scope=col>cit</th><th scope=col>clade</th><th scope=col>mean_size</th></tr></thead>\n",
       "<tbody>\n",
       "\t<tr><td>minus   </td><td>C1      </td><td>4.606667</td></tr>\n",
       "\t<tr><td>minus   </td><td>C2      </td><td>4.625000</td></tr>\n",
       "\t<tr><td>minus   </td><td>C3      </td><td>4.610000</td></tr>\n",
       "\t<tr><td>minus   </td><td>Cit+    </td><td>4.600000</td></tr>\n",
       "\t<tr><td>plus    </td><td>C2      </td><td>4.750000</td></tr>\n",
       "\t<tr><td>plus    </td><td>Cit+    </td><td>4.771250</td></tr>\n",
       "\t<tr><td>unknown </td><td>(C1,C2) </td><td>4.620000</td></tr>\n",
       "\t<tr><td>unknown </td><td>C1      </td><td>4.630000</td></tr>\n",
       "\t<tr><td>unknown </td><td>C2      </td><td>4.620000</td></tr>\n",
       "\t<tr><td>unknown </td><td>C3      </td><td>4.590000</td></tr>\n",
       "\t<tr><td>unknown </td><td>UC      </td><td>4.625000</td></tr>\n",
       "\t<tr><td>unknown </td><td>unknown </td><td>4.615000</td></tr>\n",
       "\t<tr><td>unknown </td><td>NA      </td><td>4.620000</td></tr>\n",
       "</tbody>\n",
       "</table>\n"
      ],
      "text/latex": [
       "\\begin{tabular}{r|lll}\n",
       " cit & clade & mean\\_size\\\\\n",
       "\\hline\n",
       "\t minus    & C1       & 4.606667\\\\\n",
       "\t minus    & C2       & 4.625000\\\\\n",
       "\t minus    & C3       & 4.610000\\\\\n",
       "\t minus    & Cit+     & 4.600000\\\\\n",
       "\t plus     & C2       & 4.750000\\\\\n",
       "\t plus     & Cit+     & 4.771250\\\\\n",
       "\t unknown  & (C1,C2)  & 4.620000\\\\\n",
       "\t unknown  & C1       & 4.630000\\\\\n",
       "\t unknown  & C2       & 4.620000\\\\\n",
       "\t unknown  & C3       & 4.590000\\\\\n",
       "\t unknown  & UC       & 4.625000\\\\\n",
       "\t unknown  & unknown  & 4.615000\\\\\n",
       "\t unknown  & NA       & 4.620000\\\\\n",
       "\\end{tabular}\n"
      ],
      "text/markdown": [
       "\n",
       "cit | clade | mean_size | \n",
       "|---|---|---|---|---|---|---|---|---|---|---|---|---|\n",
       "| minus    | C1       | 4.606667 | \n",
       "| minus    | C2       | 4.625000 | \n",
       "| minus    | C3       | 4.610000 | \n",
       "| minus    | Cit+     | 4.600000 | \n",
       "| plus     | C2       | 4.750000 | \n",
       "| plus     | Cit+     | 4.771250 | \n",
       "| unknown  | (C1,C2)  | 4.620000 | \n",
       "| unknown  | C1       | 4.630000 | \n",
       "| unknown  | C2       | 4.620000 | \n",
       "| unknown  | C3       | 4.590000 | \n",
       "| unknown  | UC       | 4.625000 | \n",
       "| unknown  | unknown  | 4.615000 | \n",
       "| unknown  | NA       | 4.620000 | \n",
       "\n",
       "\n"
      ],
      "text/plain": [
       "   cit     clade   mean_size\n",
       "1  minus   C1      4.606667 \n",
       "2  minus   C2      4.625000 \n",
       "3  minus   C3      4.610000 \n",
       "4  minus   Cit+    4.600000 \n",
       "5  plus    C2      4.750000 \n",
       "6  plus    Cit+    4.771250 \n",
       "7  unknown (C1,C2) 4.620000 \n",
       "8  unknown C1      4.630000 \n",
       "9  unknown C2      4.620000 \n",
       "10 unknown C3      4.590000 \n",
       "11 unknown UC      4.625000 \n",
       "12 unknown unknown 4.615000 \n",
       "13 unknown NA      4.620000 "
      ]
     },
     "metadata": {},
     "output_type": "display_data"
    }
   ],
   "source": [
    "metadata %>% group_by(cit, clade) %>% summarize(mean_size = mean(genome_size, na.rm=TRUE))"
   ]
  },
  {
   "cell_type": "code",
   "execution_count": 59,
   "metadata": {},
   "outputs": [
    {
     "data": {
      "text/html": [
       "<table>\n",
       "<thead><tr><th scope=col>cit</th><th scope=col>clade</th><th scope=col>mean_size</th></tr></thead>\n",
       "<tbody>\n",
       "\t<tr><td>minus   </td><td>C1      </td><td>4.606667</td></tr>\n",
       "\t<tr><td>minus   </td><td>C2      </td><td>4.625000</td></tr>\n",
       "\t<tr><td>minus   </td><td>C3      </td><td>4.610000</td></tr>\n",
       "\t<tr><td>minus   </td><td>Cit+    </td><td>4.600000</td></tr>\n",
       "\t<tr><td>plus    </td><td>C2      </td><td>4.750000</td></tr>\n",
       "\t<tr><td>plus    </td><td>Cit+    </td><td>4.771250</td></tr>\n",
       "\t<tr><td>unknown </td><td>(C1,C2) </td><td>4.620000</td></tr>\n",
       "\t<tr><td>unknown </td><td>C1      </td><td>4.630000</td></tr>\n",
       "\t<tr><td>unknown </td><td>C2      </td><td>4.620000</td></tr>\n",
       "\t<tr><td>unknown </td><td>C3      </td><td>4.590000</td></tr>\n",
       "\t<tr><td>unknown </td><td>UC      </td><td>4.625000</td></tr>\n",
       "\t<tr><td>unknown </td><td>unknown </td><td>4.615000</td></tr>\n",
       "</tbody>\n",
       "</table>\n"
      ],
      "text/latex": [
       "\\begin{tabular}{r|lll}\n",
       " cit & clade & mean\\_size\\\\\n",
       "\\hline\n",
       "\t minus    & C1       & 4.606667\\\\\n",
       "\t minus    & C2       & 4.625000\\\\\n",
       "\t minus    & C3       & 4.610000\\\\\n",
       "\t minus    & Cit+     & 4.600000\\\\\n",
       "\t plus     & C2       & 4.750000\\\\\n",
       "\t plus     & Cit+     & 4.771250\\\\\n",
       "\t unknown  & (C1,C2)  & 4.620000\\\\\n",
       "\t unknown  & C1       & 4.630000\\\\\n",
       "\t unknown  & C2       & 4.620000\\\\\n",
       "\t unknown  & C3       & 4.590000\\\\\n",
       "\t unknown  & UC       & 4.625000\\\\\n",
       "\t unknown  & unknown  & 4.615000\\\\\n",
       "\\end{tabular}\n"
      ],
      "text/markdown": [
       "\n",
       "cit | clade | mean_size | \n",
       "|---|---|---|---|---|---|---|---|---|---|---|---|\n",
       "| minus    | C1       | 4.606667 | \n",
       "| minus    | C2       | 4.625000 | \n",
       "| minus    | C3       | 4.610000 | \n",
       "| minus    | Cit+     | 4.600000 | \n",
       "| plus     | C2       | 4.750000 | \n",
       "| plus     | Cit+     | 4.771250 | \n",
       "| unknown  | (C1,C2)  | 4.620000 | \n",
       "| unknown  | C1       | 4.630000 | \n",
       "| unknown  | C2       | 4.620000 | \n",
       "| unknown  | C3       | 4.590000 | \n",
       "| unknown  | UC       | 4.625000 | \n",
       "| unknown  | unknown  | 4.615000 | \n",
       "\n",
       "\n"
      ],
      "text/plain": [
       "   cit     clade   mean_size\n",
       "1  minus   C1      4.606667 \n",
       "2  minus   C2      4.625000 \n",
       "3  minus   C3      4.610000 \n",
       "4  minus   Cit+    4.600000 \n",
       "5  plus    C2      4.750000 \n",
       "6  plus    Cit+    4.771250 \n",
       "7  unknown (C1,C2) 4.620000 \n",
       "8  unknown C1      4.630000 \n",
       "9  unknown C2      4.620000 \n",
       "10 unknown C3      4.590000 \n",
       "11 unknown UC      4.625000 \n",
       "12 unknown unknown 4.615000 "
      ]
     },
     "metadata": {},
     "output_type": "display_data"
    }
   ],
   "source": [
    "metadata %>% \n",
    "    group_by(cit, clade) %>% \n",
    "    summarize(mean_size = mean(genome_size, na.rm=TRUE)) %>%\n",
    "    filter(!is.na(clade))   "
   ]
  },
  {
   "cell_type": "code",
   "execution_count": 61,
   "metadata": {},
   "outputs": [
    {
     "data": {
      "text/html": [
       "<table>\n",
       "<thead><tr><th scope=col>cit</th><th scope=col>clade</th><th scope=col>mean_size</th><th scope=col>min_generation</th></tr></thead>\n",
       "<tbody>\n",
       "\t<tr><td>minus   </td><td>C1      </td><td>4.606667</td><td>31500   </td></tr>\n",
       "\t<tr><td>minus   </td><td>C2      </td><td>4.625000</td><td>31500   </td></tr>\n",
       "\t<tr><td>minus   </td><td>C3      </td><td>4.610000</td><td>32000   </td></tr>\n",
       "\t<tr><td>minus   </td><td>Cit+    </td><td>4.600000</td><td>34000   </td></tr>\n",
       "\t<tr><td>plus    </td><td>C2      </td><td>4.750000</td><td>34000   </td></tr>\n",
       "\t<tr><td>plus    </td><td>Cit+    </td><td>4.771250</td><td>31500   </td></tr>\n",
       "\t<tr><td>unknown </td><td>(C1,C2) </td><td>4.620000</td><td>20000   </td></tr>\n",
       "\t<tr><td>unknown </td><td>C1      </td><td>4.630000</td><td>25000   </td></tr>\n",
       "\t<tr><td>unknown </td><td>C2      </td><td>4.620000</td><td>30000   </td></tr>\n",
       "\t<tr><td>unknown </td><td>C3      </td><td>4.590000</td><td>25000   </td></tr>\n",
       "\t<tr><td>unknown </td><td>UC      </td><td>4.625000</td><td>10000   </td></tr>\n",
       "\t<tr><td>unknown </td><td>unknown </td><td>4.615000</td><td> 2000   </td></tr>\n",
       "\t<tr><td>unknown </td><td>NA      </td><td>4.620000</td><td>    0   </td></tr>\n",
       "</tbody>\n",
       "</table>\n"
      ],
      "text/latex": [
       "\\begin{tabular}{r|llll}\n",
       " cit & clade & mean\\_size & min\\_generation\\\\\n",
       "\\hline\n",
       "\t minus    & C1       & 4.606667 & 31500   \\\\\n",
       "\t minus    & C2       & 4.625000 & 31500   \\\\\n",
       "\t minus    & C3       & 4.610000 & 32000   \\\\\n",
       "\t minus    & Cit+     & 4.600000 & 34000   \\\\\n",
       "\t plus     & C2       & 4.750000 & 34000   \\\\\n",
       "\t plus     & Cit+     & 4.771250 & 31500   \\\\\n",
       "\t unknown  & (C1,C2)  & 4.620000 & 20000   \\\\\n",
       "\t unknown  & C1       & 4.630000 & 25000   \\\\\n",
       "\t unknown  & C2       & 4.620000 & 30000   \\\\\n",
       "\t unknown  & C3       & 4.590000 & 25000   \\\\\n",
       "\t unknown  & UC       & 4.625000 & 10000   \\\\\n",
       "\t unknown  & unknown  & 4.615000 &  2000   \\\\\n",
       "\t unknown  & NA       & 4.620000 &     0   \\\\\n",
       "\\end{tabular}\n"
      ],
      "text/markdown": [
       "\n",
       "cit | clade | mean_size | min_generation | \n",
       "|---|---|---|---|---|---|---|---|---|---|---|---|---|\n",
       "| minus    | C1       | 4.606667 | 31500    | \n",
       "| minus    | C2       | 4.625000 | 31500    | \n",
       "| minus    | C3       | 4.610000 | 32000    | \n",
       "| minus    | Cit+     | 4.600000 | 34000    | \n",
       "| plus     | C2       | 4.750000 | 34000    | \n",
       "| plus     | Cit+     | 4.771250 | 31500    | \n",
       "| unknown  | (C1,C2)  | 4.620000 | 20000    | \n",
       "| unknown  | C1       | 4.630000 | 25000    | \n",
       "| unknown  | C2       | 4.620000 | 30000    | \n",
       "| unknown  | C3       | 4.590000 | 25000    | \n",
       "| unknown  | UC       | 4.625000 | 10000    | \n",
       "| unknown  | unknown  | 4.615000 |  2000    | \n",
       "| unknown  | NA       | 4.620000 |     0    | \n",
       "\n",
       "\n"
      ],
      "text/plain": [
       "   cit     clade   mean_size min_generation\n",
       "1  minus   C1      4.606667  31500         \n",
       "2  minus   C2      4.625000  31500         \n",
       "3  minus   C3      4.610000  32000         \n",
       "4  minus   Cit+    4.600000  34000         \n",
       "5  plus    C2      4.750000  34000         \n",
       "6  plus    Cit+    4.771250  31500         \n",
       "7  unknown (C1,C2) 4.620000  20000         \n",
       "8  unknown C1      4.630000  25000         \n",
       "9  unknown C2      4.620000  30000         \n",
       "10 unknown C3      4.590000  25000         \n",
       "11 unknown UC      4.625000  10000         \n",
       "12 unknown unknown 4.615000   2000         \n",
       "13 unknown NA      4.620000      0         "
      ]
     },
     "metadata": {},
     "output_type": "display_data"
    }
   ],
   "source": [
    "metadata %>% \n",
    "    group_by(cit, clade) %>% \n",
    "    summarize(mean_size = mean(genome_size, na.rm=TRUE),\n",
    "              min_generation = min(generation))"
   ]
  },
  {
   "cell_type": "markdown",
   "metadata": {},
   "source": [
    "## Data visualization"
   ]
  },
  {
   "cell_type": "code",
   "execution_count": 62,
   "metadata": {},
   "outputs": [],
   "source": [
    "genome_size <- metadata$genome_size"
   ]
  },
  {
   "cell_type": "code",
   "execution_count": 65,
   "metadata": {},
   "outputs": [
    {
     "data": {
      "image/png": "[encoded data removed]",
      "text/plain": [
       "Plot with title “Scatter plot of genome sizes”"
      ]
     },
     "metadata": {},
     "output_type": "display_data"
    }
   ],
   "source": [
    "plot(genome_size, pch=8, main='Scatter plot of genome sizes')"
   ]
  },
  {
   "cell_type": "code",
   "execution_count": 66,
   "metadata": {},
   "outputs": [
    {
     "data": {
      "image/png": "[encoded data removed]",
      "text/plain": [
       "Plot with title “Histogram of genome_size”"
      ]
     },
     "metadata": {},
     "output_type": "display_data"
    }
   ],
   "source": [
    "hist(genome_size)"
   ]
  },
  {
   "cell_type": "code",
   "execution_count": 68,
   "metadata": {},
   "outputs": [
    {
     "data": {
      "image/png": "[encoded data removed]",
      "text/plain": [
       "Plot with title “Average expression differences between celltypes”"
      ]
     },
     "metadata": {},
     "output_type": "display_data"
    }
   ],
   "source": [
    "boxplot(genome_size ~ cit, metadata,\n",
    "        col=c('pink', 'purple', 'darkgrey'),\n",
    "        main='Average expression differences between celltypes', \n",
    "        ylab='Expression')"
   ]
  },
  {
   "cell_type": "code",
   "execution_count": 69,
   "metadata": {},
   "outputs": [],
   "source": [
    "library(ggplot2)"
   ]
  },
  {
   "cell_type": "code",
   "execution_count": 73,
   "metadata": {},
   "outputs": [
    {
     "data": {},
     "metadata": {},
     "output_type": "display_data"
    },
    {
     "data": {
      "image/png": "[encoded data removed]",
      "text/plain": [
       "plot without title"
      ]
     },
     "metadata": {},
     "output_type": "display_data"
    }
   ],
   "source": [
    "ggplot(metadata) +\n",
    "    geom_point(aes(x=sample, y=genome_size))"
   ]
  },
  {
   "cell_type": "code",
   "execution_count": null,
   "metadata": {},
   "outputs": [],
   "source": []
  },
  {
   "cell_type": "code",
   "execution_count": null,
   "metadata": {},
   "outputs": [],
   "source": []
  },
  {
   "cell_type": "code",
   "execution_count": null,
   "metadata": {},
   "outputs": [],
   "source": []
  },
  {
   "cell_type": "code",
   "execution_count": null,
   "metadata": {},
   "outputs": [],
   "source": []
  },
  {
   "cell_type": "code",
   "execution_count": null,
   "metadata": {},
   "outputs": [],
   "source": []
  },
  {
   "cell_type": "code",
   "execution_count": null,
   "metadata": {},
   "outputs": [],
   "source": []
  },
  {
   "cell_type": "code",
   "execution_count": null,
   "metadata": {},
   "outputs": [],
   "source": []
  },
  {
   "cell_type": "code",
   "execution_count": null,
   "metadata": {},
   "outputs": [],
   "source": []
  },
  {
   "cell_type": "code",
   "execution_count": null,
   "metadata": {},
   "outputs": [],
   "source": []
  },
  {
   "cell_type": "code",
   "execution_count": null,
   "metadata": {},
   "outputs": [],
   "source": []
  },
  {
   "cell_type": "code",
   "execution_count": null,
   "metadata": {},
   "outputs": [],
   "source": []
  },
  {
   "cell_type": "code",
   "execution_count": null,
   "metadata": {},
   "outputs": [],
   "source": []
  },
  {
   "cell_type": "code",
   "execution_count": null,
   "metadata": {},
   "outputs": [],
   "source": []
  },
  {
   "cell_type": "code",
   "execution_count": null,
   "metadata": {},
   "outputs": [],
   "source": []
  },
  {
   "cell_type": "code",
   "execution_count": null,
   "metadata": {},
   "outputs": [],
   "source": []
  },
  {
   "cell_type": "code",
   "execution_count": null,
   "metadata": {},
   "outputs": [],
   "source": []
  },
  {
   "cell_type": "code",
   "execution_count": null,
   "metadata": {},
   "outputs": [],
   "source": []
  },
  {
   "cell_type": "code",
   "execution_count": null,
   "metadata": {},
   "outputs": [],
   "source": []
  },
  {
   "cell_type": "code",
   "execution_count": null,
   "metadata": {},
   "outputs": [],
   "source": []
  },
  {
   "cell_type": "code",
   "execution_count": null,
   "metadata": {},
   "outputs": [],
   "source": []
  }
 ],
 "metadata": {
  "kernelspec": {
   "display_name": "R",
   "language": "R",
   "name": "ir"
  },
  "language_info": {
   "codemirror_mode": "r",
   "file_extension": ".r",
   "mimetype": "text/x-r-source",
   "name": "R",
   "pygments_lexer": "r",
   "version": "3.4.3"
  }
 },
 "nbformat": 4,
 "nbformat_minor": 2
}
