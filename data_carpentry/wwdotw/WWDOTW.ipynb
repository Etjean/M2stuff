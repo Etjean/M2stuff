{
 "cells": [
  {
   "cell_type": "markdown",
   "metadata": {},
   "source": [
    "# Working with data on the web"
   ]
  },
  {
   "cell_type": "markdown",
   "metadata": {},
   "source": [
    "## Getting data"
   ]
  },
  {
   "cell_type": "code",
   "execution_count": 1,
   "metadata": {},
   "outputs": [],
   "source": [
    "import requests"
   ]
  },
  {
   "cell_type": "code",
   "execution_count": 4,
   "metadata": {},
   "outputs": [
    {
     "name": "stdout",
     "output_type": "stream",
     "text": [
      "First 100 characters of data are\n",
      "year,data\n",
      "1901,-7.67241907119751\n",
      "1902,-7.862711429595947\n",
      "1903,-7.910782814025879\n",
      "1904,-8.15572929382\n"
     ]
    }
   ],
   "source": [
    "# Example of the course\n",
    "# temperatures of Canada\n",
    "url = 'http://climatedataapi.worldbank.org/climateweb/rest/v1/country/cru/tas/year/CAN.csv'\n",
    "response_can = requests.get(url)\n",
    "if response_can.status_code != 200:\n",
    "    print('Failed to get data:', response_can.status_code)\n",
    "else:\n",
    "    print('First 100 characters of data are')\n",
    "    print(response_can.text[:100])\n"
   ]
  },
  {
   "cell_type": "code",
   "execution_count": 11,
   "metadata": {},
   "outputs": [
    {
     "name": "stdout",
     "output_type": "stream",
     "text": [
      "First 100 characters of data are\n",
      "year,data\n",
      "1901,23.428869247436523\n",
      "1902,23.555654525756836\n",
      "1903,23.56220245361328\n",
      "1904,23.44627952575\n"
     ]
    }
   ],
   "source": [
    "# temperatures of Guatemala\n",
    "# code iso3 : GTM\n",
    "url = 'http://climatedataapi.worldbank.org/climateweb/rest/v1/country/cru/tas/year/GTM.csv'\n",
    "response_gtm = requests.get(url)\n",
    "if response_gtm.status_code != 200:\n",
    "    print('Failed to get data:', response_gtm.status_code)\n",
    "else:\n",
    "    print('First 100 characters of data are')\n",
    "    print(response_gtm.text[:100])\n"
   ]
  },
  {
   "cell_type": "code",
   "execution_count": 15,
   "metadata": {},
   "outputs": [
    {
     "name": "stdout",
     "output_type": "stream",
     "text": [
      "First 500 characters of data are\n",
      "\n",
      "GCM,var,from_year,to_year,annual\n",
      "bccr_bcm2_0,tas,1980,1999,9.7929189046136\n",
      "cccma_cgcm3_1,tas,1980,1999,9.3144337971973\n",
      "cnrm_cm3,tas,1980,1999,10.520512898760561\n",
      "csiro_mk3_5,tas,1980,1999,12.609759521483632\n",
      "gfdl_cm2_0,tas,1980,1999,8.373249308274733\n",
      "gfdl_cm2_1,tas,1980,1999,9.827747599289667\n",
      "ingv_echam4,tas,1980,1999,13.041763305666334\n",
      "inmcm3_0,tas,1980,1999,8.070059204100467\n",
      "ipsl_cm4,tas,1980,1999,9.7314971923759\n",
      "miroc3_2_medres,tas,1980,1999,14.053876749678569\n",
      "miub_echo_g,tas,1980,1999,8.952270\n"
     ]
    }
   ],
   "source": [
    "# temperatures for Afghanistan\n",
    "# iso3 : AFG\n",
    "url = 'http://climatedataapi.worldbank.org/climateweb/rest/v1/country/annualavg/tas/1980/1999/AFG.csv'\n",
    "response_afg = requests.get(url)\n",
    "if response_afg.status_code != 200:\n",
    "    print('Failed to get data:', response_afg.status_code)\n",
    "else:\n",
    "    print('First 500 characters of data are', end='\\n\\n')\n",
    "    print(response_afg.text[:500])"
   ]
  },
  {
   "cell_type": "code",
   "execution_count": null,
   "metadata": {},
   "outputs": [],
   "source": []
  },
  {
   "cell_type": "markdown",
   "metadata": {},
   "source": [
    "## Handling CSV data"
   ]
  },
  {
   "cell_type": "code",
   "execution_count": 16,
   "metadata": {},
   "outputs": [
    {
     "name": "stdout",
     "output_type": "stream",
     "text": [
      "1901 -7.67241907119751\n",
      "1902 -7.862711429595947\n",
      "1903 -7.910782814025879\n",
      "1904 -8.155729293823242\n",
      "1905 -7.547311305999756\n",
      "1906 -7.684103488922119\n",
      "1907 -8.413553237915039\n",
      "1908 -7.790929317474365\n",
      "1909 -8.23930549621582\n",
      "1910 -7.774611473083496\n",
      "1911 -8.114446640014648\n",
      "1912 -7.885402679443359\n",
      "1913 -7.987940311431885\n",
      "1914 -7.965937614440918\n",
      "1915 -7.144039154052734\n",
      "1916 -8.132978439331055\n",
      "1917 -8.499914169311523\n",
      "1918 -8.204662322998047\n",
      "1919 -8.035985946655273\n",
      "1920 -7.830679893493652\n",
      "1921 -7.685777187347412\n",
      "1922 -8.334989547729492\n",
      "1923 -8.022125244140625\n",
      "1924 -7.574568271636963\n",
      "1925 -7.951625823974609\n",
      "1926 -7.792789459228516\n",
      "1927 -7.961727142333984\n",
      "1928 -7.237975120544434\n",
      "1929 -8.123651504516602\n",
      "1930 -7.302305698394775\n",
      "1931 -6.646339416503906\n",
      "1932 -7.821688652038574\n",
      "1933 -8.693134307861328\n",
      "1934 -7.964327335357666\n",
      "1935 -8.166967391967773\n",
      "1936 -8.59422492980957\n",
      "1937 -7.3392534255981445\n",
      "1938 -6.856348991394043\n",
      "1939 -7.669107913970947\n",
      "1940 -6.799381256103516\n",
      "1941 -7.233104705810547\n",
      "1942 -7.097812652587891\n",
      "1943 -7.2231879234313965\n",
      "1944 -6.603946685791016\n",
      "1945 -7.646345615386963\n",
      "1946 -7.739509582519531\n",
      "1947 -7.161524295806885\n",
      "1948 -7.659969329833984\n",
      "1949 -7.696352958679199\n",
      "1950 -8.517829895019531\n",
      "1951 -7.903929710388184\n",
      "1952 -6.680769920349121\n",
      "1953 -6.7539520263671875\n",
      "1954 -7.334064483642578\n",
      "1955 -7.586000919342041\n",
      "1956 -8.27430534362793\n",
      "1957 -7.763300895690918\n",
      "1958 -6.903257846832275\n",
      "1959 -7.8713836669921875\n",
      "1960 -6.951033115386963\n",
      "1961 -7.946412086486816\n",
      "1962 -7.465360164642334\n",
      "1963 -7.363328456878662\n",
      "1964 -8.241130828857422\n",
      "1965 -8.078269958496094\n",
      "1966 -7.83267879486084\n",
      "1967 -7.973592281341553\n",
      "1968 -7.3681206703186035\n",
      "1969 -7.0392913818359375\n",
      "1970 -7.720573425292969\n",
      "1971 -7.469780921936035\n",
      "1972 -9.525187492370605\n",
      "1973 -6.853341579437256\n",
      "1974 -8.428787231445312\n",
      "1975 -7.621856689453125\n",
      "1976 -7.588895320892334\n",
      "1977 -6.557257652282715\n",
      "1978 -7.993335723876953\n",
      "1979 -7.845717430114746\n",
      "1980 -7.049171447753906\n",
      "1981 -5.506665229797363\n",
      "1982 -8.5137939453125\n",
      "1983 -7.463536262512207\n",
      "1984 -7.414198398590088\n",
      "1985 -7.432916164398193\n",
      "1986 -7.71035099029541\n",
      "1987 -6.4537835121154785\n",
      "1988 -6.610030174255371\n",
      "1989 -7.706485748291016\n",
      "1990 -7.6779985427856445\n",
      "1991 -7.095147132873535\n",
      "1992 -7.697887420654297\n",
      "1993 -6.986419677734375\n",
      "1994 -6.888780117034912\n",
      "1995 -6.850322723388672\n",
      "1996 -7.337457180023193\n",
      "1997 -6.88342809677124\n",
      "1998 -5.186192989349365\n",
      "1999 -5.975519180297852\n",
      "2000 -6.7265448570251465\n",
      "2001 -5.930727958679199\n",
      "2002 -6.852164268493652\n",
      "2003 -6.402592658996582\n",
      "2004 -7.529717445373535\n",
      "2005 -5.863758563995361\n",
      "2006 -5.543209552764893\n",
      "2007 -6.819293975830078\n",
      "2008 -7.2008957862854\n",
      "2009 -6.997011661529541\n",
      "2010 -4.703649520874023\n",
      "2011 -5.9335737228393555\n",
      "2012 -5.714600563049316\n"
     ]
    }
   ],
   "source": [
    "import requests\n",
    "import csv\n",
    "\n",
    "url = 'http://climatedataapi.worldbank.org/climateweb/rest/v1/country/cru/tas/year/CAN.csv'\n",
    "response = requests.get(url)\n",
    "if response.status_code != 200:\n",
    "    print('Failed to get data:', response.status_code)\n",
    "else:\n",
    "    wrapper = csv.reader(response.text.strip().split('\\n'))\n",
    "    results = []\n",
    "    for record in wrapper:\n",
    "        if record[0] != 'year':\n",
    "            year = int(record[0])\n",
    "            value = float(record[1])\n",
    "            print(year, value)"
   ]
  },
  {
   "cell_type": "code",
   "execution_count": null,
   "metadata": {},
   "outputs": [],
   "source": []
  },
  {
   "cell_type": "markdown",
   "metadata": {},
   "source": [
    "## Generalizing and Handling Errors"
   ]
  },
  {
   "cell_type": "code",
   "execution_count": null,
   "metadata": {},
   "outputs": [],
   "source": [
    "def annual_mean_temp(country):\n",
    "    '''Get the annual mean temperature for a country given its 3-letter ISO code (such as \"CAN\").'''\n",
    "    url = 'http://climatedataapi.worldbank.org/climateweb/rest/v1/country/cru/tas/year/' + country + '.csv'\n",
    "    response = requests.get(url)\n",
    "    if response.status_code != 200:\n",
    "        print('Failed to get data:', response.status_code)\n",
    "    else:\n",
    "        wrapper = csv.reader(response.text.strip().split('\\n'))\n",
    "        results = []\n",
    "        for record in wrapper:\n",
    "            if record[0] != 'year':\n",
    "                year = int(record[0])\n",
    "                value = float(record[1])\n",
    "                results.append([year, value])\n",
    "        return results"
   ]
  },
  {
   "cell_type": "code",
   "execution_count": null,
   "metadata": {},
   "outputs": [],
   "source": []
  },
  {
   "cell_type": "code",
   "execution_count": null,
   "metadata": {},
   "outputs": [],
   "source": []
  },
  {
   "cell_type": "code",
   "execution_count": null,
   "metadata": {},
   "outputs": [],
   "source": []
  },
  {
   "cell_type": "code",
   "execution_count": null,
   "metadata": {},
   "outputs": [],
   "source": []
  },
  {
   "cell_type": "code",
   "execution_count": null,
   "metadata": {},
   "outputs": [],
   "source": []
  },
  {
   "cell_type": "code",
   "execution_count": null,
   "metadata": {},
   "outputs": [],
   "source": []
  },
  {
   "cell_type": "code",
   "execution_count": null,
   "metadata": {},
   "outputs": [],
   "source": []
  },
  {
   "cell_type": "code",
   "execution_count": null,
   "metadata": {},
   "outputs": [],
   "source": []
  },
  {
   "cell_type": "code",
   "execution_count": null,
   "metadata": {},
   "outputs": [],
   "source": []
  },
  {
   "cell_type": "code",
   "execution_count": null,
   "metadata": {},
   "outputs": [],
   "source": []
  },
  {
   "cell_type": "code",
   "execution_count": null,
   "metadata": {},
   "outputs": [],
   "source": []
  },
  {
   "cell_type": "code",
   "execution_count": null,
   "metadata": {},
   "outputs": [],
   "source": []
  },
  {
   "cell_type": "code",
   "execution_count": null,
   "metadata": {},
   "outputs": [],
   "source": []
  },
  {
   "cell_type": "code",
   "execution_count": null,
   "metadata": {},
   "outputs": [],
   "source": []
  },
  {
   "cell_type": "code",
   "execution_count": null,
   "metadata": {},
   "outputs": [],
   "source": []
  },
  {
   "cell_type": "code",
   "execution_count": null,
   "metadata": {},
   "outputs": [],
   "source": []
  },
  {
   "cell_type": "code",
   "execution_count": null,
   "metadata": {},
   "outputs": [],
   "source": []
  },
  {
   "cell_type": "code",
   "execution_count": null,
   "metadata": {},
   "outputs": [],
   "source": []
  },
  {
   "cell_type": "code",
   "execution_count": null,
   "metadata": {},
   "outputs": [],
   "source": []
  },
  {
   "cell_type": "code",
   "execution_count": null,
   "metadata": {},
   "outputs": [],
   "source": []
  },
  {
   "cell_type": "code",
   "execution_count": null,
   "metadata": {},
   "outputs": [],
   "source": []
  },
  {
   "cell_type": "code",
   "execution_count": null,
   "metadata": {},
   "outputs": [],
   "source": []
  },
  {
   "cell_type": "code",
   "execution_count": null,
   "metadata": {},
   "outputs": [],
   "source": []
  },
  {
   "cell_type": "code",
   "execution_count": null,
   "metadata": {},
   "outputs": [],
   "source": []
  },
  {
   "cell_type": "code",
   "execution_count": null,
   "metadata": {},
   "outputs": [],
   "source": []
  },
  {
   "cell_type": "code",
   "execution_count": null,
   "metadata": {},
   "outputs": [],
   "source": []
  },
  {
   "cell_type": "code",
   "execution_count": null,
   "metadata": {},
   "outputs": [],
   "source": []
  },
  {
   "cell_type": "code",
   "execution_count": null,
   "metadata": {},
   "outputs": [],
   "source": []
  },
  {
   "cell_type": "code",
   "execution_count": null,
   "metadata": {},
   "outputs": [],
   "source": []
  },
  {
   "cell_type": "code",
   "execution_count": null,
   "metadata": {},
   "outputs": [],
   "source": []
  },
  {
   "cell_type": "code",
   "execution_count": null,
   "metadata": {},
   "outputs": [],
   "source": []
  }
 ],
 "metadata": {
  "kernelspec": {
   "display_name": "Python 3",
   "language": "python",
   "name": "python3"
  },
  "language_info": {
   "codemirror_mode": {
    "name": "ipython",
    "version": 3
   },
   "file_extension": ".py",
   "mimetype": "text/x-python",
   "name": "python",
   "nbconvert_exporter": "python",
   "pygments_lexer": "ipython3",
   "version": "3.6.4"
  }
 },
 "nbformat": 4,
 "nbformat_minor": 2
}
