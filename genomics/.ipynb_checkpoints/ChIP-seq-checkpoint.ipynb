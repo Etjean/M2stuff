{
 "cells": [
  {
   "cell_type": "markdown",
   "metadata": {},
   "source": [
    "# Presentations ChIP-seq"
   ]
  },
  {
   "cell_type": "markdown",
   "metadata": {},
   "source": [
    "## Recherche & Découverte de motifs\n",
    "**Gabriel & Sophie**  \n",
    "\n",
    "**Il y a 2 branches différentes du ChIP-seq** : La *recherche* de motifs et la *découverte* de motifs.  \n",
    "**Recherche** : la protéine étudiée est connue. On s'aide de bases de données de motifs et de PSSM.  \n",
    "Exemples de BDD : Homer, Homococo, Rsat, Jaspar  \n",
    "\n",
    "**Découverte** : la protéine n'est pas connue, et on cherche à découvrir son motif de liaison à l'ADN. Pour trouver le motif, on aligne les reads t on recherche l'intersection des alignements.  \n",
    "Exemples d'outils : Rsat, Meme"
   ]
  },
  {
   "cell_type": "markdown",
   "metadata": {},
   "source": [
    "## SICER\n",
    "**Inka, Rebecca & Samantha**  \n",
    "\n",
    "**ChIP-seq sur des facteur de transcription** : On a des *narrow peaks*, c'est à dire des pics très clairs, intenses, avec peu de bruit.  \n",
    "**ChIP-seq sur des histones** : On a des *broad peaks*, c'est à dire de nombreux pics, peu intenses, avec bcp de bruit.  \n",
    "\n",
    "En général :  \n",
    "\n",
    "Activation | Inhibition\n",
    "-----------|------------\n",
    "acétylé    | tri-méthylé\n",
    "H3K27ac    | H3K27me3\n",
    "H3K9ac     | H3K9me3\n",
    "\n",
    "\n",
    "SICER est spécialement utilisé pour les marques d'histones, et pas pour les facteurs de transcription.  \n",
    "\n",
    "**Bases de données de gènes** : RefSeq (sequences majoritaires, genre *toto1*) & Ensembl (toutes les séquences, genre *toto1, toto2, toto3, toto4*)  "
   ]
  },
  {
   "cell_type": "markdown",
   "metadata": {},
   "source": [
    "## H3K9me3\n",
    "**Lisa, Pastelle & Tom**\n",
    "\n",
    "\n"
   ]
  },
  {
   "cell_type": "markdown",
   "metadata": {},
   "source": [
    "## Deeptools\n",
    "**Daniel & Sonia**  \n",
    "\n",
    "Deeptools est un programme d'analyse de données ChIP-seq, RNA-seq et MNA-seq. Comparable à HOMER"
   ]
  },
  {
   "cell_type": "markdown",
   "metadata": {},
   "source": []
  },
  {
   "cell_type": "markdown",
   "metadata": {},
   "source": []
  },
  {
   "cell_type": "markdown",
   "metadata": {},
   "source": []
  },
  {
   "cell_type": "markdown",
   "metadata": {},
   "source": []
  },
  {
   "cell_type": "markdown",
   "metadata": {},
   "source": []
  },
  {
   "cell_type": "markdown",
   "metadata": {},
   "source": []
  },
  {
   "cell_type": "markdown",
   "metadata": {},
   "source": []
  },
  {
   "cell_type": "markdown",
   "metadata": {},
   "source": []
  },
  {
   "cell_type": "markdown",
   "metadata": {},
   "source": []
  },
  {
   "cell_type": "markdown",
   "metadata": {},
   "source": []
  },
  {
   "cell_type": "markdown",
   "metadata": {},
   "source": []
  },
  {
   "cell_type": "markdown",
   "metadata": {},
   "source": []
  },
  {
   "cell_type": "markdown",
   "metadata": {},
   "source": []
  },
  {
   "cell_type": "markdown",
   "metadata": {},
   "source": []
  },
  {
   "cell_type": "markdown",
   "metadata": {},
   "source": []
  },
  {
   "cell_type": "markdown",
   "metadata": {},
   "source": []
  },
  {
   "cell_type": "markdown",
   "metadata": {},
   "source": []
  },
  {
   "cell_type": "markdown",
   "metadata": {},
   "source": []
  },
  {
   "cell_type": "markdown",
   "metadata": {},
   "source": []
  },
  {
   "cell_type": "markdown",
   "metadata": {},
   "source": []
  },
  {
   "cell_type": "markdown",
   "metadata": {},
   "source": []
  },
  {
   "cell_type": "markdown",
   "metadata": {},
   "source": []
  },
  {
   "cell_type": "markdown",
   "metadata": {},
   "source": []
  }
 ],
 "metadata": {
  "kernelspec": {
   "display_name": "Python 3",
   "language": "python",
   "name": "python3"
  },
  "language_info": {
   "codemirror_mode": {
    "name": "ipython",
    "version": 3
   },
   "file_extension": ".py",
   "mimetype": "text/x-python",
   "name": "python",
   "nbconvert_exporter": "python",
   "pygments_lexer": "ipython3",
   "version": "3.7.0"
  }
 },
 "nbformat": 4,
 "nbformat_minor": 2
}
