{
 "cells": [
  {
   "cell_type": "markdown",
   "metadata": {},
   "source": [
    "# Simulation en biologie\n",
    "**Lundi 24/09** - Bruno Toupance"
   ]
  },
  {
   "cell_type": "markdown",
   "metadata": {},
   "source": [
    "## Exercice 2"
   ]
  },
  {
   "cell_type": "code",
   "execution_count": 1,
   "metadata": {},
   "outputs": [],
   "source": [
    "# g function\n",
    "g <- function(x){\n",
    "    return( (exp(x)-1) / (exp(1)-1) )\n",
    "}"
   ]
  },
  {
   "cell_type": "code",
   "execution_count": 2,
   "metadata": {},
   "outputs": [],
   "source": [
    "# Values to evaluate g\n",
    "valX <- seq(from=0, to=2, len=1000)\n",
    "valY = g(valX)"
   ]
  },
  {
   "cell_type": "code",
   "execution_count": 3,
   "metadata": {},
   "outputs": [
    {
     "data": {
      "image/png": "[encoded data removed]",
      "text/plain": [
       "plot without title"
      ]
     },
     "metadata": {},
     "output_type": "display_data"
    }
   ],
   "source": [
    "# plot of g\n",
    "plot(valX, valY, xlab='x', ylab='g(x)', type='l')"
   ]
  },
  {
   "cell_type": "code",
   "execution_count": 4,
   "metadata": {},
   "outputs": [
    {
     "data": {
      "text/plain": [
       "2.554328 with absolute error < 2.8e-14"
      ]
     },
     "metadata": {},
     "output_type": "display_data"
    },
    {
     "data": {
      "text/html": [
       "2.55432841472039"
      ],
      "text/latex": [
       "2.55432841472039"
      ],
      "text/markdown": [
       "2.55432841472039"
      ],
      "text/plain": [
       "[1] 2.554328"
      ]
     },
     "metadata": {},
     "output_type": "display_data"
    }
   ],
   "source": [
    "# Valeur à trouver de l'intégration\n",
    "# fonction integrate\n",
    "integrate(g, lower = 0, upper = 2)\n",
    "# valeur exacte\n",
    "Iexact = (exp(2)-3)/(exp(1)-1)\n",
    "Iexact"
   ]
  },
  {
   "cell_type": "code",
   "execution_count": 8,
   "metadata": {},
   "outputs": [
    {
     "data": {
      "text/html": [
       "2.5540729148412"
      ],
      "text/latex": [
       "2.5540729148412"
      ],
      "text/markdown": [
       "2.5540729148412"
      ],
      "text/plain": [
       "[1] 2.554073"
      ]
     },
     "metadata": {},
     "output_type": "display_data"
    }
   ],
   "source": [
    "# 2 : MC par tirage noir ou blanc\n",
    "n = 100                                  # nombre de tirages\n",
    "nb_rep = 10000                           # nb de repetition de la methode\n",
    "\n",
    "list_Ibw = c()\n",
    "m = g(2)                                 # majorant de g\n",
    "for (i in 1:nb_rep){\n",
    "    tirageX = runif(n, min=0, max=2)     # x entre 0 et 2\n",
    "    tirageY = runif(n, min=0, max=m)     # y entre 0 et m\n",
    "    ns = sum(g(tirageX)-tirageY >= 0)    # nombre de tirages en-dessous de g\n",
    "    Ibw = m*(2-0)*ns/n                   # valeur estimée de I\n",
    "    list_Ibw = c(list_Ibw, Ibw)\n",
    "}\n",
    "Ibw = mean(list_Ibw)                     # valeur obtenue avec le tirage noir et blanc\n",
    "Ibw"
   ]
  },
  {
   "cell_type": "code",
   "execution_count": 9,
   "metadata": {},
   "outputs": [
    {
     "data": {
      "text/html": [
       "2.30664868832238"
      ],
      "text/latex": [
       "2.30664868832238"
      ],
      "text/markdown": [
       "2.30664868832238"
      ],
      "text/plain": [
       "[1] 2.306649"
      ]
     },
     "metadata": {},
     "output_type": "display_data"
    }
   ],
   "source": [
    "# 3 : MC simple\n",
    "list_Isimple = c()\n",
    "for(i in 1:nb_rep){\n",
    "    Isimple = (2-0)/n*sum(g(tirageX))\n",
    "    list_Isimple = c(list_Isimple, Isimple)\n",
    "}\n",
    "Isimple = mean(list_Isimple)\n",
    "Isimple"
   ]
  },
  {
   "cell_type": "code",
   "execution_count": 10,
   "metadata": {},
   "outputs": [
    {
     "data": {
      "text/html": [
       "2.55313960419343"
      ],
      "text/latex": [
       "2.55313960419343"
      ],
      "text/markdown": [
       "2.55313960419343"
      ],
      "text/plain": [
       "[1] 2.55314"
      ]
     },
     "metadata": {},
     "output_type": "display_data"
    }
   ],
   "source": [
    "# 4 : MC suivant l'importance\n",
    "alpha = 2\n",
    "beta = 1\n",
    "h <- function(x){    \n",
    "    return(g(x)/(dbeta(x/2, alpha, beta)/2))\n",
    "}\n",
    "\n",
    "\n",
    "list_Iimport = c()\n",
    "for (i in 1:nb_rep){\n",
    "    tirageX = rbeta(n, alpha, beta)*2\n",
    "    Iimport = mean(h(tirageX))\n",
    "    list_Iimport = c(list_Iimport, Iimport)\n",
    "}\n",
    "\n",
    "Iimport = mean(list_Iimport)\n",
    "Iimport"
   ]
  },
  {
   "cell_type": "code",
   "execution_count": 12,
   "metadata": {},
   "outputs": [],
   "source": [
    "# 5 : Amelioration BIS\n",
    "h <- function(x, alpha, beta){\n",
    "    return(g(x)/(dbeta(x/2, alpha, beta)/2))\n",
    "}\n",
    "\n",
    "fn <- function(par){\n",
    "    alpha = par[1]\n",
    "    beta = par[2]\n",
    "    score = c()\n",
    "    for(i in 1:100){\n",
    "        tirageX = rbeta(n, alpha, beta)*2\n",
    "        score = c(score, abs(Iexact - mean(h(tirageX, alpha, beta))))\n",
    "    }\n",
    "    return(mean(score))\n",
    "}"
   ]
  },
  {
   "cell_type": "code",
   "execution_count": 13,
   "metadata": {},
   "outputs": [],
   "source": [
    "optimal_par = suppressWarnings(optim(c(2, 1), fn))$par"
   ]
  },
  {
   "cell_type": "code",
   "execution_count": 14,
   "metadata": {},
   "outputs": [
    {
     "data": {
      "text/html": [
       "<ol class=list-inline>\n",
       "\t<li>2.33600170006508</li>\n",
       "\t<li>0.875535807073513</li>\n",
       "</ol>\n"
      ],
      "text/latex": [
       "\\begin{enumerate*}\n",
       "\\item 2.33600170006508\n",
       "\\item 0.875535807073513\n",
       "\\end{enumerate*}\n"
      ],
      "text/markdown": [
       "1. 2.33600170006508\n",
       "2. 0.875535807073513\n",
       "\n",
       "\n"
      ],
      "text/plain": [
       "[1] 2.3360017 0.8755358"
      ]
     },
     "metadata": {},
     "output_type": "display_data"
    }
   ],
   "source": [
    "optimal_par"
   ]
  },
  {
   "cell_type": "code",
   "execution_count": 15,
   "metadata": {},
   "outputs": [
    {
     "data": {
      "text/html": [
       "2.55452820271077"
      ],
      "text/latex": [
       "2.55452820271077"
      ],
      "text/markdown": [
       "2.55452820271077"
      ],
      "text/plain": [
       "[1] 2.554528"
      ]
     },
     "metadata": {},
     "output_type": "display_data"
    }
   ],
   "source": [
    "alpha = optimal_par[1]\n",
    "beta = optimal_par[2]\n",
    "h <- function(x){    \n",
    "    return(g(x)/(dbeta(x/2, alpha, beta)/2))\n",
    "}\n",
    "\n",
    "\n",
    "list_Ioptim = c()\n",
    "for (i in 1:nb_rep){\n",
    "    tirageX = rbeta(n, alpha, beta)*2\n",
    "    Ioptim = mean(h(tirageX))\n",
    "    list_Ioptim = c(list_Ioptim, Ioptim)\n",
    "}\n",
    "\n",
    "Ioptim = mean(list_Ioptim)\n",
    "Ioptim"
   ]
  },
  {
   "cell_type": "code",
   "execution_count": 19,
   "metadata": {},
   "outputs": [
    {
     "name": "stdout",
     "output_type": "stream",
     "text": [
      "[1] 16.54458\n",
      "[1] 2.791238\n",
      "[1] 13.4696\n",
      "[1] 17.03651\n"
     ]
    }
   ],
   "source": [
    "# 6 : Comparaison\n",
    "MSE_Iexact = function(I){\n",
    "    return(mean((Iexact - I))^2)\n",
    "}\n",
    "# MC noir et blanc\n",
    "print(-log(MSE_Iexact(Ibw)))\n",
    "# MC simple\n",
    "print(-log(MSE_Iexact(Isimple)))\n",
    "# MC suivant l'importance\n",
    "print(-log(MSE_Iexact(Iimport)))\n",
    "# MC suivant l'importance optimisé\n",
    "print(-log(MSE_Iexact(Ioptim)))"
   ]
  },
  {
   "cell_type": "markdown",
   "metadata": {},
   "source": []
  },
  {
   "cell_type": "markdown",
   "metadata": {},
   "source": [
    "## Exercice 3"
   ]
  },
  {
   "cell_type": "code",
   "execution_count": 1,
   "metadata": {},
   "outputs": [],
   "source": [
    "# 1"
   ]
  },
  {
   "cell_type": "code",
   "execution_count": 2,
   "metadata": {},
   "outputs": [],
   "source": [
    "# 2"
   ]
  },
  {
   "cell_type": "markdown",
   "metadata": {},
   "source": [
    "#### Question 3\n",
    "- Densité `dlaplace()`\n",
    "```\n",
    "g(x) = 1/2*exp(x) si x <= 0\n",
    "g(x) = 1/2*exp(-x) si x >= 0\n",
    "```\n",
    "\n",
    "- Répartition `plaplace()`\n",
    "```\n",
    "G(x) = 1/2*exp(x) si x <= 0\n",
    "G(x) = 1 - 1/2*exp(-x) si x >= 0\n",
    "```\n",
    "\n",
    "- Quantile `qlaplace()`\n",
    "```\n",
    "G^(-1)(x) = ln(2p) si 0<=p<=1/2\n",
    "G^(-1)(x) = -ln(2*(1-p)) si 1/2<=p<=1\n",
    "```\n"
   ]
  },
  {
   "cell_type": "code",
   "execution_count": 119,
   "metadata": {},
   "outputs": [],
   "source": [
    "my_dlaplace <- function(x){\n",
    "    a = rep(0, length(x))\n",
    "    a[x<=0]=1/2*exp(x[which(x<=0)])\n",
    "    a[x>0]=1/2*exp(-x[which(x>0)])\n",
    "    return(a)\n",
    "}"
   ]
  },
  {
   "cell_type": "code",
   "execution_count": 120,
   "metadata": {},
   "outputs": [],
   "source": [
    "my_plaplace <- function(x){\n",
    "    a = rep(0, length(x))\n",
    "    a[x<=0] = 1/2*exp(x[which(x<=0)])\n",
    "    a[x>0] = 1 - 1/2*exp(-x[which(x>0)])\n",
    "    return(a)\n",
    "}"
   ]
  },
  {
   "cell_type": "code",
   "execution_count": 132,
   "metadata": {},
   "outputs": [],
   "source": [
    "my_qlaplace <- function(p){\n",
    "    a = rep(0, length(p))\n",
    "    a[p>=0 & p<=1/2] = log(2*p[which(p>=0 & p<=1/2)])\n",
    "    a[p>=1/2 & p<=1] = -log(2*(1-p[which(p>=1/2 & p<=1)]))\n",
    "    return(a)\n",
    "}"
   ]
  },
  {
   "cell_type": "code",
   "execution_count": 133,
   "metadata": {},
   "outputs": [],
   "source": [
    "my_rlaplace <- function(n){\n",
    "    return(my_qlaplace(runif(n, 0, 1)))\n",
    "}"
   ]
  },
  {
   "cell_type": "markdown",
   "metadata": {},
   "source": [
    "#### Question 4\n",
    "m = sqrt(2*exp(1) / Pi)"
   ]
  },
  {
   "cell_type": "code",
   "execution_count": 141,
   "metadata": {},
   "outputs": [],
   "source": [
    "m = sqrt(2*exp(1)/pi)\n",
    "my_rnorm <- function(n){\n",
    "    xi = my_rlaplace(n)\n",
    "    ui = runif(n)\n",
    "    return(xi[which(ui <= dnorm(xi)/(m*my_dlaplace(xi)))])\n",
    "}"
   ]
  },
  {
   "cell_type": "code",
   "execution_count": 148,
   "metadata": {},
   "outputs": [
    {
     "data": {
      "text/html": [
       "0.7617"
      ],
      "text/latex": [
       "0.7617"
      ],
      "text/markdown": [
       "0.7617"
      ],
      "text/plain": [
       "[1] 0.7617"
      ]
     },
     "metadata": {},
     "output_type": "display_data"
    }
   ],
   "source": [
    "length(my_rnorm(10000))/10000"
   ]
  },
  {
   "cell_type": "code",
   "execution_count": 149,
   "metadata": {},
   "outputs": [
    {
     "data": {
      "text/html": [
       "0.76017345053314"
      ],
      "text/latex": [
       "0.76017345053314"
      ],
      "text/markdown": [
       "0.76017345053314"
      ],
      "text/plain": [
       "[1] 0.7601735"
      ]
     },
     "metadata": {},
     "output_type": "display_data"
    }
   ],
   "source": [
    "1/m"
   ]
  },
  {
   "cell_type": "markdown",
   "metadata": {},
   "source": [
    "#### question 5"
   ]
  },
  {
   "cell_type": "code",
   "execution_count": null,
   "metadata": {},
   "outputs": [],
   "source": []
  },
  {
   "cell_type": "code",
   "execution_count": null,
   "metadata": {},
   "outputs": [],
   "source": []
  },
  {
   "cell_type": "code",
   "execution_count": null,
   "metadata": {},
   "outputs": [],
   "source": []
  },
  {
   "cell_type": "code",
   "execution_count": null,
   "metadata": {},
   "outputs": [],
   "source": []
  },
  {
   "cell_type": "code",
   "execution_count": null,
   "metadata": {},
   "outputs": [],
   "source": []
  },
  {
   "cell_type": "code",
   "execution_count": null,
   "metadata": {},
   "outputs": [],
   "source": []
  },
  {
   "cell_type": "code",
   "execution_count": null,
   "metadata": {},
   "outputs": [],
   "source": []
  }
 ],
 "metadata": {
  "kernelspec": {
   "display_name": "R",
   "language": "R",
   "name": "ir"
  },
  "language_info": {
   "codemirror_mode": "r",
   "file_extension": ".r",
   "mimetype": "text/x-r-source",
   "name": "R",
   "pygments_lexer": "r",
   "version": "3.4.3"
  }
 },
 "nbformat": 4,
 "nbformat_minor": 2
}
