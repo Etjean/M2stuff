{
 "cells": [
  {
   "cell_type": "markdown",
   "metadata": {},
   "source": [
    "# Simulation en biologie\n",
    "**Lundi 24/09** - Bruno Toupance"
   ]
  },
  {
   "cell_type": "markdown",
   "metadata": {},
   "source": [
    "## Exercice 2"
   ]
  },
  {
   "cell_type": "markdown",
   "metadata": {},
   "source": [
    "Le but de cet exercice est de trouver numériquement la valeur de l'intégrale de la fonction g. La fonction g est définie par :"
   ]
  },
  {
   "cell_type": "code",
   "execution_count": 1,
   "metadata": {},
   "outputs": [],
   "source": [
    "# g function\n",
    "g <- function(x){\n",
    "    return( (exp(x)-1) / (exp(1)-1) )\n",
    "}"
   ]
  },
  {
   "cell_type": "markdown",
   "metadata": {},
   "source": [
    "Et voici une représentation de g sur l'intervalle [0; 2]"
   ]
  },
  {
   "cell_type": "code",
   "execution_count": 2,
   "metadata": {},
   "outputs": [],
   "source": [
    "# Values to evaluate g\n",
    "valX <- seq(from=0, to=2, len=1000)\n",
    "valY = g(valX)"
   ]
  },
  {
   "cell_type": "code",
   "execution_count": 3,
   "metadata": {},
   "outputs": [
    {
     "data": {
      "image/png": "[encoded data removed]",
      "text/plain": [
       "plot without title"
      ]
     },
     "metadata": {},
     "output_type": "display_data"
    }
   ],
   "source": [
    "# plot of g\n",
    "plot(valX, valY, xlab='x', ylab='g(x)', type='l')"
   ]
  },
  {
   "cell_type": "markdown",
   "metadata": {},
   "source": [
    "Analytiquement, on peut trouver la valeur exacte de l'integrale de g sur [0; 2]. La fonction `integrate` de R donne également une très bonne approximation."
   ]
  },
  {
   "cell_type": "markdown",
   "metadata": {},
   "source": [
    "**Preuve :**  \n",
    "$$g(x) = \\frac{exp(x)-1}{exp(1)-1}$$\n",
    "On intègre g entre 0 et 2\n",
    "$$I = \\int_{0}^{2}g(u)du$$\n",
    "$$I = \\int_{0}^{2}\\frac{exp(u)-1}{exp(1)-1}du$$\n",
    "Par linéarité de l'intégrale :\n",
    "$$I = \\frac{1}{exp(1)-1} \\int_{0}^{2}exp(u)-1du$$\n",
    "$$I = \\frac{1}{exp(1)-1} [exp(u)-u]_{0}^{2}$$\n",
    "$$I = \\frac{1}{exp(1)-1}(exp(2)-2-exp(0)+0)$$\n",
    "On obtient finalement :\n",
    "$$I = \\frac{exp(2)-3}{exp(1)-1}$$"
   ]
  },
  {
   "cell_type": "code",
   "execution_count": 28,
   "metadata": {},
   "outputs": [
    {
     "data": {
      "text/plain": [
       "2.554328 with absolute error < 2.8e-14"
      ]
     },
     "metadata": {},
     "output_type": "display_data"
    },
    {
     "data": {
      "text/html": [
       "2.55432841472039"
      ],
      "text/latex": [
       "2.55432841472039"
      ],
      "text/markdown": [
       "2.55432841472039"
      ],
      "text/plain": [
       "[1] 2.554328"
      ]
     },
     "metadata": {},
     "output_type": "display_data"
    }
   ],
   "source": [
    "# Valeur à trouver de l'intégration\n",
    "# fonction integrate\n",
    "integrate(g, lower = 0, upper = 2)\n",
    "# valeur exacte\n",
    "Iexact = (exp(2)-3)/(exp(1)-1)\n",
    "Iexact"
   ]
  },
  {
   "cell_type": "code",
   "execution_count": 29,
   "metadata": {},
   "outputs": [
    {
     "data": {
      "text/html": [
       "2.55305410562021"
      ],
      "text/latex": [
       "2.55305410562021"
      ],
      "text/markdown": [
       "2.55305410562021"
      ],
      "text/plain": [
       "[1] 2.553054"
      ]
     },
     "metadata": {},
     "output_type": "display_data"
    }
   ],
   "source": [
    "# 2 : MC par tirage noir ou blanc\n",
    "n = 100                                  # nombre de tirages\n",
    "nb_rep = 10000                           # nb de repetition de la methode\n",
    "\n",
    "list_Ibw = c()\n",
    "m = g(2)                                 # majorant de g\n",
    "for (i in 1:nb_rep){\n",
    "    tirageX = runif(n, min=0, max=2)     # x entre 0 et 2\n",
    "    tirageY = runif(n, min=0, max=m)     # y entre 0 et m\n",
    "    ns = sum(g(tirageX)-tirageY >= 0)    # nombre de tirages en-dessous de g\n",
    "    Ibw = m*(2-0)*ns/n                   # valeur estimée de I\n",
    "    list_Ibw = c(list_Ibw, Ibw)\n",
    "}\n",
    "Ibw = mean(list_Ibw)                     # valeur obtenue avec le tirage noir et blanc\n",
    "Ibw"
   ]
  },
  {
   "cell_type": "code",
   "execution_count": 30,
   "metadata": {},
   "outputs": [
    {
     "data": {
      "text/html": [
       "2.55015305215127"
      ],
      "text/latex": [
       "2.55015305215127"
      ],
      "text/markdown": [
       "2.55015305215127"
      ],
      "text/plain": [
       "[1] 2.550153"
      ]
     },
     "metadata": {},
     "output_type": "display_data"
    }
   ],
   "source": [
    "# 3 : MC simple\n",
    "list_Isimple = c()\n",
    "for(i in 1:nb_rep){\n",
    "    tirageX = runif(n, min=0, max=2)     # x entre 0 et 2\n",
    "    Isimple = (2-0)/n*sum(g(tirageX))\n",
    "    list_Isimple = c(list_Isimple, Isimple)\n",
    "}\n",
    "Isimple = mean(list_Isimple)\n",
    "Isimple"
   ]
  },
  {
   "cell_type": "code",
   "execution_count": 31,
   "metadata": {},
   "outputs": [
    {
     "data": {
      "text/html": [
       "2.55525315614613"
      ],
      "text/latex": [
       "2.55525315614613"
      ],
      "text/markdown": [
       "2.55525315614613"
      ],
      "text/plain": [
       "[1] 2.555253"
      ]
     },
     "metadata": {},
     "output_type": "display_data"
    }
   ],
   "source": [
    "# 4 : MC suivant l'importance\n",
    "alpha = 2\n",
    "beta = 1\n",
    "h <- function(x){    \n",
    "    return(g(x)/(dbeta(x/2, alpha, beta)/2))\n",
    "}\n",
    "\n",
    "\n",
    "list_Iimport = c()\n",
    "for (i in 1:nb_rep){\n",
    "    tirageX = rbeta(n, alpha, beta)*2\n",
    "    Iimport = mean(h(tirageX))\n",
    "    list_Iimport = c(list_Iimport, Iimport)\n",
    "}\n",
    "\n",
    "Iimport = mean(list_Iimport)\n",
    "Iimport"
   ]
  },
  {
   "cell_type": "code",
   "execution_count": 12,
   "metadata": {},
   "outputs": [],
   "source": [
    "# 5 : Amelioration BIS\n",
    "h <- function(x, alpha, beta){\n",
    "    return(g(x)/(dbeta(x/2, alpha, beta)/2))\n",
    "}\n",
    "\n",
    "fn <- function(par){\n",
    "    alpha = par[1]\n",
    "    beta = par[2]\n",
    "    score = c()\n",
    "    for(i in 1:100){\n",
    "        tirageX = rbeta(n, alpha, beta)*2\n",
    "        score = c(score, abs(Iexact - mean(h(tirageX, alpha, beta))))\n",
    "    }\n",
    "    return(mean(score))\n",
    "}"
   ]
  },
  {
   "cell_type": "code",
   "execution_count": 13,
   "metadata": {},
   "outputs": [],
   "source": [
    "optimal_par = suppressWarnings(optim(c(2, 1), fn))$par"
   ]
  },
  {
   "cell_type": "code",
   "execution_count": 14,
   "metadata": {},
   "outputs": [
    {
     "data": {
      "text/html": [
       "<ol class=list-inline>\n",
       "\t<li>2.33600170006508</li>\n",
       "\t<li>0.875535807073513</li>\n",
       "</ol>\n"
      ],
      "text/latex": [
       "\\begin{enumerate*}\n",
       "\\item 2.33600170006508\n",
       "\\item 0.875535807073513\n",
       "\\end{enumerate*}\n"
      ],
      "text/markdown": [
       "1. 2.33600170006508\n",
       "2. 0.875535807073513\n",
       "\n",
       "\n"
      ],
      "text/plain": [
       "[1] 2.3360017 0.8755358"
      ]
     },
     "metadata": {},
     "output_type": "display_data"
    }
   ],
   "source": [
    "optimal_par"
   ]
  },
  {
   "cell_type": "code",
   "execution_count": 32,
   "metadata": {},
   "outputs": [
    {
     "data": {
      "text/html": [
       "2.55420159410669"
      ],
      "text/latex": [
       "2.55420159410669"
      ],
      "text/markdown": [
       "2.55420159410669"
      ],
      "text/plain": [
       "[1] 2.554202"
      ]
     },
     "metadata": {},
     "output_type": "display_data"
    }
   ],
   "source": [
    "alpha = optimal_par[1]\n",
    "beta = optimal_par[2]\n",
    "h <- function(x){    \n",
    "    return(g(x)/(dbeta(x/2, alpha, beta)/2))\n",
    "}\n",
    "\n",
    "\n",
    "list_Ioptim = c()\n",
    "for (i in 1:nb_rep){\n",
    "    tirageX = rbeta(n, alpha, beta)*2\n",
    "    Ioptim = mean(h(tirageX))\n",
    "    list_Ioptim = c(list_Ioptim, Ioptim)\n",
    "}\n",
    "\n",
    "Ioptim = mean(list_Ioptim)\n",
    "Ioptim"
   ]
  },
  {
   "cell_type": "code",
   "execution_count": 34,
   "metadata": {},
   "outputs": [
    {
     "name": "stdout",
     "output_type": "stream",
     "text": [
      "[1] 13.3307\n",
      "[1] 10.95711\n",
      "[1] 13.97199\n",
      "[1] 17.94547\n"
     ]
    }
   ],
   "source": [
    "# 6 : Comparaison\n",
    "MSE_Iexact = function(I){\n",
    "    return(mean((Iexact - I))^2)\n",
    "}\n",
    "# MC noir et blanc\n",
    "print(-log(MSE_Iexact(Ibw)))\n",
    "# MC simple\n",
    "print(-log(MSE_Iexact(Isimple)))\n",
    "# MC suivant l'importance\n",
    "print(-log(MSE_Iexact(Iimport)))\n",
    "# MC suivant l'importance optimisé\n",
    "print(-log(MSE_Iexact(Ioptim)))"
   ]
  },
  {
   "cell_type": "markdown",
   "metadata": {},
   "source": [
    "Finalement, la précision des différentes méthodes varie beaucoup.  \n",
    "\n",
    "La méthode *MC simple* est de loin la moins précise.  \n",
    "\n",
    "De manière assez surprenante, la méthode *MC noir et blanc* est assez performante, et comparable à la méthode MC suivant l'importance, avec une loi beta de parametres alpha=2 et beta=1.\n",
    "\n",
    "La méthode la plus précise est aussi la plus élaborée, à savoir la méthode *MC suivant l'importance*, pour laquelle les paramètres de la fonction beta ont été optimisés. "
   ]
  },
  {
   "cell_type": "markdown",
   "metadata": {},
   "source": [
    "## Exercice 3"
   ]
  },
  {
   "cell_type": "markdown",
   "metadata": {},
   "source": [
    "#### Question 1"
   ]
  },
  {
   "cell_type": "code",
   "execution_count": null,
   "metadata": {},
   "outputs": [],
   "source": []
  },
  {
   "cell_type": "markdown",
   "metadata": {},
   "source": [
    "#### Question 2"
   ]
  },
  {
   "cell_type": "code",
   "execution_count": null,
   "metadata": {},
   "outputs": [],
   "source": []
  },
  {
   "cell_type": "markdown",
   "metadata": {},
   "source": [
    "#### Question 3\n",
    "- Densité `dlaplace()`\n",
    "```\n",
    "g(x) = 1/2*exp(x) si x <= 0\n",
    "g(x) = 1/2*exp(-x) si x >= 0\n",
    "```\n",
    "\n",
    "- Répartition `plaplace()`\n",
    "```\n",
    "G(x) = 1/2*exp(x) si x <= 0\n",
    "G(x) = 1 - 1/2*exp(-x) si x >= 0\n",
    "```\n",
    "\n",
    "- Quantile `qlaplace()`\n",
    "```\n",
    "G^(-1)(x) = ln(2p) si 0<=p<=1/2\n",
    "G^(-1)(x) = -ln(2*(1-p)) si 1/2<=p<=1\n",
    "```\n"
   ]
  },
  {
   "cell_type": "code",
   "execution_count": 36,
   "metadata": {},
   "outputs": [],
   "source": [
    "my_dlaplace <- function(x){\n",
    "    a = rep(0, length(x))\n",
    "    a[x<=0]=1/2*exp(x[which(x<=0)])\n",
    "    a[x>0]=1/2*exp(-x[which(x>0)])\n",
    "    return(a)\n",
    "}"
   ]
  },
  {
   "cell_type": "code",
   "execution_count": 37,
   "metadata": {},
   "outputs": [],
   "source": [
    "my_plaplace <- function(x){\n",
    "    a = rep(0, length(x))\n",
    "    a[x<=0] = 1/2*exp(x[which(x<=0)])\n",
    "    a[x>0] = 1 - 1/2*exp(-x[which(x>0)])\n",
    "    return(a)\n",
    "}"
   ]
  },
  {
   "cell_type": "code",
   "execution_count": 38,
   "metadata": {},
   "outputs": [],
   "source": [
    "my_qlaplace <- function(p){\n",
    "    a = rep(0, length(p))\n",
    "    a[p>=0 & p<=1/2] = log(2*p[which(p>=0 & p<=1/2)])\n",
    "    a[p>=1/2 & p<=1] = -log(2*(1-p[which(p>=1/2 & p<=1)]))\n",
    "    return(a)\n",
    "}"
   ]
  },
  {
   "cell_type": "code",
   "execution_count": 39,
   "metadata": {},
   "outputs": [],
   "source": [
    "my_rlaplace <- function(n){\n",
    "    return(my_qlaplace(runif(n, 0, 1)))\n",
    "}"
   ]
  },
  {
   "cell_type": "code",
   "execution_count": 46,
   "metadata": {},
   "outputs": [],
   "source": [
    "val_laplace = my_rlaplace(100000)"
   ]
  },
  {
   "cell_type": "code",
   "execution_count": 49,
   "metadata": {},
   "outputs": [
    {
     "data": {
      "image/png": "[encoded data removed]",
      "text/plain": [
       "Plot with title “Histogram of val_laplace”"
      ]
     },
     "metadata": {},
     "output_type": "display_data"
    }
   ],
   "source": [
    "# Histograme des valeurs obtenues avec my_rlaplace\n",
    "hist(val_laplace, breaks = 100)"
   ]
  },
  {
   "cell_type": "markdown",
   "metadata": {},
   "source": [
    "#### Question 4\n",
    "m = sqrt(2*exp(1) / Pi)"
   ]
  },
  {
   "cell_type": "code",
   "execution_count": 141,
   "metadata": {},
   "outputs": [],
   "source": [
    "# methode de rejet\n",
    "m = sqrt(2*exp(1)/pi)\n",
    "my_rnorm <- function(n){\n",
    "    xi = my_rlaplace(n)\n",
    "    ui = runif(n)\n",
    "    return(xi[which(ui <= dnorm(xi)/(m*my_dlaplace(xi)))])\n",
    "}\n"
   ]
  },
  {
   "cell_type": "code",
   "execution_count": 148,
   "metadata": {},
   "outputs": [
    {
     "data": {
      "text/html": [
       "0.7617"
      ],
      "text/latex": [
       "0.7617"
      ],
      "text/markdown": [
       "0.7617"
      ],
      "text/plain": [
       "[1] 0.7617"
      ]
     },
     "metadata": {},
     "output_type": "display_data"
    }
   ],
   "source": [
    "# taux de rejet calculé\n",
    "length(my_rnorm(10000))/10000"
   ]
  },
  {
   "cell_type": "code",
   "execution_count": 149,
   "metadata": {},
   "outputs": [
    {
     "data": {
      "text/html": [
       "0.76017345053314"
      ],
      "text/latex": [
       "0.76017345053314"
      ],
      "text/markdown": [
       "0.76017345053314"
      ],
      "text/plain": [
       "[1] 0.7601735"
      ]
     },
     "metadata": {},
     "output_type": "display_data"
    }
   ],
   "source": [
    "# taux de rejet attendu\n",
    "1/m"
   ]
  },
  {
   "cell_type": "code",
   "execution_count": null,
   "metadata": {},
   "outputs": [],
   "source": []
  },
  {
   "cell_type": "code",
   "execution_count": null,
   "metadata": {},
   "outputs": [],
   "source": []
  },
  {
   "cell_type": "code",
   "execution_count": null,
   "metadata": {},
   "outputs": [],
   "source": []
  },
  {
   "cell_type": "code",
   "execution_count": null,
   "metadata": {},
   "outputs": [],
   "source": []
  },
  {
   "cell_type": "code",
   "execution_count": null,
   "metadata": {},
   "outputs": [],
   "source": []
  },
  {
   "cell_type": "code",
   "execution_count": null,
   "metadata": {},
   "outputs": [],
   "source": []
  },
  {
   "cell_type": "code",
   "execution_count": null,
   "metadata": {},
   "outputs": [],
   "source": []
  }
 ],
 "metadata": {
  "kernelspec": {
   "display_name": "R",
   "language": "R",
   "name": "ir"
  },
  "language_info": {
   "codemirror_mode": "r",
   "file_extension": ".r",
   "mimetype": "text/x-r-source",
   "name": "R",
   "pygments_lexer": "r",
   "version": "3.4.3"
  }
 },
 "nbformat": 4,
 "nbformat_minor": 2
}
