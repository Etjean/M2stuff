{
 "cells": [
  {
   "cell_type": "markdown",
   "metadata": {},
   "source": [
    "# Simulation en biologie\n",
    "**Lundi 24/09** - Bruno Toupance"
   ]
  },
  {
   "cell_type": "markdown",
   "metadata": {},
   "source": [
    "## Exercice 2"
   ]
  },
  {
   "cell_type": "markdown",
   "metadata": {},
   "source": [
    "Le but de cet exercice est de trouver numériquement la valeur de l'intégrale de la fonction g. La fonction g est définie par :"
   ]
  },
  {
   "cell_type": "code",
   "execution_count": 1,
   "metadata": {},
   "outputs": [],
   "source": [
    "# g function\n",
    "g <- function(x){\n",
    "    return( (exp(x)-1) / (exp(1)-1) )\n",
    "}"
   ]
  },
  {
   "cell_type": "markdown",
   "metadata": {},
   "source": [
    "Et voici une représentation de g sur l'intervalle [0; 2]"
   ]
  },
  {
   "cell_type": "code",
   "execution_count": 2,
   "metadata": {},
   "outputs": [],
   "source": [
    "# Values to evaluate g\n",
    "valX <- seq(from=0, to=2, len=1000)\n",
    "valY = g(valX)"
   ]
  },
  {
   "cell_type": "code",
   "execution_count": 3,
   "metadata": {},
   "outputs": [
    {
     "data": {
      "image/png": "[encoded data removed]",
      "text/plain": [
       "plot without title"
      ]
     },
     "metadata": {},
     "output_type": "display_data"
    }
   ],
   "source": [
    "# plot of g\n",
    "plot(valX, valY, xlab='x', ylab='g(x)', type='l')"
   ]
  },
  {
   "cell_type": "markdown",
   "metadata": {},
   "source": [
    "Analytiquement, on peut trouver la valeur exacte de l'integrale de g sur [0; 2]. La fonction `integrate` de R donne également une très bonne approximation."
   ]
  },
  {
   "cell_type": "markdown",
   "metadata": {},
   "source": [
    "**Preuve :**  \n",
    "$$g(x) = \\frac{exp(x)-1}{exp(1)-1}$$\n",
    "On intègre g entre 0 et 2\n",
    "$$I = \\int_{0}^{2}g(u)du$$\n",
    "$$I = \\int_{0}^{2}\\frac{exp(u)-1}{exp(1)-1}du$$\n",
    "Par linéarité de l'intégrale :\n",
    "$$I = \\frac{1}{exp(1)-1} \\int_{0}^{2}exp(u)-1du$$\n",
    "$$I = \\frac{1}{exp(1)-1} [exp(u)-u]_{0}^{2}$$\n",
    "$$I = \\frac{1}{exp(1)-1}(exp(2)-2-exp(0)+0)$$\n",
    "On obtient finalement :\n",
    "$$I = \\frac{exp(2)-3}{exp(1)-1}$$"
   ]
  },
  {
   "cell_type": "code",
   "execution_count": 4,
   "metadata": {},
   "outputs": [
    {
     "data": {
      "text/plain": [
       "2,554328 with absolute error < 2,8e-14"
      ]
     },
     "metadata": {},
     "output_type": "display_data"
    },
    {
     "data": {
      "text/html": [
       "2,55432841472039"
      ],
      "text/latex": [
       "2,55432841472039"
      ],
      "text/markdown": [
       "2,55432841472039"
      ],
      "text/plain": [
       "[1] 2,554328"
      ]
     },
     "metadata": {},
     "output_type": "display_data"
    }
   ],
   "source": [
    "# Valeur à trouver de l'intégration\n",
    "# fonction integrate\n",
    "integrate(g, lower = 0, upper = 2)\n",
    "# valeur exacte\n",
    "Iexact = (exp(2)-3)/(exp(1)-1)\n",
    "Iexact"
   ]
  },
  {
   "cell_type": "code",
   "execution_count": 5,
   "metadata": {},
   "outputs": [
    {
     "data": {
      "text/html": [
       "2,56004447545771"
      ],
      "text/latex": [
       "2,56004447545771"
      ],
      "text/markdown": [
       "2,56004447545771"
      ],
      "text/plain": [
       "[1] 2,560044"
      ]
     },
     "metadata": {},
     "output_type": "display_data"
    }
   ],
   "source": [
    "# 2 : MC par tirage noir ou blanc\n",
    "n = 100                                  # nombre de tirages\n",
    "nb_rep = 10000                           # nb de repetition de la methode\n",
    "\n",
    "list_Ibw = c()\n",
    "m = g(2)                                 # majorant de g\n",
    "for (i in 1:nb_rep){\n",
    "    tirageX = runif(n, min=0, max=2)     # x entre 0 et 2\n",
    "    tirageY = runif(n, min=0, max=m)     # y entre 0 et m\n",
    "    ns = sum(g(tirageX)-tirageY >= 0)    # nombre de tirages sous g\n",
    "    Ibw = m*(2-0)*ns/n                   # valeur estimée de I\n",
    "    list_Ibw = c(list_Ibw, Ibw)\n",
    "}\n",
    "Ibw = mean(list_Ibw)                     # valeur tirage noir et blanc\n",
    "Ibw"
   ]
  },
  {
   "cell_type": "code",
   "execution_count": 6,
   "metadata": {},
   "outputs": [
    {
     "data": {
      "text/html": [
       "2,55262590132917"
      ],
      "text/latex": [
       "2,55262590132917"
      ],
      "text/markdown": [
       "2,55262590132917"
      ],
      "text/plain": [
       "[1] 2,552626"
      ]
     },
     "metadata": {},
     "output_type": "display_data"
    }
   ],
   "source": [
    "# 3 : MC simple\n",
    "list_Isimple = c()\n",
    "for(i in 1:nb_rep){\n",
    "    tirageX = runif(n, min=0, max=2)     # x entre 0 et 2\n",
    "    Isimple = (2-0)/n*sum(g(tirageX))\n",
    "    list_Isimple = c(list_Isimple, Isimple)\n",
    "}\n",
    "Isimple = mean(list_Isimple)\n",
    "Isimple"
   ]
  },
  {
   "cell_type": "code",
   "execution_count": 7,
   "metadata": {},
   "outputs": [
    {
     "data": {
      "text/html": [
       "2,55376079132008"
      ],
      "text/latex": [
       "2,55376079132008"
      ],
      "text/markdown": [
       "2,55376079132008"
      ],
      "text/plain": [
       "[1] 2,553761"
      ]
     },
     "metadata": {},
     "output_type": "display_data"
    }
   ],
   "source": [
    "# 4 : MC suivant l'importance\n",
    "alpha = 2\n",
    "beta = 1\n",
    "h <- function(x){    \n",
    "    return(g(x)/(dbeta(x/2, alpha, beta)/2))\n",
    "}\n",
    "\n",
    "\n",
    "list_Iimport = c()\n",
    "for (i in 1:nb_rep){\n",
    "    tirageX = rbeta(n, alpha, beta)*2\n",
    "    Iimport = mean(h(tirageX))\n",
    "    list_Iimport = c(list_Iimport, Iimport)\n",
    "}\n",
    "\n",
    "Iimport = mean(list_Iimport)\n",
    "Iimport"
   ]
  },
  {
   "cell_type": "code",
   "execution_count": 8,
   "metadata": {},
   "outputs": [],
   "source": [
    "# 5 : Amelioration BIS\n",
    "h <- function(x, alpha, beta){\n",
    "    return(g(x)/(dbeta(x/2, alpha, beta)/2))\n",
    "}\n",
    "\n",
    "fn <- function(par){\n",
    "    alpha = par[1]\n",
    "    beta = par[2]\n",
    "    score = c()\n",
    "    for(i in 1:100){\n",
    "        tirageX = rbeta(n, alpha, beta)*2\n",
    "        score = c(score, abs(Iexact - mean(h(tirageX, alpha, beta))))\n",
    "    }\n",
    "    return(mean(score))\n",
    "}"
   ]
  },
  {
   "cell_type": "code",
   "execution_count": 9,
   "metadata": {},
   "outputs": [],
   "source": [
    "optimal_par = suppressWarnings(optim(c(2, 1), fn))$par"
   ]
  },
  {
   "cell_type": "code",
   "execution_count": 10,
   "metadata": {},
   "outputs": [
    {
     "data": {
      "text/html": [
       "<ol class=list-inline>\n",
       "\t<li>2,30815888213052</li>\n",
       "\t<li>0,888594799315007</li>\n",
       "</ol>\n"
      ],
      "text/latex": [
       "\\begin{enumerate*}\n",
       "\\item 2,30815888213052\n",
       "\\item 0,888594799315007\n",
       "\\end{enumerate*}\n"
      ],
      "text/markdown": [
       "1. 2,30815888213052\n",
       "2. 0,888594799315007\n",
       "\n",
       "\n"
      ],
      "text/plain": [
       "[1] 2,3081589 0,8885948"
      ]
     },
     "metadata": {},
     "output_type": "display_data"
    }
   ],
   "source": [
    "optimal_par"
   ]
  },
  {
   "cell_type": "code",
   "execution_count": 11,
   "metadata": {},
   "outputs": [
    {
     "data": {
      "text/html": [
       "2,55427783879106"
      ],
      "text/latex": [
       "2,55427783879106"
      ],
      "text/markdown": [
       "2,55427783879106"
      ],
      "text/plain": [
       "[1] 2,554278"
      ]
     },
     "metadata": {},
     "output_type": "display_data"
    }
   ],
   "source": [
    "alpha = optimal_par[1]\n",
    "beta = optimal_par[2]\n",
    "h <- function(x){    \n",
    "    return(g(x)/(dbeta(x/2, alpha, beta)/2))\n",
    "}\n",
    "\n",
    "\n",
    "list_Ioptim = c()\n",
    "for (i in 1:nb_rep){\n",
    "    tirageX = rbeta(n, alpha, beta)*2\n",
    "    Ioptim = mean(h(tirageX))\n",
    "    list_Ioptim = c(list_Ioptim, Ioptim)\n",
    "}\n",
    "\n",
    "Ioptim = mean(list_Ioptim)\n",
    "Ioptim"
   ]
  },
  {
   "cell_type": "code",
   "execution_count": 12,
   "metadata": {},
   "outputs": [
    {
     "name": "stdout",
     "output_type": "stream",
     "text": [
      "[1] 10,32895\n",
      "[1] 12,7513\n",
      "[1] 14,9481\n",
      "[1] 19,78407\n"
     ]
    }
   ],
   "source": [
    "# 6 : Comparaison\n",
    "MSE_Iexact = function(I){\n",
    "    return(mean((Iexact - I))^2)\n",
    "}\n",
    "# MC noir et blanc\n",
    "print(-log(MSE_Iexact(Ibw)))\n",
    "# MC simple\n",
    "print(-log(MSE_Iexact(Isimple)))\n",
    "# MC suivant l'importance\n",
    "print(-log(MSE_Iexact(Iimport)))\n",
    "# MC suivant l'importance optimisé\n",
    "print(-log(MSE_Iexact(Ioptim)))"
   ]
  },
  {
   "cell_type": "markdown",
   "metadata": {},
   "source": [
    "Finalement, la précision des différentes méthodes varie beaucoup.  \n",
    "\n",
    "La méthode *MC simple* est de loin la moins précise.  \n",
    "\n",
    "De manière assez surprenante, la méthode *MC noir et blanc* est assez performante, et comparable à la méthode MC suivant l'importance, avec une loi beta de parametres alpha=2 et beta=1.\n",
    "\n",
    "La méthode la plus précise est aussi la plus élaborée, à savoir la méthode *MC suivant l'importance*, pour laquelle les paramètres de la fonction beta ont été optimisés. "
   ]
  },
  {
   "cell_type": "markdown",
   "metadata": {},
   "source": [
    "## Exercice 3"
   ]
  },
  {
   "cell_type": "markdown",
   "metadata": {},
   "source": [
    "#### Question 1"
   ]
  },
  {
   "cell_type": "code",
   "execution_count": 13,
   "metadata": {},
   "outputs": [],
   "source": [
    "# Fonction inverse de la repartition de la loi de poisson\n",
    "my_rpois_one = function(lambda){\n",
    "    yunif = runif(1, 0, 1)\n",
    "    xpois = 0\n",
    "    while(yunif>ppois(xpois, lambda = 4)){xpois = xpois+1}\n",
    "    return(xpois)\n",
    "}"
   ]
  },
  {
   "cell_type": "code",
   "execution_count": 14,
   "metadata": {},
   "outputs": [],
   "source": [
    "# Fonction rpois\n",
    "my_rpois = function(n, lambda){\n",
    "    vect = c()\n",
    "    for(i in 1:n){\n",
    "        vect = c(vect, my_rpois_one(lambda))\n",
    "    }\n",
    "    return(vect)\n",
    "}"
   ]
  },
  {
   "cell_type": "code",
   "execution_count": 15,
   "metadata": {},
   "outputs": [
    {
     "data": {
      "image/png": "[encoded data removed]",
      "text/plain": [
       "plot without title"
      ]
     },
     "metadata": {},
     "output_type": "display_data"
    }
   ],
   "source": [
    "library(MASS)\n",
    "truehist(my_rpois(10000, 4))"
   ]
  },
  {
   "cell_type": "markdown",
   "metadata": {},
   "source": [
    "#### Question 2"
   ]
  },
  {
   "cell_type": "code",
   "execution_count": 16,
   "metadata": {},
   "outputs": [],
   "source": [
    "# Fonction inverse\n",
    "xdisc = c(-3, 1.3, 7, 15.2)\n",
    "ydisc = c(0.1, 0.4, 0.3, 0.2)\n",
    "my_rdiscret_one = function(){\n",
    "    yunif=runif(1, 0, 1)\n",
    "    i = 1\n",
    "    while(yunif > cumsum(ydisc[1:i])[i]){i = i+1}\n",
    "    return(xdisc[i])\n",
    "}"
   ]
  },
  {
   "cell_type": "code",
   "execution_count": 17,
   "metadata": {},
   "outputs": [],
   "source": [
    "# Fonction rdiscret\n",
    "my_rdiscret = function(n){\n",
    "    vect=c()\n",
    "    for(i in 1:n){\n",
    "        vect=c(vect, my_rdiscret_one())\n",
    "    }\n",
    "    return(vect)\n",
    "}"
   ]
  },
  {
   "cell_type": "code",
   "execution_count": 18,
   "metadata": {},
   "outputs": [
    {
     "data": {
      "image/png": "[encoded data removed]",
      "text/plain": [
       "plot without title"
      ]
     },
     "metadata": {},
     "output_type": "display_data"
    }
   ],
   "source": [
    "library(MASS)\n",
    "truehist(my_rdiscret(10000))"
   ]
  },
  {
   "cell_type": "markdown",
   "metadata": {},
   "source": [
    "#### Question 3\n",
    "- Densité `dlaplace()`\n",
    "```\n",
    "g(x) = 1/2*exp(x) si x <= 0\n",
    "g(x) = 1/2*exp(-x) si x >= 0\n",
    "```\n",
    "\n",
    "- Répartition `plaplace()`\n",
    "```\n",
    "G(x) = 1/2*exp(x) si x <= 0\n",
    "G(x) = 1 - 1/2*exp(-x) si x >= 0\n",
    "```\n",
    "\n",
    "- Quantile `qlaplace()`\n",
    "```\n",
    "G^(-1)(x) = ln(2p) si 0<=p<=1/2\n",
    "G^(-1)(x) = -ln(2*(1-p)) si 1/2<=p<=1\n",
    "```\n"
   ]
  },
  {
   "cell_type": "code",
   "execution_count": 19,
   "metadata": {},
   "outputs": [],
   "source": [
    "my_dlaplace <- function(x){\n",
    "    a = rep(0, length(x))\n",
    "    a[x<=0]=1/2*exp(x[which(x<=0)])\n",
    "    a[x>0]=1/2*exp(-x[which(x>0)])\n",
    "    return(a)\n",
    "}"
   ]
  },
  {
   "cell_type": "code",
   "execution_count": 20,
   "metadata": {},
   "outputs": [],
   "source": [
    "my_plaplace <- function(x){\n",
    "    a = rep(0, length(x))\n",
    "    a[x<=0] = 1/2*exp(x[which(x<=0)])\n",
    "    a[x>0] = 1 - 1/2*exp(-x[which(x>0)])\n",
    "    return(a)\n",
    "}"
   ]
  },
  {
   "cell_type": "code",
   "execution_count": 21,
   "metadata": {},
   "outputs": [],
   "source": [
    "my_qlaplace <- function(p){\n",
    "    a = rep(0, length(p))\n",
    "    a[p>=0 & p<=1/2] = log(2*p[which(p>=0 & p<=1/2)])\n",
    "    a[p>=1/2 & p<=1] = -log(2*(1-p[which(p>=1/2 & p<=1)]))\n",
    "    return(a)\n",
    "}"
   ]
  },
  {
   "cell_type": "code",
   "execution_count": 22,
   "metadata": {},
   "outputs": [],
   "source": [
    "my_rlaplace <- function(n){\n",
    "    return(my_qlaplace(runif(n, 0, 1)))\n",
    "}"
   ]
  },
  {
   "cell_type": "code",
   "execution_count": 23,
   "metadata": {},
   "outputs": [
    {
     "data": {
      "image/png": "[encoded data removed]",
      "text/plain": [
       "plot without title"
      ]
     },
     "metadata": {},
     "output_type": "display_data"
    }
   ],
   "source": [
    "# Histograme des valeurs obtenues avec my_rlaplace\n",
    "library(MASS)\n",
    "val_laplace = my_rlaplace(100000)\n",
    "truehist(val_laplace)"
   ]
  },
  {
   "cell_type": "markdown",
   "metadata": {},
   "source": [
    "#### Question 4\n",
    "La fonction g est symétrique. Ainsi, rechercher le maximum de $h(x) = \\frac{f(x)}{g(x)}$ sur $\\mathbb{R}$ revient à le chercher pour $x \\geq 0$. On a donc :\n",
    "$$g(x) = \\frac{1}{2} exp(-x)$$\n",
    "$$f(x) = \\frac{1}{\\sqrt{2\\pi }} exp(\\frac{-x^{2}}{2})$$\n",
    "$$h(x) = \\frac{f(x)}{g(x)} = \\frac{\\frac{1}{2} exp(-x)}{\\frac{1}{\\sqrt{2\\pi }} exp(\\frac{-x^{2}}{2})}$$\n",
    "$$h(x) = \\sqrt{\\frac{2}{\\pi }} exp(x-\\frac{x^{2}}{2})$$\n",
    "En dérivant h, on obtient :\n",
    "$$\\frac{\\mathrm{d} h}{\\mathrm{d} x} = \\sqrt{\\frac{2}{\\pi }}(1-x) exp(x-\\frac{x^{2}}{2})$$\n",
    "Le signe de la dérivée de h est :\n",
    "$$\\frac{\\mathrm{d} h}{\\mathrm{d} x}(1) = 0$$\n",
    "$$\\frac{\\mathrm{d} h}{\\mathrm{d} x}(x) \\geq  0 $$\n",
    "$$\\frac{\\mathrm{d} h}{\\mathrm{d} x}(x) \\leq  0$$\n",
    "Ainsi, le maximum de h pour $x \\geq 0$ est atteint en $x =1$, et vaut\n",
    "$$f(1) = \\sqrt{\\frac{2exp(1)}{\\pi }} = m$$\n"
   ]
  },
  {
   "cell_type": "code",
   "execution_count": 24,
   "metadata": {},
   "outputs": [],
   "source": [
    "# methode de rejet\n",
    "m = sqrt(2*exp(1)/pi)\n",
    "my_rnorm <- function(n){\n",
    "    xi = my_rlaplace(n)\n",
    "    ui = runif(n)\n",
    "    return(xi[which(ui <= dnorm(xi)/(m*my_dlaplace(xi)))])\n",
    "}\n"
   ]
  },
  {
   "cell_type": "code",
   "execution_count": 25,
   "metadata": {},
   "outputs": [
    {
     "data": {
      "text/html": [
       "0,7591"
      ],
      "text/latex": [
       "0,7591"
      ],
      "text/markdown": [
       "0,7591"
      ],
      "text/plain": [
       "[1] 0,7591"
      ]
     },
     "metadata": {},
     "output_type": "display_data"
    }
   ],
   "source": [
    "# taux de rejet calculé\n",
    "length(my_rnorm(10000))/10000"
   ]
  },
  {
   "cell_type": "code",
   "execution_count": 26,
   "metadata": {},
   "outputs": [
    {
     "data": {
      "text/html": [
       "0,76017345053314"
      ],
      "text/latex": [
       "0,76017345053314"
      ],
      "text/markdown": [
       "0,76017345053314"
      ],
      "text/plain": [
       "[1] 0,7601735"
      ]
     },
     "metadata": {},
     "output_type": "display_data"
    }
   ],
   "source": [
    "# taux de rejet attendu\n",
    "1/m"
   ]
  },
  {
   "cell_type": "code",
   "execution_count": 27,
   "metadata": {},
   "outputs": [
    {
     "data": {
      "image/png": "[encoded data removed]",
      "text/plain": [
       "plot without title"
      ]
     },
     "metadata": {},
     "output_type": "display_data"
    }
   ],
   "source": [
    "# Histogramme des valeurs obtenues avec my_rnorm\n",
    "library(MASS)\n",
    "val_norm = my_rnorm(500000)\n",
    "truehist(val_norm)"
   ]
  }
 ],
 "metadata": {
  "kernelspec": {
   "display_name": "R",
   "language": "R",
   "name": "ir"
  },
  "language_info": {
   "codemirror_mode": "r",
   "file_extension": ".r",
   "mimetype": "text/x-r-source",
   "name": "R",
   "pygments_lexer": "r",
   "version": "3.5.1"
  }
 },
 "nbformat": 4,
 "nbformat_minor": 2
}
