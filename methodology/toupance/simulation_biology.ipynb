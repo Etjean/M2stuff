{
 "cells": [
  {
   "cell_type": "markdown",
   "metadata": {},
   "source": [
    "# Simulation en biologie\n",
    "**Lundi 24/09** - Bruno Toupance"
   ]
  },
  {
   "cell_type": "markdown",
   "metadata": {},
   "source": [
    "## Exercice 2"
   ]
  },
  {
   "cell_type": "code",
   "execution_count": 7,
   "metadata": {},
   "outputs": [],
   "source": [
    "g <- function(x){\n",
    "    return( (exp(x)-1) / (exp(1)-1) )\n",
    "}"
   ]
  },
  {
   "cell_type": "code",
   "execution_count": 8,
   "metadata": {},
   "outputs": [],
   "source": [
    "valX <- seq(from=0, to=2, len=1000)\n",
    "valY = g(valX)"
   ]
  },
  {
   "cell_type": "code",
   "execution_count": 11,
   "metadata": {},
   "outputs": [
    {
     "data": {
      "image/png": "[encoded data removed]",
      "text/plain": [
       "plot without title"
      ]
     },
     "metadata": {},
     "output_type": "display_data"
    }
   ],
   "source": [
    "plot(valX, valY, xlab='x', ylab='g(x)', type='l')"
   ]
  },
  {
   "cell_type": "code",
   "execution_count": 142,
   "metadata": {},
   "outputs": [
    {
     "data": {
      "text/plain": [
       "2.554328 with absolute error < 2.8e-14"
      ]
     },
     "metadata": {},
     "output_type": "display_data"
    }
   ],
   "source": [
    "# Valeur à trouver de l'intégration\n",
    "# fonction integrate\n",
    "integrate(g, lower = 0, upper = 2)\n",
    "# valeur exacte\n",
    "Iexact = (exp(2)-3)/(exp(1)-1)"
   ]
  },
  {
   "cell_type": "code",
   "execution_count": 170,
   "metadata": {},
   "outputs": [
    {
     "name": "stdout",
     "output_type": "stream",
     "text": [
      "[1] 2.454066\n"
     ]
    },
    {
     "data": {
      "text/html": [
       "9.97382788396758"
      ],
      "text/latex": [
       "9.97382788396758"
      ],
      "text/markdown": [
       "9.97382788396758"
      ],
      "text/plain": [
       "[1] 9.973828"
      ]
     },
     "metadata": {},
     "output_type": "display_data"
    }
   ],
   "source": [
    "# 2 : Tirage noir ou blanc\n",
    "n = 1000\n",
    "m = g(2)\n",
    "tirageX = runif(n, min=0, max=2)\n",
    "tirageY = runif(n, min=0, max=m)\n",
    "ns = sum(g(tirageX)-tirageY >= 0)\n",
    "I = m*(2-0)*ns/n\n",
    "print(I)\n",
    "1/abs(Iexact - I)"
   ]
  },
  {
   "cell_type": "code",
   "execution_count": 171,
   "metadata": {},
   "outputs": [
    {
     "name": "stdout",
     "output_type": "stream",
     "text": [
      "[1] 2.50542\n"
     ]
    },
    {
     "data": {
      "text/html": [
       "20.4465121383824"
      ],
      "text/latex": [
       "20.4465121383824"
      ],
      "text/markdown": [
       "20.4465121383824"
      ],
      "text/plain": [
       "[1] 20.44651"
      ]
     },
     "metadata": {},
     "output_type": "display_data"
    }
   ],
   "source": [
    "# 3 : MC simple\n",
    "I = (2-0)/n*sum(g(tirageX))\n",
    "print(I)\n",
    "1/abs(Iexact - I)"
   ]
  },
  {
   "cell_type": "code",
   "execution_count": 172,
   "metadata": {},
   "outputs": [
    {
     "data": {
      "text/html": [
       "32.5149706872906"
      ],
      "text/latex": [
       "32.5149706872906"
      ],
      "text/markdown": [
       "32.5149706872906"
      ],
      "text/plain": [
       "[1] 32.51497"
      ]
     },
     "metadata": {},
     "output_type": "display_data"
    }
   ],
   "source": [
    "# 4 : MC suivant l'importance\n",
    "tirageX = rbeta(n, 2, 1)*2\n",
    "h <- function(x){\n",
    "    return(g(x)/(dbeta(x/2, 2, 1)/2))\n",
    "}\n",
    "1/abs(Iexact - mean(h(tirageX)))"
   ]
  },
  {
   "cell_type": "code",
   "execution_count": 210,
   "metadata": {},
   "outputs": [
    {
     "data": {
      "text/html": [
       "98.1463113806462"
      ],
      "text/latex": [
       "98.1463113806462"
      ],
      "text/markdown": [
       "98.1463113806462"
      ],
      "text/plain": [
       "[1] 98.14631"
      ]
     },
     "metadata": {},
     "output_type": "display_data"
    }
   ],
   "source": [
    "# 5 : Amelioration\n",
    "ncpp = 2\n",
    "tirageX = rbeta(n, 2, 1, ncp=ncpp)*2\n",
    "h <- function(x){\n",
    "    return(g(x)/(dbeta(x/2, 2, 1, ncp=ncpp)/2))\n",
    "}\n",
    "1/abs(Iexact - mean(h(tirageX)))"
   ]
  },
  {
   "cell_type": "code",
   "execution_count": 180,
   "metadata": {},
   "outputs": [],
   "source": [
    "# 5 : Amelioration BIS\n",
    "h <- function(x, alpha, beta, ncpp){\n",
    "    return(g(x)/(dbeta(x/2, alpha, beta, ncp=ncpp)/2))\n",
    "}\n",
    "\n",
    "fn <- function(par){\n",
    "    ncpp = par[1]\n",
    "    alpha = par[2]\n",
    "    beta = par[3]\n",
    "    score = c()\n",
    "    for(i in 1:100){\n",
    "        tirageX = rbeta(n, alpha, beta, ncp=ncpp)*2\n",
    "        score = c(score, abs(Iexact - mean(h(tirageX, alpha, beta, ncp=ncpp))))\n",
    "    }\n",
    "    return(mean(score))\n",
    "}"
   ]
  },
  {
   "cell_type": "code",
   "execution_count": 246,
   "metadata": {},
   "outputs": [
    {
     "ename": "ERROR",
     "evalue": "Error in h(tirageX, alpha, beta, ncp = ncpp): arguments inutilisés (alpha, beta, ncp = ncpp)\n",
     "output_type": "error",
     "traceback": [
      "Error in h(tirageX, alpha, beta, ncp = ncpp): arguments inutilisés (alpha, beta, ncp = ncpp)\nTraceback:\n",
      "1. suppressWarnings(optim(c(0, 2, 1), fn))",
      "2. withCallingHandlers(expr, warning = function(w) invokeRestart(\"muffleWarning\"))",
      "3. optim(c(0, 2, 1), fn)",
      "4. (function (par) \n . fn(par, ...))(c(0, 2, 1))",
      "5. fn(par, ...)",
      "6. mean(h(tirageX, alpha, beta, ncp = ncpp))   # at line 13 of file <text>"
     ]
    }
   ],
   "source": [
    "optimal_par = suppressWarnings(optim(c(0, 2, 1), fn))$par"
   ]
  },
  {
   "cell_type": "code",
   "execution_count": 245,
   "metadata": {},
   "outputs": [
    {
     "data": {
      "text/html": [
       "2.55480530777673"
      ],
      "text/latex": [
       "2.55480530777673"
      ],
      "text/markdown": [
       "2.55480530777673"
      ],
      "text/plain": [
       "[1] 2.554805"
      ]
     },
     "metadata": {},
     "output_type": "display_data"
    }
   ],
   "source": [
    "ncpp = 0.1386005\n",
    "alpha = 2.3860830\n",
    "beta = 0.9286496\n",
    "tirageX = rbeta(n, alpha, beta, ncp=ncpp)*2\n",
    "h <- function(x){\n",
    "    return(g(x)/(dbeta(x/2, alpha, beta, ncp=ncpp)/2))\n",
    "}\n",
    "mean(h(tirageX))"
   ]
  },
  {
   "cell_type": "code",
   "execution_count": null,
   "metadata": {},
   "outputs": [],
   "source": []
  },
  {
   "cell_type": "markdown",
   "metadata": {},
   "source": [
    "## Exercice 3"
   ]
  },
  {
   "cell_type": "code",
   "execution_count": 1,
   "metadata": {},
   "outputs": [],
   "source": [
    "# 1"
   ]
  },
  {
   "cell_type": "code",
   "execution_count": 2,
   "metadata": {},
   "outputs": [],
   "source": [
    "# 2"
   ]
  },
  {
   "cell_type": "markdown",
   "metadata": {},
   "source": [
    "#### Question 3\n",
    "- Densité `dlaplace()`\n",
    "```\n",
    "g(x) = 1/2*exp(x) si x <= 0\n",
    "g(x) = 1/2*exp(-x) si x >= 0\n",
    "```\n",
    "\n",
    "- Répartition `plaplace()`\n",
    "```\n",
    "G(x) = 1/2*exp(x) si x <= 0\n",
    "G(x) = 1 - 1/2*exp(-x) si x >= 0\n",
    "```\n",
    "\n",
    "- Quantile `qlaplace()`\n",
    "```\n",
    "G^(-1)(x) = ln(2p) si 0<=p<=1/2\n",
    "G^(-1)(x) = -ln(2*(1-p)) si 1/2<=p<=1\n",
    "```\n"
   ]
  },
  {
   "cell_type": "code",
   "execution_count": 119,
   "metadata": {},
   "outputs": [],
   "source": [
    "my_dlaplace <- function(x){\n",
    "    a = rep(0, length(x))\n",
    "    a[x<=0]=1/2*exp(x[which(x<=0)])\n",
    "    a[x>0]=1/2*exp(-x[which(x>0)])\n",
    "    return(a)\n",
    "}"
   ]
  },
  {
   "cell_type": "code",
   "execution_count": 120,
   "metadata": {},
   "outputs": [],
   "source": [
    "my_plaplace <- function(x){\n",
    "    a = rep(0, length(x))\n",
    "    a[x<=0] = 1/2*exp(x[which(x<=0)])\n",
    "    a[x>0] = 1 - 1/2*exp(-x[which(x>0)])\n",
    "    return(a)\n",
    "}"
   ]
  },
  {
   "cell_type": "code",
   "execution_count": 132,
   "metadata": {},
   "outputs": [],
   "source": [
    "my_qlaplace <- function(p){\n",
    "    a = rep(0, length(p))\n",
    "    a[p>=0 & p<=1/2] = log(2*p[which(p>=0 & p<=1/2)])\n",
    "    a[p>=1/2 & p<=1] = -log(2*(1-p[which(p>=1/2 & p<=1)]))\n",
    "    return(a)\n",
    "}"
   ]
  },
  {
   "cell_type": "code",
   "execution_count": 133,
   "metadata": {},
   "outputs": [],
   "source": [
    "my_rlaplace <- function(n){\n",
    "    return(my_qlaplace(runif(n, 0, 1)))\n",
    "}"
   ]
  },
  {
   "cell_type": "markdown",
   "metadata": {},
   "source": [
    "#### Question 4\n",
    "m = sqrt(2*exp(1) / Pi)"
   ]
  },
  {
   "cell_type": "code",
   "execution_count": 141,
   "metadata": {},
   "outputs": [],
   "source": [
    "m = sqrt(2*exp(1)/pi)\n",
    "my_rnorm <- function(n){\n",
    "    xi = my_rlaplace(n)\n",
    "    ui = runif(n)\n",
    "    return(xi[which(ui <= dnorm(xi)/(m*my_dlaplace(xi)))])\n",
    "}"
   ]
  },
  {
   "cell_type": "code",
   "execution_count": 148,
   "metadata": {},
   "outputs": [
    {
     "data": {
      "text/html": [
       "0.7617"
      ],
      "text/latex": [
       "0.7617"
      ],
      "text/markdown": [
       "0.7617"
      ],
      "text/plain": [
       "[1] 0.7617"
      ]
     },
     "metadata": {},
     "output_type": "display_data"
    }
   ],
   "source": [
    "length(my_rnorm(10000))/10000"
   ]
  },
  {
   "cell_type": "code",
   "execution_count": 149,
   "metadata": {},
   "outputs": [
    {
     "data": {
      "text/html": [
       "0.76017345053314"
      ],
      "text/latex": [
       "0.76017345053314"
      ],
      "text/markdown": [
       "0.76017345053314"
      ],
      "text/plain": [
       "[1] 0.7601735"
      ]
     },
     "metadata": {},
     "output_type": "display_data"
    }
   ],
   "source": [
    "1/m"
   ]
  },
  {
   "cell_type": "markdown",
   "metadata": {},
   "source": [
    "#### question 5"
   ]
  },
  {
   "cell_type": "code",
   "execution_count": null,
   "metadata": {},
   "outputs": [],
   "source": []
  },
  {
   "cell_type": "code",
   "execution_count": null,
   "metadata": {},
   "outputs": [],
   "source": []
  },
  {
   "cell_type": "code",
   "execution_count": null,
   "metadata": {},
   "outputs": [],
   "source": []
  },
  {
   "cell_type": "code",
   "execution_count": null,
   "metadata": {},
   "outputs": [],
   "source": []
  },
  {
   "cell_type": "code",
   "execution_count": null,
   "metadata": {},
   "outputs": [],
   "source": []
  },
  {
   "cell_type": "code",
   "execution_count": null,
   "metadata": {},
   "outputs": [],
   "source": []
  },
  {
   "cell_type": "code",
   "execution_count": null,
   "metadata": {},
   "outputs": [],
   "source": []
  }
 ],
 "metadata": {
  "kernelspec": {
   "display_name": "R",
   "language": "R",
   "name": "ir"
  },
  "language_info": {
   "codemirror_mode": "r",
   "file_extension": ".r",
   "mimetype": "text/x-r-source",
   "name": "R",
   "pygments_lexer": "r",
   "version": "3.3.1"
  }
 },
 "nbformat": 4,
 "nbformat_minor": 2
}
