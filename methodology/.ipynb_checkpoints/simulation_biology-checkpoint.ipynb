{
 "cells": [
  {
   "cell_type": "markdown",
   "metadata": {},
   "source": [
    "# Simulation en biologie\n",
    "**Lundi 24/09** - Bruno Toupance"
   ]
  },
  {
   "cell_type": "markdown",
   "metadata": {},
   "source": [
    "## Exercice 2"
   ]
  },
  {
   "cell_type": "code",
   "execution_count": 7,
   "metadata": {},
   "outputs": [],
   "source": [
    "g <- function(x){\n",
    "    return( (exp(x)-1) / (exp(1)-1) )\n",
    "}"
   ]
  },
  {
   "cell_type": "code",
   "execution_count": 8,
   "metadata": {},
   "outputs": [],
   "source": [
    "valX <- seq(from=0, to=2, len=1000)\n",
    "valY = g(valX)"
   ]
  },
  {
   "cell_type": "code",
   "execution_count": 11,
   "metadata": {},
   "outputs": [
    {
     "data": {
      "image/png": "[encoded data removed]",
      "text/plain": [
       "plot without title"
      ]
     },
     "metadata": {},
     "output_type": "display_data"
    }
   ],
   "source": [
    "plot(valX, valY, xlab='x', ylab='g(x)', type='l')"
   ]
  },
  {
   "cell_type": "code",
   "execution_count": 142,
   "metadata": {},
   "outputs": [
    {
     "data": {
      "text/plain": [
       "2.554328 with absolute error < 2.8e-14"
      ]
     },
     "metadata": {},
     "output_type": "display_data"
    }
   ],
   "source": [
    "# Valeur à trouver de l'intégration\n",
    "# fonction integrate\n",
    "integrate(g, lower = 0, upper = 2)\n",
    "# valeur exacte\n",
    "Iexact = (exp(2)-3)/(exp(1)-1)"
   ]
  },
  {
   "cell_type": "code",
   "execution_count": 170,
   "metadata": {},
   "outputs": [
    {
     "name": "stdout",
     "output_type": "stream",
     "text": [
      "[1] 2.454066\n"
     ]
    },
    {
     "data": {
      "text/html": [
       "9.97382788396758"
      ],
      "text/latex": [
       "9.97382788396758"
      ],
      "text/markdown": [
       "9.97382788396758"
      ],
      "text/plain": [
       "[1] 9.973828"
      ]
     },
     "metadata": {},
     "output_type": "display_data"
    }
   ],
   "source": [
    "# 2 : Tirage noir ou blanc\n",
    "n = 1000\n",
    "m = g(2)\n",
    "tirageX = runif(n, min=0, max=2)\n",
    "tirageY = runif(n, min=0, max=m)\n",
    "ns = sum(g(tirageX)-tirageY >= 0)\n",
    "I = m*(2-0)*ns/n\n",
    "print(I)\n",
    "1/abs(Iexact - I)"
   ]
  },
  {
   "cell_type": "code",
   "execution_count": 171,
   "metadata": {},
   "outputs": [
    {
     "name": "stdout",
     "output_type": "stream",
     "text": [
      "[1] 2.50542\n"
     ]
    },
    {
     "data": {
      "text/html": [
       "20.4465121383824"
      ],
      "text/latex": [
       "20.4465121383824"
      ],
      "text/markdown": [
       "20.4465121383824"
      ],
      "text/plain": [
       "[1] 20.44651"
      ]
     },
     "metadata": {},
     "output_type": "display_data"
    }
   ],
   "source": [
    "# 3 : MC simple\n",
    "I = (2-0)/n*sum(g(tirageX))\n",
    "print(I)\n",
    "1/abs(Iexact - I)"
   ]
  },
  {
   "cell_type": "code",
   "execution_count": 172,
   "metadata": {},
   "outputs": [
    {
     "data": {
      "text/html": [
       "32.5149706872906"
      ],
      "text/latex": [
       "32.5149706872906"
      ],
      "text/markdown": [
       "32.5149706872906"
      ],
      "text/plain": [
       "[1] 32.51497"
      ]
     },
     "metadata": {},
     "output_type": "display_data"
    }
   ],
   "source": [
    "# 4 : MC suivant l'importance\n",
    "tirageX = rbeta(n, 2, 1)*2\n",
    "h <- function(x){\n",
    "    return(g(x)/(dbeta(x/2, 2, 1)/2))\n",
    "}\n",
    "1/abs(Iexact - mean(h(tirageX)))"
   ]
  },
  {
   "cell_type": "code",
   "execution_count": 210,
   "metadata": {},
   "outputs": [
    {
     "data": {
      "text/html": [
       "98.1463113806462"
      ],
      "text/latex": [
       "98.1463113806462"
      ],
      "text/markdown": [
       "98.1463113806462"
      ],
      "text/plain": [
       "[1] 98.14631"
      ]
     },
     "metadata": {},
     "output_type": "display_data"
    }
   ],
   "source": [
    "# 5 : Amelioration\n",
    "ncpp = 2\n",
    "tirageX = rbeta(n, 2, 1, ncp=ncpp)*2\n",
    "h <- function(x){\n",
    "    return(g(x)/(dbeta(x/2, 2, 1, ncp=ncpp)/2))\n",
    "}\n",
    "1/abs(Iexact - mean(h(tirageX)))"
   ]
  },
  {
   "cell_type": "code",
   "execution_count": 180,
   "metadata": {},
   "outputs": [],
   "source": [
    "# 5 : Amelioration BIS\n",
    "h <- function(x, alpha, beta, ncpp){\n",
    "    return(g(x)/(dbeta(x/2, alpha, beta, ncp=ncpp)/2))\n",
    "}\n",
    "\n",
    "fn <- function(par){\n",
    "    ncpp = par[1]\n",
    "    alpha = par[2]\n",
    "    beta = par[3]\n",
    "    score = c()\n",
    "    for(i in 1:100){\n",
    "        tirageX = rbeta(n, alpha, beta, ncp=ncpp)*2\n",
    "        score = c(score, abs(Iexact - mean(h(tirageX, alpha, beta, ncp=ncpp))))\n",
    "    }\n",
    "    return(mean(score))\n",
    "}"
   ]
  },
  {
   "cell_type": "code",
   "execution_count": 246,
   "metadata": {},
   "outputs": [
    {
     "ename": "ERROR",
     "evalue": "Error in h(tirageX, alpha, beta, ncp = ncpp): arguments inutilisés (alpha, beta, ncp = ncpp)\n",
     "output_type": "error",
     "traceback": [
      "Error in h(tirageX, alpha, beta, ncp = ncpp): arguments inutilisés (alpha, beta, ncp = ncpp)\nTraceback:\n",
      "1. suppressWarnings(optim(c(0, 2, 1), fn))",
      "2. withCallingHandlers(expr, warning = function(w) invokeRestart(\"muffleWarning\"))",
      "3. optim(c(0, 2, 1), fn)",
      "4. (function (par) \n . fn(par, ...))(c(0, 2, 1))",
      "5. fn(par, ...)",
      "6. mean(h(tirageX, alpha, beta, ncp = ncpp))   # at line 13 of file <text>"
     ]
    }
   ],
   "source": [
    "optimal_par = suppressWarnings(optim(c(0, 2, 1), fn))$par"
   ]
  },
  {
   "cell_type": "code",
   "execution_count": 245,
   "metadata": {},
   "outputs": [
    {
     "data": {
      "text/html": [
       "2.55480530777673"
      ],
      "text/latex": [
       "2.55480530777673"
      ],
      "text/markdown": [
       "2.55480530777673"
      ],
      "text/plain": [
       "[1] 2.554805"
      ]
     },
     "metadata": {},
     "output_type": "display_data"
    }
   ],
   "source": [
    "ncpp = 0.1386005\n",
    "alpha = 2.3860830\n",
    "beta = 0.9286496\n",
    "tirageX = rbeta(n, alpha, beta, ncp=ncpp)*2\n",
    "h <- function(x){\n",
    "    return(g(x)/(dbeta(x/2, alpha, beta, ncp=ncpp)/2))\n",
    "}\n",
    "mean(h(tirageX))"
   ]
  },
  {
   "cell_type": "code",
   "execution_count": null,
   "metadata": {},
   "outputs": [],
   "source": []
  },
  {
   "cell_type": "code",
   "execution_count": null,
   "metadata": {},
   "outputs": [],
   "source": []
  },
  {
   "cell_type": "code",
   "execution_count": null,
   "metadata": {},
   "outputs": [],
   "source": []
  },
  {
   "cell_type": "code",
   "execution_count": null,
   "metadata": {},
   "outputs": [],
   "source": []
  },
  {
   "cell_type": "code",
   "execution_count": 182,
   "metadata": {},
   "outputs": [],
   "source": [
    "help(optim)"
   ]
  },
  {
   "cell_type": "code",
   "execution_count": null,
   "metadata": {},
   "outputs": [],
   "source": []
  },
  {
   "cell_type": "code",
   "execution_count": 115,
   "metadata": {},
   "outputs": [
    {
     "data": {
      "text/html": [
       "<ol class=list-inline>\n",
       "\t<li>0</li>\n",
       "\t<li>0.0101010101010101</li>\n",
       "\t<li>0.0202020202020202</li>\n",
       "\t<li>0.0303030303030303</li>\n",
       "\t<li>0.0404040404040404</li>\n",
       "\t<li>0.0505050505050505</li>\n",
       "\t<li>0.0606060606060606</li>\n",
       "\t<li>0.0707070707070707</li>\n",
       "\t<li>0.0808080808080808</li>\n",
       "\t<li>0.0909090909090909</li>\n",
       "\t<li>0.101010101010101</li>\n",
       "\t<li>0.111111111111111</li>\n",
       "\t<li>0.121212121212121</li>\n",
       "\t<li>0.131313131313131</li>\n",
       "\t<li>0.141414141414141</li>\n",
       "\t<li>0.151515151515152</li>\n",
       "\t<li>0.161616161616162</li>\n",
       "\t<li>0.171717171717172</li>\n",
       "\t<li>0.181818181818182</li>\n",
       "\t<li>0.191919191919192</li>\n",
       "\t<li>0.202020202020202</li>\n",
       "\t<li>0.212121212121212</li>\n",
       "\t<li>0.222222222222222</li>\n",
       "\t<li>0.232323232323232</li>\n",
       "\t<li>0.242424242424242</li>\n",
       "\t<li>0.252525252525253</li>\n",
       "\t<li>0.262626262626263</li>\n",
       "\t<li>0.272727272727273</li>\n",
       "\t<li>0.282828282828283</li>\n",
       "\t<li>0.292929292929293</li>\n",
       "\t<li>0.303030303030303</li>\n",
       "\t<li>0.313131313131313</li>\n",
       "\t<li>0.323232323232323</li>\n",
       "\t<li>0.333333333333333</li>\n",
       "\t<li>0.343434343434343</li>\n",
       "\t<li>0.353535353535354</li>\n",
       "\t<li>0.363636363636364</li>\n",
       "\t<li>0.373737373737374</li>\n",
       "\t<li>0.383838383838384</li>\n",
       "\t<li>0.393939393939394</li>\n",
       "\t<li>0.404040404040404</li>\n",
       "\t<li>0.414141414141414</li>\n",
       "\t<li>0.424242424242424</li>\n",
       "\t<li>0.434343434343434</li>\n",
       "\t<li>0.444444444444444</li>\n",
       "\t<li>0.454545454545455</li>\n",
       "\t<li>0.464646464646465</li>\n",
       "\t<li>0.474747474747475</li>\n",
       "\t<li>0.484848484848485</li>\n",
       "\t<li>0.494949494949495</li>\n",
       "\t<li>0.505050505050505</li>\n",
       "\t<li>0.515151515151515</li>\n",
       "\t<li>0.525252525252525</li>\n",
       "\t<li>0.535353535353535</li>\n",
       "\t<li>0.545454545454546</li>\n",
       "\t<li>0.555555555555556</li>\n",
       "\t<li>0.565656565656566</li>\n",
       "\t<li>0.575757575757576</li>\n",
       "\t<li>0.585858585858586</li>\n",
       "\t<li>0.595959595959596</li>\n",
       "\t<li>0.606060606060606</li>\n",
       "\t<li>0.616161616161616</li>\n",
       "\t<li>0.626262626262626</li>\n",
       "\t<li>0.636363636363636</li>\n",
       "\t<li>0.646464646464647</li>\n",
       "\t<li>0.656565656565657</li>\n",
       "\t<li>0.666666666666667</li>\n",
       "\t<li>0.676767676767677</li>\n",
       "\t<li>0.686868686868687</li>\n",
       "\t<li>0.696969696969697</li>\n",
       "\t<li>0.707070707070707</li>\n",
       "\t<li>0.717171717171717</li>\n",
       "\t<li>0.727272727272727</li>\n",
       "\t<li>0.737373737373737</li>\n",
       "\t<li>0.747474747474748</li>\n",
       "\t<li>0.757575757575758</li>\n",
       "\t<li>0.767676767676768</li>\n",
       "\t<li>0.777777777777778</li>\n",
       "\t<li>0.787878787878788</li>\n",
       "\t<li>0.797979797979798</li>\n",
       "\t<li>0.808080808080808</li>\n",
       "\t<li>0.818181818181818</li>\n",
       "\t<li>0.828282828282828</li>\n",
       "\t<li>0.838383838383838</li>\n",
       "\t<li>0.848484848484849</li>\n",
       "\t<li>0.858585858585859</li>\n",
       "\t<li>0.868686868686869</li>\n",
       "\t<li>0.878787878787879</li>\n",
       "\t<li>0.888888888888889</li>\n",
       "\t<li>0.898989898989899</li>\n",
       "\t<li>0.909090909090909</li>\n",
       "\t<li>0.919191919191919</li>\n",
       "\t<li>0.929292929292929</li>\n",
       "\t<li>0.939393939393939</li>\n",
       "\t<li>0.94949494949495</li>\n",
       "\t<li>0.95959595959596</li>\n",
       "\t<li>0.96969696969697</li>\n",
       "\t<li>0.97979797979798</li>\n",
       "\t<li>0.98989898989899</li>\n",
       "\t<li>1</li>\n",
       "</ol>\n"
      ],
      "text/latex": [
       "\\begin{enumerate*}\n",
       "\\item 0\n",
       "\\item 0.0101010101010101\n",
       "\\item 0.0202020202020202\n",
       "\\item 0.0303030303030303\n",
       "\\item 0.0404040404040404\n",
       "\\item 0.0505050505050505\n",
       "\\item 0.0606060606060606\n",
       "\\item 0.0707070707070707\n",
       "\\item 0.0808080808080808\n",
       "\\item 0.0909090909090909\n",
       "\\item 0.101010101010101\n",
       "\\item 0.111111111111111\n",
       "\\item 0.121212121212121\n",
       "\\item 0.131313131313131\n",
       "\\item 0.141414141414141\n",
       "\\item 0.151515151515152\n",
       "\\item 0.161616161616162\n",
       "\\item 0.171717171717172\n",
       "\\item 0.181818181818182\n",
       "\\item 0.191919191919192\n",
       "\\item 0.202020202020202\n",
       "\\item 0.212121212121212\n",
       "\\item 0.222222222222222\n",
       "\\item 0.232323232323232\n",
       "\\item 0.242424242424242\n",
       "\\item 0.252525252525253\n",
       "\\item 0.262626262626263\n",
       "\\item 0.272727272727273\n",
       "\\item 0.282828282828283\n",
       "\\item 0.292929292929293\n",
       "\\item 0.303030303030303\n",
       "\\item 0.313131313131313\n",
       "\\item 0.323232323232323\n",
       "\\item 0.333333333333333\n",
       "\\item 0.343434343434343\n",
       "\\item 0.353535353535354\n",
       "\\item 0.363636363636364\n",
       "\\item 0.373737373737374\n",
       "\\item 0.383838383838384\n",
       "\\item 0.393939393939394\n",
       "\\item 0.404040404040404\n",
       "\\item 0.414141414141414\n",
       "\\item 0.424242424242424\n",
       "\\item 0.434343434343434\n",
       "\\item 0.444444444444444\n",
       "\\item 0.454545454545455\n",
       "\\item 0.464646464646465\n",
       "\\item 0.474747474747475\n",
       "\\item 0.484848484848485\n",
       "\\item 0.494949494949495\n",
       "\\item 0.505050505050505\n",
       "\\item 0.515151515151515\n",
       "\\item 0.525252525252525\n",
       "\\item 0.535353535353535\n",
       "\\item 0.545454545454546\n",
       "\\item 0.555555555555556\n",
       "\\item 0.565656565656566\n",
       "\\item 0.575757575757576\n",
       "\\item 0.585858585858586\n",
       "\\item 0.595959595959596\n",
       "\\item 0.606060606060606\n",
       "\\item 0.616161616161616\n",
       "\\item 0.626262626262626\n",
       "\\item 0.636363636363636\n",
       "\\item 0.646464646464647\n",
       "\\item 0.656565656565657\n",
       "\\item 0.666666666666667\n",
       "\\item 0.676767676767677\n",
       "\\item 0.686868686868687\n",
       "\\item 0.696969696969697\n",
       "\\item 0.707070707070707\n",
       "\\item 0.717171717171717\n",
       "\\item 0.727272727272727\n",
       "\\item 0.737373737373737\n",
       "\\item 0.747474747474748\n",
       "\\item 0.757575757575758\n",
       "\\item 0.767676767676768\n",
       "\\item 0.777777777777778\n",
       "\\item 0.787878787878788\n",
       "\\item 0.797979797979798\n",
       "\\item 0.808080808080808\n",
       "\\item 0.818181818181818\n",
       "\\item 0.828282828282828\n",
       "\\item 0.838383838383838\n",
       "\\item 0.848484848484849\n",
       "\\item 0.858585858585859\n",
       "\\item 0.868686868686869\n",
       "\\item 0.878787878787879\n",
       "\\item 0.888888888888889\n",
       "\\item 0.898989898989899\n",
       "\\item 0.909090909090909\n",
       "\\item 0.919191919191919\n",
       "\\item 0.929292929292929\n",
       "\\item 0.939393939393939\n",
       "\\item 0.94949494949495\n",
       "\\item 0.95959595959596\n",
       "\\item 0.96969696969697\n",
       "\\item 0.97979797979798\n",
       "\\item 0.98989898989899\n",
       "\\item 1\n",
       "\\end{enumerate*}\n"
      ],
      "text/markdown": [
       "1. 0\n",
       "2. 0.0101010101010101\n",
       "3. 0.0202020202020202\n",
       "4. 0.0303030303030303\n",
       "5. 0.0404040404040404\n",
       "6. 0.0505050505050505\n",
       "7. 0.0606060606060606\n",
       "8. 0.0707070707070707\n",
       "9. 0.0808080808080808\n",
       "10. 0.0909090909090909\n",
       "11. 0.101010101010101\n",
       "12. 0.111111111111111\n",
       "13. 0.121212121212121\n",
       "14. 0.131313131313131\n",
       "15. 0.141414141414141\n",
       "16. 0.151515151515152\n",
       "17. 0.161616161616162\n",
       "18. 0.171717171717172\n",
       "19. 0.181818181818182\n",
       "20. 0.191919191919192\n",
       "21. 0.202020202020202\n",
       "22. 0.212121212121212\n",
       "23. 0.222222222222222\n",
       "24. 0.232323232323232\n",
       "25. 0.242424242424242\n",
       "26. 0.252525252525253\n",
       "27. 0.262626262626263\n",
       "28. 0.272727272727273\n",
       "29. 0.282828282828283\n",
       "30. 0.292929292929293\n",
       "31. 0.303030303030303\n",
       "32. 0.313131313131313\n",
       "33. 0.323232323232323\n",
       "34. 0.333333333333333\n",
       "35. 0.343434343434343\n",
       "36. 0.353535353535354\n",
       "37. 0.363636363636364\n",
       "38. 0.373737373737374\n",
       "39. 0.383838383838384\n",
       "40. 0.393939393939394\n",
       "41. 0.404040404040404\n",
       "42. 0.414141414141414\n",
       "43. 0.424242424242424\n",
       "44. 0.434343434343434\n",
       "45. 0.444444444444444\n",
       "46. 0.454545454545455\n",
       "47. 0.464646464646465\n",
       "48. 0.474747474747475\n",
       "49. 0.484848484848485\n",
       "50. 0.494949494949495\n",
       "51. 0.505050505050505\n",
       "52. 0.515151515151515\n",
       "53. 0.525252525252525\n",
       "54. 0.535353535353535\n",
       "55. 0.545454545454546\n",
       "56. 0.555555555555556\n",
       "57. 0.565656565656566\n",
       "58. 0.575757575757576\n",
       "59. 0.585858585858586\n",
       "60. 0.595959595959596\n",
       "61. 0.606060606060606\n",
       "62. 0.616161616161616\n",
       "63. 0.626262626262626\n",
       "64. 0.636363636363636\n",
       "65. 0.646464646464647\n",
       "66. 0.656565656565657\n",
       "67. 0.666666666666667\n",
       "68. 0.676767676767677\n",
       "69. 0.686868686868687\n",
       "70. 0.696969696969697\n",
       "71. 0.707070707070707\n",
       "72. 0.717171717171717\n",
       "73. 0.727272727272727\n",
       "74. 0.737373737373737\n",
       "75. 0.747474747474748\n",
       "76. 0.757575757575758\n",
       "77. 0.767676767676768\n",
       "78. 0.777777777777778\n",
       "79. 0.787878787878788\n",
       "80. 0.797979797979798\n",
       "81. 0.808080808080808\n",
       "82. 0.818181818181818\n",
       "83. 0.828282828282828\n",
       "84. 0.838383838383838\n",
       "85. 0.848484848484849\n",
       "86. 0.858585858585859\n",
       "87. 0.868686868686869\n",
       "88. 0.878787878787879\n",
       "89. 0.888888888888889\n",
       "90. 0.898989898989899\n",
       "91. 0.909090909090909\n",
       "92. 0.919191919191919\n",
       "93. 0.929292929292929\n",
       "94. 0.939393939393939\n",
       "95. 0.94949494949495\n",
       "96. 0.95959595959596\n",
       "97. 0.96969696969697\n",
       "98. 0.97979797979798\n",
       "99. 0.98989898989899\n",
       "100. 1\n",
       "\n",
       "\n"
      ],
      "text/plain": [
       "  [1] 0.00000000 0.01010101 0.02020202 0.03030303 0.04040404 0.05050505\n",
       "  [7] 0.06060606 0.07070707 0.08080808 0.09090909 0.10101010 0.11111111\n",
       " [13] 0.12121212 0.13131313 0.14141414 0.15151515 0.16161616 0.17171717\n",
       " [19] 0.18181818 0.19191919 0.20202020 0.21212121 0.22222222 0.23232323\n",
       " [25] 0.24242424 0.25252525 0.26262626 0.27272727 0.28282828 0.29292929\n",
       " [31] 0.30303030 0.31313131 0.32323232 0.33333333 0.34343434 0.35353535\n",
       " [37] 0.36363636 0.37373737 0.38383838 0.39393939 0.40404040 0.41414141\n",
       " [43] 0.42424242 0.43434343 0.44444444 0.45454545 0.46464646 0.47474747\n",
       " [49] 0.48484848 0.49494949 0.50505051 0.51515152 0.52525253 0.53535354\n",
       " [55] 0.54545455 0.55555556 0.56565657 0.57575758 0.58585859 0.59595960\n",
       " [61] 0.60606061 0.61616162 0.62626263 0.63636364 0.64646465 0.65656566\n",
       " [67] 0.66666667 0.67676768 0.68686869 0.69696970 0.70707071 0.71717172\n",
       " [73] 0.72727273 0.73737374 0.74747475 0.75757576 0.76767677 0.77777778\n",
       " [79] 0.78787879 0.79797980 0.80808081 0.81818182 0.82828283 0.83838384\n",
       " [85] 0.84848485 0.85858586 0.86868687 0.87878788 0.88888889 0.89898990\n",
       " [91] 0.90909091 0.91919192 0.92929293 0.93939394 0.94949495 0.95959596\n",
       " [97] 0.96969697 0.97979798 0.98989899 1.00000000"
      ]
     },
     "metadata": {},
     "output_type": "display_data"
    }
   ],
   "source": [
    "x = seq(0, 1, len=100)\n",
    "x"
   ]
  },
  {
   "cell_type": "code",
   "execution_count": 140,
   "metadata": {},
   "outputs": [
    {
     "data": {
      "image/png": "[encoded data removed]",
      "text/plain": [
       "plot without title"
      ]
     },
     "metadata": {},
     "output_type": "display_data"
    }
   ],
   "source": [
    "plot(x, dbeta(x, 2, 1, ncp=2), type='l')\n",
    "grid()"
   ]
  },
  {
   "cell_type": "code",
   "execution_count": 139,
   "metadata": {},
   "outputs": [],
   "source": [
    "help(dbeta)"
   ]
  },
  {
   "cell_type": "code",
   "execution_count": null,
   "metadata": {},
   "outputs": [],
   "source": []
  },
  {
   "cell_type": "code",
   "execution_count": null,
   "metadata": {},
   "outputs": [],
   "source": []
  },
  {
   "cell_type": "code",
   "execution_count": null,
   "metadata": {},
   "outputs": [],
   "source": []
  },
  {
   "cell_type": "code",
   "execution_count": null,
   "metadata": {},
   "outputs": [],
   "source": []
  },
  {
   "cell_type": "code",
   "execution_count": null,
   "metadata": {},
   "outputs": [],
   "source": []
  }
 ],
 "metadata": {
  "kernelspec": {
   "display_name": "R",
   "language": "R",
   "name": "ir"
  },
  "language_info": {
   "codemirror_mode": "r",
   "file_extension": ".r",
   "mimetype": "text/x-r-source",
   "name": "R",
   "pygments_lexer": "r",
   "version": "3.4.3"
  }
 },
 "nbformat": 4,
 "nbformat_minor": 2
}
